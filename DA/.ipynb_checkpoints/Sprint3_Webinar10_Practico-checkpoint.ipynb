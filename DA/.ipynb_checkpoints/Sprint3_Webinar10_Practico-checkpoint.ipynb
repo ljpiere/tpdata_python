{
 "cells": [
  {
   "cell_type": "markdown",
   "id": "91aa7ab3",
   "metadata": {},
   "source": [
    "# Sprint 3 · Webinar 10 — Clase Práctica de SQL (RunSQL)\n",
    "\n",
    "**Enfoque:** profundización a partir del cuaderno teórico: KPIs financieros, validación de resultados, reporte y tendencias.\n",
    "\n",
    "**Duración sugerida:** 120–150 min  \n",
    "**Autor:** Tripleten MT\n",
    "\n",
    "> Copia y pega cada bloque SQL en **RunSQL** (dialecto PostgreSQL)."
   ]
  },
  {
   "cell_type": "markdown",
   "id": "b3809933-f79a-4724-8fa1-dc6ce213fd04",
   "metadata": {},
   "source": [
    "<div style=\"text-align: center\">\n",
    "    <img src=\"https://raw.githubusercontent.com/ljpiere/tpdata_python/main/images/w1s1_2.png\" width=\"400\">\n",
    "</div>"
   ]
  },
  {
   "cell_type": "markdown",
   "id": "53a3badd",
   "metadata": {},
   "source": [
    "## Objetivos\n",
    "1. Reforzar KPIs (revenue, cost, gross_profit, margin%) y **ROI**.\n",
    "2. Aplicar **CTEs**, **CASE**, **subconsultas** y **window functions** (LAG, moving average, rankings).\n",
    "3. Practicar **validación y verificación** de resultados (control totals, sanity checks).\n",
    "4. Dar **forma de reporte** a salidas SQL (orden, redondeos, filtros ejecutivos).\n",
    "5. Analizar **tendencias** (por mes, % cambio, rolling).\n",
    "\n",
    "## Agenda\n",
    "0) Configuración rápida RunSQL  \n",
    "1) Reset de esquema y datos extendidos  \n",
    "2) KPIs con CTEs y CASE  \n",
    "3) ROI por canal/campaña  \n",
    "4) Validación y verificación  \n",
    "5) Reportes ejecutivos  \n",
    "6) Tendencias con window functions  \n",
    "7) Ejercicios guiados (+ soluciones)  \n",
    "8) Retos"
   ]
  },
  {
   "cell_type": "markdown",
   "id": "cdaa7ee4",
   "metadata": {},
   "source": [
    "## 0) Configuración rápida RunSQL (Breakout Rooms)\n",
    "\n",
    "Vamos a configurar nuestro entorno en runSQL creando las tablas e insertando los datos. Par esto haremos lo siguiente:\n",
    "1. Abre **runsql.com** y crea un nuevo playground (gratuito).  \n",
    "2. Selecciona **PostgreSQL**.  \n",
    "3. Ejecuta los bloques de la sección 1 en orden.\n",
    "4. Ejecuta los bloques de la sección 2 en orden.\n",
    "5. Has un join entre la tabla SALES y PRODUCTS para validar que todo esté funcionando bien."
   ]
  },
  {
   "cell_type": "markdown",
   "id": "8431f1c8",
   "metadata": {},
   "source": [
    "## 1) Reset y creación de tablas (extendido)\n",
    "Reusaremos el esquema de la sesión anterior y añadiremos una tabla de canales/día para tendencias."
   ]
  },
  {
   "cell_type": "code",
   "execution_count": null,
   "id": "e7c28849",
   "metadata": {},
   "outputs": [],
   "source": [
    "-- 1.1 Reset\n",
    "DROP TABLE IF EXISTS campaign_daily; \n",
    "DROP TABLE IF EXISTS marketing_spend; \n",
    "DROP TABLE IF EXISTS sales; \n",
    "DROP TABLE IF EXISTS products; \n",
    "DROP TABLE IF EXISTS stores;"
   ]
  },
  {
   "cell_type": "code",
   "execution_count": null,
   "id": "131aef86",
   "metadata": {},
   "outputs": [],
   "source": [
    "-- 1.2 stores\n",
    "CREATE TABLE stores (\n",
    "  store_id    INTEGER PRIMARY KEY,\n",
    "  store_name  VARCHAR(80) NOT NULL,\n",
    "  region      VARCHAR(40) NOT NULL\n",
    ");"
   ]
  },
  {
   "cell_type": "code",
   "execution_count": null,
   "id": "4760d62a",
   "metadata": {},
   "outputs": [],
   "source": [
    "-- 1.3 products\n",
    "CREATE TABLE products (\n",
    "  product_id   INTEGER PRIMARY KEY,\n",
    "  product_name VARCHAR(80) NOT NULL,\n",
    "  category     VARCHAR(40) NOT NULL,\n",
    "  unit_cost    NUMERIC(12,2) NOT NULL,\n",
    "  unit_price   NUMERIC(12,2) NOT NULL\n",
    ");"
   ]
  },
  {
   "cell_type": "code",
   "execution_count": null,
   "id": "272be7dd",
   "metadata": {},
   "outputs": [],
   "source": [
    "-- 1.4 sales\n",
    "CREATE TABLE sales (\n",
    "  sale_id    INTEGER PRIMARY KEY,\n",
    "  sale_date  DATE NOT NULL,\n",
    "  store_id   INTEGER NOT NULL REFERENCES stores(store_id),\n",
    "  product_id INTEGER NOT NULL REFERENCES products(product_id),\n",
    "  units      INTEGER NOT NULL CHECK (units >= 0)\n",
    ");"
   ]
  },
  {
   "cell_type": "code",
   "execution_count": null,
   "id": "ab9244a5",
   "metadata": {},
   "outputs": [],
   "source": [
    "-- 1.5 marketing_spend\n",
    "CREATE TABLE marketing_spend (\n",
    "  campaign_id   INTEGER PRIMARY KEY,\n",
    "  campaign_name VARCHAR(80) NOT NULL,\n",
    "  start_date    DATE NOT NULL,\n",
    "  end_date      DATE NOT NULL,\n",
    "  channel       VARCHAR(40) NOT NULL,\n",
    "  spend         NUMERIC(12,2) NOT NULL CHECK (spend >= 0),\n",
    "  store_id      INTEGER NOT NULL REFERENCES stores(store_id)\n",
    ");"
   ]
  },
  {
   "cell_type": "code",
   "execution_count": null,
   "id": "85c87668",
   "metadata": {},
   "outputs": [],
   "source": [
    "-- 1.6 campaign_daily (tracking diario por canal para tendencias)\n",
    "CREATE TABLE campaign_daily (\n",
    "  cd_id        SERIAL PRIMARY KEY,\n",
    "  campaign_id  INTEGER NOT NULL REFERENCES marketing_spend(campaign_id),\n",
    "  day         DATE NOT NULL,\n",
    "  channel     VARCHAR(40) NOT NULL,\n",
    "  impressions INTEGER NOT NULL,\n",
    "  clicks      INTEGER NOT NULL,\n",
    "  spend       NUMERIC(12,2) NOT NULL\n",
    ");"
   ]
  },
  {
   "cell_type": "markdown",
   "id": "1fd2d82a",
   "metadata": {},
   "source": [
    "## 2) Inserción de datos (extendido para tendencias)"
   ]
  },
  {
   "cell_type": "code",
   "execution_count": null,
   "id": "7366b2fc",
   "metadata": {},
   "outputs": [],
   "source": [
    "-- 2.1 stores\n",
    "INSERT INTO stores (store_id, store_name, region) VALUES\n",
    "(1, 'Cali Norte',  'West'),\n",
    "(2, 'Cali Sur',    'West'),\n",
    "(3, 'Bogota Centro','East'),\n",
    "(4, 'Medellin',    'North');"
   ]
  },
  {
   "cell_type": "code",
   "execution_count": null,
   "id": "a55546f2",
   "metadata": {},
   "outputs": [],
   "source": [
    "-- 2.2 products\n",
    "INSERT INTO products (product_id, product_name, category, unit_cost, unit_price) VALUES\n",
    "(101, 'Mouse',        'Accesorios', 12.00, 20.00),\n",
    "(102, 'Teclado',      'Accesorios', 18.00, 30.00),\n",
    "(103, 'Headphones',   'Audio',      35.00, 60.00),\n",
    "(104, 'Tablet 8\"',   'Tablets',    80.00, 120.00);"
   ]
  },
  {
   "cell_type": "code",
   "execution_count": null,
   "id": "4093c697",
   "metadata": {},
   "outputs": [],
   "source": [
    "-- 2.3 sales (Q3-2025 con más filas)\n",
    "INSERT INTO sales (sale_id, sale_date, store_id, product_id, units) VALUES\n",
    "(1,'2025-07-03',1,101,20),(2,'2025-07-07',1,102,18),(3,'2025-07-12',1,103,10),(4,'2025-07-17',1,104,6),\n",
    "(5,'2025-08-02',2,101,22),(6,'2025-08-09',2,104,12),(7,'2025-08-16',2,103,14),(8,'2025-08-23',2,102,15),\n",
    "(9,'2025-09-01',3,101,30),(10,'2025-09-10',3,104,9),(11,'2025-09-18',3,102,20),(12,'2025-09-27',3,103,12),\n",
    "(13,'2025-07-05',4,103,8),(14,'2025-07-19',4,102,14),(15,'2025-08-12',4,101,25),(16,'2025-09-13',4,103,16);"
   ]
  },
  {
   "cell_type": "code",
   "execution_count": null,
   "id": "2219d17e",
   "metadata": {},
   "outputs": [],
   "source": [
    "-- 2.4 marketing_spend (dos campañas por tienda para solape)\n",
    "INSERT INTO marketing_spend (campaign_id, campaign_name, start_date, end_date, channel, spend, store_id) VALUES\n",
    "(201,'BackToSchool','2025-08-01','2025-08-31','Ads',   1200.00,1),\n",
    "(202,'HeadphonesQ3','2025-07-01','2025-09-30','Social', 800.00,2),\n",
    "(203,'TabletFlash', '2025-09-01','2025-09-15','Email',  300.00,3),\n",
    "(204,'Accesorios+', '2025-07-15','2025-08-15','Ads',    600.00,4),\n",
    "(205,'Q3_Remarketing','2025-08-10','2025-09-25','Email', 500.00,1);"
   ]
  },
  {
   "cell_type": "code",
   "execution_count": null,
   "id": "e9381512",
   "metadata": {},
   "outputs": [],
   "source": [
    "-- 2.5 campaign_daily (tracking simulado)\n",
    "INSERT INTO campaign_daily (campaign_id, day, channel, impressions, clicks, spend) VALUES\n",
    "(201,'2025-08-05','Ads',  5000, 300, 120.00),\n",
    "(201,'2025-08-12','Ads',  5500, 320, 160.00),\n",
    "(201,'2025-08-19','Ads',  5800, 350, 220.00),\n",
    "(201,'2025-08-26','Ads',  6000, 360, 300.00),\n",
    "(205,'2025-08-15','Email', 8000, 400, 110.00),\n",
    "(205,'2025-09-05','Email', 8200, 420, 140.00),\n",
    "(205,'2025-09-20','Email', 9000, 480, 150.00),\n",
    "(202,'2025-07-20','Social',7000, 500, 200.00),\n",
    "(202,'2025-08-18','Social',7500, 520, 220.00),\n",
    "(202,'2025-09-15','Social',7800, 540, 240.00),\n",
    "(203,'2025-09-03','Email', 4000, 300, 80.00),\n",
    "(203,'2025-09-10','Email', 4200, 320, 90.00),\n",
    "(203,'2025-09-14','Email', 4300, 330, 100.00),\n",
    "(204,'2025-07-20','Ads',   3000, 180, 90.00),\n",
    "(204,'2025-08-05','Ads',   3500, 210, 120.00);"
   ]
  },
  {
   "cell_type": "markdown",
   "id": "acce8060",
   "metadata": {},
   "source": [
    "## 2bis) KPIs con CTE y CASE\n",
    "Calcular revenue/cost/gross_profit/margin_pct por categoría y marcar salud del margen."
   ]
  },
  {
   "cell_type": "code",
   "execution_count": null,
   "id": "d2cb9cbc",
   "metadata": {},
   "outputs": [],
   "source": [
    "WITH kpis AS (\n",
    "  SELECT p.category,\n",
    "         SUM(s.units * p.unit_price) AS revenue,\n",
    "         SUM(s.units * p.unit_cost)  AS cost\n",
    "  FROM sales s\n",
    "  JOIN products p ON p.product_id = s.product_id\n",
    "  GROUP BY p.category\n",
    ")\n",
    "SELECT category,\n",
    "       revenue,\n",
    "       cost,\n",
    "       (revenue - cost) AS gross_profit,\n",
    "       ROUND(100.0 * (revenue - cost) / NULLIF(revenue,0), 2) AS margin_pct,\n",
    "       CASE\n",
    "         WHEN (revenue - cost)/NULLIF(revenue,0) >= 0.35 THEN 'Excelente'\n",
    "         WHEN (revenue - cost)/NULLIF(revenue,0) >= 0.20 THEN 'Aceptable'\n",
    "         ELSE 'Revisar'\n",
    "       END AS margin_health\n",
    "FROM kpis\n",
    "ORDER BY margin_pct DESC;"
   ]
  },
  {
   "cell_type": "markdown",
   "id": "64a2d8ef",
   "metadata": {},
   "source": [
    "## 3) ROI por canal/campaña (con daily tracking)\n",
    "Atribución simple por ventana + tienda; el gasto usa `campaign_daily` (más granular)."
   ]
  },
  {
   "cell_type": "code",
   "execution_count": null,
   "id": "d4986e9e",
   "metadata": {},
   "outputs": [],
   "source": [
    "WITH sales_attr AS (\n",
    "  SELECT ms.campaign_id, ms.campaign_name, ms.store_id, ms.start_date, ms.end_date,\n",
    "         SUM(s.units * p.unit_price) AS revenue_attr\n",
    "  FROM marketing_spend ms\n",
    "  LEFT JOIN sales s ON s.store_id = ms.store_id AND s.sale_date BETWEEN ms.start_date AND ms.end_date\n",
    "  LEFT JOIN products p ON p.product_id = s.product_id\n",
    "  GROUP BY ms.campaign_id, ms.campaign_name, ms.store_id, ms.start_date, ms.end_date\n",
    "), spend_daily AS (\n",
    "  SELECT cd.campaign_id, SUM(cd.spend) AS spend\n",
    "  FROM campaign_daily cd\n",
    "  GROUP BY cd.campaign_id\n",
    ")\n",
    "SELECT sa.campaign_name,\n",
    "       (SELECT store_name FROM stores WHERE store_id = sa.store_id) AS store,\n",
    "       sa.start_date || ' -> ' || sa.end_date AS window,\n",
    "       COALESCE(sa.revenue_attr,0) AS revenue,\n",
    "       COALESCE(sd.spend,0) AS spend,\n",
    "       ROUND(100.0 * (COALESCE(sa.revenue_attr,0) - COALESCE(sd.spend,0)) / NULLIF(COALESCE(sd.spend,0),0), 2) AS roi_pct\n",
    "FROM sales_attr sa\n",
    "LEFT JOIN spend_daily sd USING (campaign_id)\n",
    "ORDER BY roi_pct DESC NULLS LAST;"
   ]
  },
  {
   "cell_type": "markdown",
   "id": "a7b099d3",
   "metadata": {},
   "source": [
    "## 4) Validación y verificación de resultados\n",
    "### 4.1 Control total: revenue por dos rutas debería coincidir\n",
    "Ruta A: sumar `units*price` en `sales`×`products`.  \n",
    "Ruta B: sumar revenue por producto y luego totalizar."
   ]
  },
  {
   "cell_type": "code",
   "execution_count": null,
   "id": "27ecc2c5",
   "metadata": {},
   "outputs": [],
   "source": [
    "-- Ruta A (total directo)\n",
    "SELECT SUM(s.units * p.unit_price) AS total_revenue_A\n",
    "FROM sales s JOIN products p ON p.product_id = s.product_id;"
   ]
  },
  {
   "cell_type": "code",
   "execution_count": null,
   "id": "dbc75642",
   "metadata": {},
   "outputs": [],
   "source": [
    "-- Ruta B (por producto y luego suma)\n",
    "WITH by_prod AS (\n",
    "  SELECT p.product_id, SUM(s.units * p.unit_price) AS revenue\n",
    "  FROM sales s JOIN products p ON p.product_id = s.product_id\n",
    "  GROUP BY p.product_id\n",
    ")\n",
    "SELECT SUM(revenue) AS total_revenue_B FROM by_prod;"
   ]
  },
  {
   "cell_type": "markdown",
   "id": "50bcd6b7",
   "metadata": {},
   "source": [
    "### 4.2 Sanity checks\n",
    "- `units >= 0`  \n",
    "- precios/costos positivos  \n",
    "- fechas dentro de Q3-2025"
   ]
  },
  {
   "cell_type": "code",
   "execution_count": null,
   "id": "cf1bb3c3",
   "metadata": {},
   "outputs": [],
   "source": [
    "SELECT \n",
    "  SUM(CASE WHEN units < 0 THEN 1 ELSE 0 END) AS bad_units,\n",
    "  SUM(CASE WHEN unit_price <= 0 OR unit_cost <= 0 THEN 1 ELSE 0 END) AS bad_prices,\n",
    "  SUM(CASE WHEN sale_date < '2025-07-01' OR sale_date > '2025-09-30' THEN 1 ELSE 0 END) AS out_of_range\n",
    "FROM sales s JOIN products p ON p.product_id = s.product_id;"
   ]
  },
  {
   "cell_type": "markdown",
   "id": "13884f30",
   "metadata": {},
   "source": [
    "## 5) Salidas con forma de reporte (orden/formatos)\n",
    "Top categorías por margen, 2 decimales, orden descendente."
   ]
  },
  {
   "cell_type": "code",
   "execution_count": null,
   "id": "ffb9ed76",
   "metadata": {},
   "outputs": [],
   "source": [
    "SELECT p.category,\n",
    "       ROUND(SUM(s.units * p.unit_price),2) AS revenue,\n",
    "       ROUND(SUM(s.units * p.unit_cost),2)  AS cost,\n",
    "       ROUND(SUM(s.units * p.unit_price) - SUM(s.units * p.unit_cost),2) AS gross_profit,\n",
    "       ROUND(100.0 * (SUM(s.units * p.unit_price) - SUM(s.units * p.unit_cost)) / NULLIF(SUM(s.units * p.unit_price),0),2) AS margin_pct\n",
    "FROM sales s JOIN products p ON p.product_id = s.product_id\n",
    "GROUP BY p.category\n",
    "ORDER BY margin_pct DESC, revenue DESC;"
   ]
  },
  {
   "cell_type": "markdown",
   "id": "550997ba",
   "metadata": {},
   "source": [
    "## 6) Tendencias con window functions\n",
    "### 6.1 Revenue mensual\n",
    "### 6.2 % cambio vs mes anterior (LAG)\n",
    "### 6.3 Media móvil 3 puntos (AVG OVER ... ROWS 2 PRECEDING)"
   ]
  },
  {
   "cell_type": "code",
   "execution_count": null,
   "id": "0908fb17",
   "metadata": {},
   "outputs": [],
   "source": [
    "-- 6.1 Revenue mensual\n",
    "WITH rev AS (\n",
    "  SELECT DATE_TRUNC('month', sale_date) AS month,\n",
    "         SUM(s.units * p.unit_price) AS revenue\n",
    "  FROM sales s JOIN products p ON p.product_id = s.product_id\n",
    "  GROUP BY 1\n",
    ")\n",
    "SELECT month, revenue\n",
    "FROM rev\n",
    "ORDER BY month;"
   ]
  },
  {
   "cell_type": "code",
   "execution_count": null,
   "id": "d708f5e0",
   "metadata": {},
   "outputs": [],
   "source": [
    "-- 6.2 % cambio vs mes anterior\n",
    "WITH rev AS (\n",
    "  SELECT DATE_TRUNC('month', sale_date) AS month,\n",
    "         SUM(s.units * p.unit_price) AS revenue\n",
    "  FROM sales s JOIN products p ON p.product_id = s.product_id\n",
    "  GROUP BY 1\n",
    ")\n",
    "SELECT month,\n",
    "       revenue,\n",
    "       ROUND(100.0 * (revenue - LAG(revenue) OVER (ORDER BY month)) / NULLIF(LAG(revenue) OVER (ORDER BY month),0), 2) AS pct_change\n",
    "FROM rev\n",
    "ORDER BY month;"
   ]
  },
  {
   "cell_type": "code",
   "execution_count": null,
   "id": "4da3a4f2",
   "metadata": {},
   "outputs": [],
   "source": [
    "-- 6.3 Media móvil de 3 puntos\n",
    "WITH daily AS (\n",
    "  SELECT sale_date::date AS day,\n",
    "         SUM(s.units * p.unit_price) AS revenue\n",
    "  FROM sales s JOIN products p ON p.product_id = s.product_id\n",
    "  GROUP BY 1\n",
    ")\n",
    "SELECT day,\n",
    "       revenue,\n",
    "       ROUND(AVG(revenue) OVER (ORDER BY day ROWS BETWEEN 2 PRECEDING AND CURRENT ROW), 2) AS ma3\n",
    "FROM daily\n",
    "ORDER BY day;"
   ]
  },
  {
   "cell_type": "markdown",
   "id": "ee649302",
   "metadata": {},
   "source": [
    "### 6.4 Ranking: Top N por tienda\n",
    "Usa ROW_NUMBER() para quedarte con el top 2 productos por revenue en cada tienda."
   ]
  },
  {
   "cell_type": "code",
   "execution_count": null,
   "id": "3286f479",
   "metadata": {},
   "outputs": [],
   "source": [
    "WITH by_store_prod AS (\n",
    "  SELECT s.store_id, p.product_name,\n",
    "         SUM(s.units * p.unit_price) AS revenue\n",
    "  FROM sales s JOIN products p ON p.product_id = s.product_id\n",
    "  GROUP BY s.store_id, p.product_name\n",
    "), ranked AS (\n",
    "  SELECT (SELECT store_name FROM stores WHERE store_id = b.store_id) AS store,\n",
    "         b.product_name, b.revenue,\n",
    "         ROW_NUMBER() OVER (PARTITION BY b.store_id ORDER BY b.revenue DESC) AS rn\n",
    "  FROM by_store_prod b\n",
    ")\n",
    "SELECT * FROM ranked WHERE rn <= 2 ORDER BY store, revenue DESC;"
   ]
  },
  {
   "cell_type": "markdown",
   "id": "457584cf",
   "metadata": {},
   "source": [
    "## 7) Ejercicios guiados (RunSQL)\n",
    "Resuelve y luego compara con la solución."
   ]
  },
  {
   "cell_type": "markdown",
   "id": "bb824922",
   "metadata": {},
   "source": [
    "### Ejercicio 7.1 — Margen por tienda con semáforo (CASE)\n",
    "Enunciado: calcula revenue, cost, margin_pct por tienda y agrega un semáforo: 'verde' ≥ 25%, 'amarillo' 15–25%, 'rojo' < 15%."
   ]
  },
  {
   "cell_type": "code",
   "execution_count": null,
   "id": "a26639a3",
   "metadata": {},
   "outputs": [],
   "source": [
    "-- Tu consulta aquí"
   ]
  },
  {
   "cell_type": "markdown",
   "id": "c7da37c1",
   "metadata": {},
   "source": [
    "**Solución propuesta:**"
   ]
  },
  {
   "cell_type": "code",
   "execution_count": null,
   "id": "e3c46c35",
   "metadata": {},
   "outputs": [],
   "source": [
    "SELECT st.store_name,\n",
    "       SUM(s.units * p.unit_price) AS revenue,\n",
    "       SUM(s.units * p.unit_cost)  AS cost,\n",
    "       ROUND(100.0 * (SUM(s.units * p.unit_price) - SUM(s.units * p.unit_cost)) / NULLIF(SUM(s.units * p.unit_price),0), 2) AS margin_pct,\n",
    "       CASE WHEN (SUM(s.units * p.unit_price) - SUM(s.units * p.unit_cost))/NULLIF(SUM(s.units * p.unit_price),0) >= 0.25 THEN 'verde'\n",
    "            WHEN (SUM(s.units * p.unit_price) - SUM(s.units * p.unit_cost))/NULLIF(SUM(s.units * p.unit_price),0) >= 0.15 THEN 'amarillo'\n",
    "            ELSE 'rojo' END AS semaforo\n",
    "FROM sales s JOIN products p ON p.product_id = s.product_id\n",
    "JOIN stores st ON st.store_id = s.store_id\n",
    "GROUP BY st.store_name\n",
    "ORDER BY margin_pct DESC;"
   ]
  },
  {
   "cell_type": "markdown",
   "id": "4ccf2a4a",
   "metadata": {},
   "source": [
    "### Ejercicio 7.2 — ROI por canal (agregado) y top canal\n",
    "Enunciado: agrega spend de `campaign_daily` por canal y calcula revenue atribuido aproximado por canal (usando ventanas de cada campaña). ¿Cuál es el mejor canal por ROI?"
   ]
  },
  {
   "cell_type": "code",
   "execution_count": null,
   "id": "51b1f8b2",
   "metadata": {},
   "outputs": [],
   "source": [
    "-- Tu consulta aquí"
   ]
  },
  {
   "cell_type": "markdown",
   "id": "ff1c3c05",
   "metadata": {},
   "source": [
    "**Solución propuesta:**"
   ]
  },
  {
   "cell_type": "code",
   "execution_count": null,
   "id": "e2ab713e",
   "metadata": {},
   "outputs": [],
   "source": [
    "WITH sales_attr AS (\n",
    "  SELECT ms.campaign_id, ms.channel,\n",
    "         SUM(s.units * p.unit_price) AS revenue\n",
    "  FROM marketing_spend ms\n",
    "  LEFT JOIN sales s ON s.store_id = ms.store_id AND s.sale_date BETWEEN ms.start_date AND ms.end_date\n",
    "  LEFT JOIN products p ON p.product_id = s.product_id\n",
    "  GROUP BY ms.campaign_id, ms.channel\n",
    "), spend_by_channel AS (\n",
    "  SELECT channel, SUM(spend) AS spend\n",
    "  FROM campaign_daily\n",
    "  GROUP BY channel\n",
    "), revenue_by_channel AS (\n",
    "  SELECT channel, SUM(revenue) AS revenue\n",
    "  FROM sales_attr\n",
    "  GROUP BY channel\n",
    ")\n",
    "SELECT r.channel,\n",
    "       COALESCE(r.revenue,0) AS revenue,\n",
    "       COALESCE(s.spend,0)   AS spend,\n",
    "       ROUND(100.0 * (COALESCE(r.revenue,0) - COALESCE(s.spend,0)) / NULLIF(COALESCE(s.spend,0),0),2) AS roi_pct\n",
    "FROM revenue_by_channel r\n",
    "LEFT JOIN spend_by_channel s USING (channel)\n",
    "ORDER BY roi_pct DESC NULLS LAST;"
   ]
  },
  {
   "cell_type": "markdown",
   "id": "02b2b8ba",
   "metadata": {},
   "source": [
    "### Ejercicio 7.3 — % cambio mensual y detección de caída\n",
    "Enunciado: calcula revenue mensual y el % cambio vs mes anterior; marca con CASE cuando la caída sea peor que -15%."
   ]
  },
  {
   "cell_type": "code",
   "execution_count": null,
   "id": "a8a6a050",
   "metadata": {},
   "outputs": [],
   "source": [
    "-- Tu consulta aquí"
   ]
  },
  {
   "cell_type": "markdown",
   "id": "92460ecb",
   "metadata": {},
   "source": [
    "**Solución propuesta:**"
   ]
  },
  {
   "cell_type": "code",
   "execution_count": null,
   "id": "0ce605e0",
   "metadata": {},
   "outputs": [],
   "source": [
    "WITH rev AS (\n",
    "  SELECT DATE_TRUNC('month', sale_date) AS month,\n",
    "         SUM(s.units * p.unit_price) AS revenue\n",
    "  FROM sales s JOIN products p ON p.product_id = s.product_id\n",
    "  GROUP BY 1\n",
    ")\n",
    "SELECT month, revenue,\n",
    "       ROUND(100.0 * (revenue - LAG(revenue) OVER (ORDER BY month)) / NULLIF(LAG(revenue) OVER (ORDER BY month),0),2) AS pct_change,\n",
    "       CASE WHEN (revenue - LAG(revenue) OVER (ORDER BY month)) / NULLIF(LAG(revenue) OVER (ORDER BY month),0) < -0.15 THEN 'alerta'\n",
    "            ELSE 'ok' END AS flag\n",
    "FROM rev\n",
    "ORDER BY month;"
   ]
  },
  {
   "cell_type": "markdown",
   "id": "57278a5a",
   "metadata": {},
   "source": [
    "## 8) Retos (opcional)\n",
    "1) **Cohortes por tienda**: primera compra del trimestre y revenue acumulado por tienda (usar MIN(sale_date) OVER PARTITION y SUM OVER).  \n",
    "2) **Basket mix simple**: por tienda, top 1 categoría por revenue/costo y % participación.  \n",
    "3) **Atribución alternativa**: reparte revenue de ventas en ventanas solapadas proporcionalmente al gasto diario de cada campaña (pista: unir sales con campaign_daily por fecha y tienda; normaliza gasto por día)."
   ]
  },
  {
   "cell_type": "markdown",
   "id": "cdea0557-ff2d-4843-8dbf-e49d4ecd824f",
   "metadata": {},
   "source": [
    "## Cierre\n",
    "- Guarda tus consultas clave en un script comentado.\n",
    "- Exporta una tabla final y redacta una recomendación ejecutiva.\n",
    "- **Tarea:** rehacer los ejercicios usando tus propias tablas reales si existen.\n",
    "\n",
    "## Siguientes Pasos\n",
    "- **Próxima sesión:** Iniciaremos con el sprint número 4.\n",
    "- **Participación continua:** asistir a Co-Learning y a Sprint Focus, y usar los canales de Discord para hacer preguntas.\n",
    "- **Recordatorios:** la grabación y recursos utilizados, se comparten al finalizar la sesión; en caso de necesitar apoyo adicional, agenda un 1:1.\n"
   ]
  },
  {
   "cell_type": "markdown",
   "id": "218505bd",
   "metadata": {},
   "source": [
    "---\n",
    "\n",
    "**Generado:** 2025-10-20 22:24 · Listo para RunSQL (PostgreSQL)."
   ]
  }
 ],
 "metadata": {
  "kernelspec": {
   "display_name": "Python 3 (ipykernel)",
   "language": "python",
   "name": "python3"
  },
  "language_info": {
   "codemirror_mode": {
    "name": "ipython",
    "version": 3
   },
   "file_extension": ".py",
   "mimetype": "text/x-python",
   "name": "python",
   "nbconvert_exporter": "python",
   "pygments_lexer": "ipython3",
   "version": "3.12.3"
  }
 },
 "nbformat": 4,
 "nbformat_minor": 5
}
