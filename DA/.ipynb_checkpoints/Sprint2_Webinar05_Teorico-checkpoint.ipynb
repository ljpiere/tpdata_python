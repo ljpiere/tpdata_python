{
 "cells": [
  {
   "cell_type": "markdown",
   "id": "1d0d13eb",
   "metadata": {},
   "source": [
    "# Sprint 2 - Webinar 5 (Parte 1 de 2): PivotTables y Visualización (Excel/Google Sheets)\n",
    "**Fecha:** 2025-09-16  \n",
    "**Dataset:** `sp2_w5_almacen_ventas.xlsx` (adjunto)  \n",
    "**Herramientas:** Excel o Google Sheets (sin Python/pandas)  \n",
    "**Nivel:** Intermedio  \n",
    "**Duración total:** 120 minutos"
   ]
  },
  {
   "cell_type": "markdown",
   "id": "95fbde8e-ce1e-4ad9-9007-3e7f45a023af",
   "metadata": {},
   "source": [
    "<div style=\"text-align: center\">\n",
    "    <img src=\"https://raw.githubusercontent.com/ljpiere/tpdata_python/main/images/w1s1_2.png\" width=\"400\">\n",
    "</div>"
   ]
  },
  {
   "cell_type": "markdown",
   "id": "1652d1d1",
   "metadata": {},
   "source": [
    "## Objetivos de aprendizaje\n",
    "- Construir y personalizar PivotTables para agrupar y resumir datos.  \n",
    "- Filtrar, ordenar y aplicar diferentes cálculos (SUM, COUNT, AVERAGE, MAX, MIN).  \n",
    "- Interpretar resultados y convertirlos en hallazgos para negocio.  \n",
    "- Crear gráficos apropiados y usar formato condicional para resaltar valores clave.  \n",
    "- Diseñar una pestaña-resumen tipo mini dashboard.  \n",
    "- Usar LLMs (ChatGPT/Claude) como apoyo para agregaciones **con criterio y cautela**."
   ]
  },
  {
   "cell_type": "markdown",
   "id": "b883d6cc",
   "metadata": {},
   "source": [
    "## Agenda (120 min)\n",
    "1) **PivotTables – fundamentos y primera tabla dinámica** (25 min)  \n",
    "2) **Filtrado y orden dentro de la PivotTable** (15 min)  \n",
    "3) **Cálculos y múltiples métricas** (20 min)  \n",
    "4) **Refinar el layout e interpretar resultados** (10 min)  \n",
    "5) **AI 🤖 LLMs para filtrar/agregar (con riesgos)** (10 min)  \n",
    "6) **Gráficos correctos y narrativa** (15 min)  \n",
    "7) **Formato condicional para resaltar** (10 min)  \n",
    "8) **Mini dashboard de resumen** (10 min)  \n",
    "9) **Comunicar hallazgos en una diapositiva** (5 min)\n"
   ]
  },
  {
   "cell_type": "markdown",
   "id": "cdf2eaea",
   "metadata": {},
   "source": [
    "## Preparación (antes de la clase)\n",
    "- Descarga/abre `sp2_w5_almacen_ventas.xlsx` en Excel o súbelo a Google Drive y ábrelo en Sheets.  \n",
    "- Verifica que las columnas tengan tipos coherentes: fechas, categorías (región, producto), números (unidades, ventas).  \n",
    "- Crea una pestaña nueva llamada **`Pivot_Trabajo`** y otra **`Resumen`** para el dashboard final."
   ]
  },
  {
   "cell_type": "markdown",
   "id": "52a8e240",
   "metadata": {},
   "source": [
    "# 4. Analyzing Data with PivotTables (Dataset: `sp2_w5_almacen_ventas.xlsx`)\n",
    "\n",
    "Usaremos la hoja **`Raw Data`** con columnas:\n",
    "- **Date**, **Region**, **Product**, **Units_Sold**, **Unit_Price**, **Salesperson**, **Total_Sales**.\n",
    "\n",
    "**Por qué importa (teoría):** una tabla dinámica estima **estadísticos** (SUM, AVG, COUNT, %) por **dimensiones** (Date/Region/Product/Salesperson) para condensar transacciones en **KPIs**. Esto reduce dimensionalidad, facilita comparar grupos y detectar patrones/outliers—paso clave del **análisis descriptivo**.\n"
   ]
  },
  {
   "cell_type": "markdown",
   "id": "a1a138c3",
   "metadata": {},
   "source": [
    "## 4.1 Building Your First PivotTable (25 min)\n",
    "\n",
    "**Pregunta guía:** *¿Qué **Regiones** y **Productos** explican más **Total_Sales**?*\n",
    "\n",
    "**Paso a paso en Google Sheets:**\n",
    "1) Importa el XLSX a Google Drive y abre en **Sheets**.  \n",
    "2) Ve a la hoja **`Raw Data`**. Selecciona todo el rango con encabezados (A:G).  \n",
    "3) **Insertar → Tabla dinámica** → *Nueva hoja*.  \n",
    "4) En el panel de la tabla dinámica:  \n",
    "   - **Filas** → **Region**.  \n",
    "   - **Columnas** → **Product** (opcional si deseas matriz Region×Product).  \n",
    "   - **Valores** → **Total_Sales** como **SUMA**.  \n",
    "5) Activa **Mostrar totales**.  \n",
    "6) QA rápido: el **Total general** debe coincidir con `=SUM('Raw Data'!G:G)` (columna **Total_Sales**).\n",
    "\n",
    "**Notas teóricas:** esta agregación estima el **tamaño total** por grupo (suficiente para priorizar top performers)."
   ]
  },
  {
   "cell_type": "markdown",
   "id": "83d31b2e",
   "metadata": {},
   "source": [
    "## 4.2 Filtering and Sorting Inside PivotTables (15 min)\n",
    "\n",
    "**Objetivo:** Enfocarnos en lo relevante (tiempo/segmentos) y ordenar por contribución.\n",
    "\n",
    "**Paso a paso en Google Sheets:**\n",
    "1) **Filtro por fecha:** agrega **Date** a **Filtros** → *Entre* → selecciona un rango (p.ej., 2024-01-01 a 2024-03-31).  \n",
    "2) **Filtro por vendedor:** agrega **Salesperson** a **Filtros** si deseas excluir cuentas de prueba.  \n",
    "3) **Ordenar:** en **Valores**, usa el menú de tres puntos → **Ordenar por SUM de Total_Sales (desc)** para ver **top regiones/productos**.\n",
    "\n",
    "**Tip QA:** guarda los criterios aplicados (rango de fechas, exclusiones) en una hoja `change_log`."
   ]
  },
  {
   "cell_type": "markdown",
   "id": "2bd2905e",
   "metadata": {},
   "source": [
    "## 4.3 Summarizing with Different Calculations (20 min)\n",
    "\n",
    "**Preguntas guía:**  \n",
    "- ¿Cuál es el **ticket promedio** (ingreso por unidad) por Region/Product?  \n",
    "- ¿Qué % del total aporta cada Región?\n",
    "\n",
    "**Paso a paso en Google Sheets:**\n",
    "1) En la misma tabla dinámica (o crea otra):  \n",
    "   - **Valores → Total_Sales** como **SUMA** (Ingresos).  \n",
    "   - **Valores → Units_Sold** como **SUMA** (Volumen).  \n",
    "2) **Ticket promedio** (dos alternativas):  \n",
    "   - **Fácil (tabla dinámica):** agrega **Total_Sales** como **SUMA** y **Units_Sold** como **SUMA** y crea un **Campo calculado**:  \n",
    "     - `TicketProm = Total_Sales / Units_Sold`  \n",
    "   - **Fuera de la Pivot (hoja normal):** usa una tabla auxiliar con `=SUMIFS('Raw Data'!G:G,'Raw Data'!B:B,A2,'Raw Data'!C:C,B2) / SUMIFS('Raw Data'!D:D,'Raw Data'!B:B,A2,'Raw Data'!C:C,B2)`  \n",
    "     (donde **B** es Region, **C** Product, **D** Units_Sold, **G** Total_Sales).  \n",
    "3) **% del total** (participación): en la Pivot, si tu editor lo permite, usa **Mostrar como → % del total** sobre **Total_Sales**; si no, crea un **Campo calculado**:  \n",
    "   - `PctTotal = Total_Sales / (Total de Total_Sales)`  \n",
    "   - O fuera de la Pivot: `=Ingresos_grupo / SUM('Raw Data'!G:G)`.\n",
    "\n",
    "**Interpretación:** identifica **segmentos con alto ticket pero bajo volumen** (nicho premium) vs **alto volumen y bajo ticket** (masivo)."
   ]
  },
  {
   "cell_type": "markdown",
   "id": "0aa1cc07",
   "metadata": {},
   "source": [
    "## 4.4 Refining Layout & Interpreting Results (10 min)\n",
    "\n",
    "**Layout sugerido:**\n",
    "- **Filas:** Region → Product (jerarquía).  \n",
    "- **Valores:** SUM(Total_Sales), SUM(Units_Sold), Campo calculado `TicketProm`.  \n",
    "- **Totales y subtotales** activos.  \n",
    "- **Formato numérico:** moneda para Total_Sales y TicketProm.\n",
    "\n",
    "**Cuadro de hallazgos (añade un cuadro de texto al lado):**\n",
    "1) Top 3 regiones por ingresos y su % del total.  \n",
    "2) Producto con **mayor ticket** en cada región.  \n",
    "3) Hipótesis: ¿pricing? ¿mix? ¿promociones? ¿disponibilidad?"
   ]
  },
  {
   "cell_type": "markdown",
   "id": "f33b36d4",
   "metadata": {},
   "source": [
    "## 4.5 AI 🤖 Using LLMs to Propose Cuts/QA (10 min)\n",
    "\n",
    "**Prompts útiles:**\n",
    "- “Sugiéreme 3 cortes adicionales (Date→mes, Salesperson, Region×Product) para explicar variaciones de `Total_Sales`.”  \n",
    "- “¿Qué **sesgos** o **data quality issues** podrían afectar esta Pivot?”  \n",
    "Verifica siempre con cálculos en Sheets (**nunca** aceptes números sin confirmarlos)."
   ]
  },
  {
   "cell_type": "markdown",
   "id": "ee78146c",
   "metadata": {},
   "source": [
    "# 5. Visualizing and Highlighting Key Insights (Dataset específico)\n",
    "\n",
    "Trabajaremos con **Total_Sales**, **Units_Sold**, **TicketProm** y las dimensiones **Date**, **Region**, **Product**, **Salesperson**.\n",
    "\n",
    "**Teoría:** elige el gráfico según la **tarea** (comparar, seguir tendencia, ver composición). Evita saturación (top-10) y etiquetas innecesarias.\n"
   ]
  },
  {
   "cell_type": "markdown",
   "id": "be943b9b",
   "metadata": {},
   "source": [
    "## 5.1 Right Chart for the Question (15 min)\n",
    "\n",
    "**Configuraciones concretas en Sheets:**\n",
    "- **Comparación por categoría (Top-10 productos por ingresos):**  \n",
    "  1) Crea una tabla de apoyo con las 10 mayores ventas por `Product`:  \n",
    "     - Ordena una Pivot por **SUM(Total_Sales)** y filtra **Top 10** (o usa `=SORT(N(LISTA); -1)` si prefieres fórmulas).  \n",
    "  2) **Insertar → Gráfico → Barras**. Eje X: Total_Sales; Eje Y: Product.\n",
    "\n",
    "- **Tendencia temporal (ingresos mensuales):**  \n",
    "  1) Agrega columna auxiliar **Month** en `Raw Data`:  \n",
    "     - En H2: `=EOMONTH(A2,0)` o `=DATE(YEAR(A2),MONTH(A2),1)` para inicio de mes.  \n",
    "  2) Pivot: **Filas → Month**, **Valores → SUM(Total_Sales)**.  \n",
    "  3) **Insertar → Gráfico → Líneas**.\n",
    "\n",
    "- **Composición (Region dentro del total):**  \n",
    "  1) Pivot: **Filas → Region**, **Valores → SUM(Total_Sales)**.  \n",
    "  2) **Gráfico → Barras apiladas** (mejor que pastel si >5 categorías)."
   ]
  },
  {
   "cell_type": "markdown",
   "id": "350f11c5",
   "metadata": {},
   "source": [
    "## 5.2 Conditional Formatting to Surface Outliers (10 min)\n",
    "\n",
    "**Ejemplos prácticos en Sheets:**\n",
    "1) En una tabla de `Total_Sales` por Region, aplica **Formato → Formato condicional → Escala de color** (del p10 al p90).  \n",
    "2) Umbral KPI: resalta celdas > objetivo trimestral (por ejemplo, `> 120000`).  \n",
    "3) Outliers de ticket: en la tabla con `TicketProm`, resalta valores > p90 o < p10 (usa **Percentiles** si tu Sheets lo permite).  \n",
    "4) Añade nota: “Reglas aplicadas y fecha de cálculo”."
   ]
  },
  {
   "cell_type": "markdown",
   "id": "2a0719f6",
   "metadata": {},
   "source": [
    "## 5.3 Simple Summary Dashboard (10 min)\n",
    "\n",
    "**Estructura:**\n",
    "- Hoja `dashboard` con:  \n",
    "  - **KPI 1 — Ingresos (rango de fechas):**  \n",
    "    `=SUMIFS('Raw Data'!G:G, 'Raw Data'!A:A, \">=\"&$B$1, 'Raw Data'!A:A, \"<=\"&$B$2)`  \n",
    "    (donde **B1** = fecha inicio, **B2** = fecha fin).  \n",
    "  - **KPI 2 — Ticket promedio:**  \n",
    "    `=SUM('Raw Data'!G:G)/SUM('Raw Data'!D:D)`  \n",
    "  - **Barras Top-10 productos** por ingresos (gráfico vinculado a tabla auxiliar).  \n",
    "  - **Línea** de ingresos mensuales (desde la Pivot por `Month`).  \n",
    "  - **Tabla dinámica** por Region con SUM(Total_Sales), SUM(Units_Sold), `TicketProm`.\n",
    "\n",
    "- **Segmentadores (Slicers):** **Datos → Segmentador** para `Region` y `Salesperson`.  \n",
    "- **Tema visual:** títulos claros, sin rebasar 3–4 colores, formato moneda/fecha coherente."
   ]
  },
  {
   "cell_type": "markdown",
   "id": "874fb286",
   "metadata": {},
   "source": [
    "## 5.4 Communicating Insights (5 min)\n",
    "\n",
    "En `resumen`, escribe 3 bullets:\n",
    "1) **Qué pasó:** p.ej., “West y North concentran 62% de ingresos; enero es el pico mensual”.  \n",
    "2) **Por qué:** hipótesis (mix de productos, precios, promociones, vendedores).  \n",
    "3) **Qué hacer:** acciones con **responsable y fecha** (reposición, bundles, objetivo de ticket)."
   ]
  },
  {
   "cell_type": "markdown",
   "id": "950bfd48",
   "metadata": {},
   "source": [
    "## Evaluación rápida (auto-chequeo)\n",
    "- [ ] ¿Tu PivotTable 4.1 muestra ventas por **región x categoría**?\n",
    "- [ ] ¿Aplicaste filtros/orden para mostrar **Top 3** categorías por región (4.2)?\n",
    "- [ ] ¿Incluiste **dos métricas** (unidades y promedio) en la misma tabla (4.3)?\n",
    "- [ ] ¿Refinaste el layout y escribiste un **resumen ejecutivo** (4.4)?\n",
    "- [ ] ¿Replicaste una agregación con un **LLM** y comparaste resultados (4.5)?\n",
    "- [ ] ¿Creaste un **gráfico** claro con títulos/etiquetas (5.1)?\n",
    "- [ ] ¿Aplicaste **formato condicional** para resaltar desempeño (5.2)?\n",
    "- [ ] ¿Armastes un **mini dashboard** (5.3)?\n",
    "- [ ] ¿Redactaste **2–3 insights** y una **slide** (5.4)?"
   ]
  },
  {
   "cell_type": "markdown",
   "id": "d07f6b1a",
   "metadata": {},
   "source": [
    "## Rúbrica sugerida (10 pts)\n",
    "- PivotTables correctas y filtrado/orden (4 pts).  \n",
    "- Cálculos múltiples y layout claro (2 pts).  \n",
    "- Gráfico + formato condicional (2 pts).  \n",
    "- Dashboard + comunicación de insights (2 pts)."
   ]
  },
  {
   "cell_type": "markdown",
   "id": "4f90c23c",
   "metadata": {},
   "source": [
    "## Tips y buenas prácticas\n",
    "- Nombra tus campos de forma clara; guarda versiones.  \n",
    "- Prefiere **tablas** (Ctrl/Cmd+T) como origen de datos para rango dinámico.  \n",
    "- Documenta filtros aplicados (fecha, región) al exportar.  \n",
    "- En Sheets, usa **Slicers** para filtros visuales en dashboards.  \n",
    "- Evita sobrecargar gráficos; menos es más.  \n",
    "- Con LLMs: pega **muestras**, no toda la base; valida siempre contra Excel/Sheets."
   ]
  },
  {
   "cell_type": "markdown",
   "id": "12719b5f",
   "metadata": {},
   "source": [
    "## (Opcional) Guía de solución breve\n",
    "<details>\n",
    "<summary>Ver guía</summary>\n",
    "\n",
    "**4.1**: Región→Filas, Categoría→Columnas, Ventas→Valores (SUM).  \n",
    "**4.2**: Filtro por fecha, Ordenar por Ventas desc., Top 3 por valor.  \n",
    "**4.3**: Añade Unidades (SUM) y Ventas (AVERAGE) en Valores; prueba % del total.  \n",
    "**4.4**: Diseño tabular, renombrar y formato COP; 2–3 frases de hallazgos.  \n",
    "**4.5**: Prompt LLM con condición (región=‘Norte’); compara con Excel.  \n",
    "**5.1**: Gráfico columnas o líneas por mes–región; etiquetas claras.  \n",
    "**5.2**: Reglas Top/Umbral + semáforos.  \n",
    "**5.3**: KPIs (SUM Ventas, Promedio Ticket, Top Región) + 1 gráfico.  \n",
    "**5.4**: Redacción con contexto→hallazgo→implicación; 1 slide.\n",
    "\n",
    "</details>"
   ]
  }
 ],
 "metadata": {
  "kernelspec": {
   "display_name": "Python 3 (ipykernel)",
   "language": "python",
   "name": "python3"
  },
  "language_info": {
   "codemirror_mode": {
    "name": "ipython",
    "version": 3
   },
   "file_extension": ".py",
   "mimetype": "text/x-python",
   "name": "python",
   "nbconvert_exporter": "python",
   "pygments_lexer": "ipython3",
   "version": "3.12.3"
  }
 },
 "nbformat": 4,
 "nbformat_minor": 5
}
