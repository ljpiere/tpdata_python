{
  "nbformat": 4,
  "nbformat_minor": 5,
  "metadata": {
    "kernelspec": {
      "display_name": "Python 3",
      "language": "python",
      "name": "python3"
    },
    "language_info": {
      "name": "python",
      "version": "3.x"
    }
  },
  "cells": [
    {
      "cell_type": "markdown",
      "metadata": {},
      "source": "# Sprint 1 - Webinar 1: Introduction to Your Future Profession\n\n**Clase teórica (sin ejecución de código).**  \n**Fecha:** 2025-08-18\n\n---\n"
    },
    {
      "cell_type": "markdown",
      "metadata": {},
      "source": "## Introducción\nEn esta sesión conocerás el **rol del Data Analyst (DA)**, su proceso de trabajo y cómo colabora con otros perfiles de datos para generar valor de negocio. Usaremos el archivo **`taylor_swift_da_intro.xlsx`** como hilo conductor para aterrizar conceptos (no trabajaremos dentro del notebook; la práctica será en Excel/Google Sheets).\n\n**¿Por qué este caso?**  \n- Conecta con cultura pop (Taylor Swift) y métricas de streaming/videos.  \n- El archivo contiene **problemas de calidad** realistas (fechas mixtas, booleanos variados, duplicados, números con símbolos), útiles para comprender el trabajo del DA.  \n\n---\n\n## Objetivos de aprendizaje\nAl finalizar la sesión podrás:\n1. Explicar qué hace un **Data Analyst** y cómo se diferencia de otros roles (DS, DE, BI, PM).  \n2. Describir el **proceso de trabajo** del DA desde una pregunta de negocio hasta una entrega.  \n3. Identificar a los **stakeholders** y los **entregables** esperados.  \n4. Reconocer **niveles de seniority** y expectativas en la carrera de datos.  \n5. Mapear estos conceptos al caso de Taylor Swift (a nivel teórico).\n\n---\n\n## Agenda\n1. Rol del DA (qué hace y qué no)  \n2. Proceso de trabajo del DA (de la pregunta a la entrega)  \n3. Principales roles en el mundo de datos (colaboración)  \n4. DA en distintos tipos de organizaciones  \n5. Tipos de seniority y expectativas  \n6. Aplicación conceptual al caso Taylor Swift  \n7. **Ejercicios opcionales en Excel/Sheets** (para practicar fuera del notebook)\n"
    },
    {
      "cell_type": "markdown",
      "metadata": {},
      "source": "---\n## 1) Role of the DA\nEl **Data Analyst** traduce **preguntas de negocio** en **respuestas basadas en datos** y **entregables accionables** (reportes, visualizaciones, checks de calidad, recomendaciones).\n\n**Responsabilidades nucleares:**\n- Entender el contexto/objetivos del stakeholder y **definir métricas** relevantes.  \n- **Obtener** datos de fuentes diversas (spreadsheets, CSVs, conectores).  \n- **Limpiar/preprocesar** (tipos, duplicados, nulos, estandarización).  \n- **Explorar/calcular** (resúmenes, segmentaciones, tendencias simples).  \n- **Comunicar** con claridad (gráficos de barras/líneas, narrativa).  \n- **Documentar** cambios y su racional (bitácora o `change_log`).\n\n**Límites típicos del DA (y cuándo escalar):**\n- Modelos ML experimentales → DS/ML.  \n- Pipelines/infra de datos → DE.  \n- Modelado semántico/tableros escalables → BI/Analytics Engineer.  \n\n**Caso Taylor Swift (en teoría):**\n- Pregunta de negocio: *“¿Qué canciones priorizar para la próxima campaña/gira?”*  \n- Datos de partida: hojas `raw_songs`, `raw_albums` + `data_dictionary`.  \n- Entregables: resumen de métricas, top canciones, gráfico, notas de calidad.\n"
    },
    {
      "cell_type": "markdown",
      "metadata": {},
      "source": "---\n## 2) Work Process (de la pregunta a la entrega)\nUn flujo práctico y repetible para el DA:\n\n1. **Descubrir el problema**  \n   - ¿Qué decisión se tomará? ¿Qué KPI importa? ¿Para quién?  \n2. **Auditar fuentes**  \n   - ¿Qué hay en `raw_songs`/`raw_albums`? ¿Qué issues evidencia `data_dictionary`?  \n3. **Limpieza y estandarización**  \n   - Fechas a un estándar (ISO 8601), booleanos a TRUE/FALSE, números sin símbolos, remover duplicados.  \n4. **Cálculo & EDA**  \n   - Métricas simples (SUM, COUNT, AVERAGE, MIN, MAX), segmentaciones por álbum/era.  \n5. **Visualización & narrativa**  \n   - Gráfico (barra/línea). ¿Qué significa? ¿Qué acción sugiere?  \n6. **Handoff & documentación**  \n   - Archivo ordenado (nombres de hojas, formato), **`change_log`** con pasos y ejemplos antes/después.\n\n> Relación con OSEMN: **Obtain** (fuentes) → **Scrub** (limpieza) → **Explore** (EDA) → **Model** (agregados/segmentos) → **iNterpret** (insights/decisión).\n"
    },
    {
      "cell_type": "markdown",
      "metadata": {},
      "source": "---\n## 3) Main Roles in the Data World (colaboración)\n- **DA (Data Analyst):** limpieza, EDA, métricas, visualizaciones, reportes.  \n- **BI Analyst/Developer / Analytics Engineer:** tableros, modelos semánticos, gobernanza en BI.  \n- **DE (Data Engineer):** ingesta, pipelines, calidad a escala, infraestructura de datos.  \n- **DS (Data Scientist):** estadística/ML, experimentos, validación de hipótesis.  \n- **PM/Stakeholders de negocio:** definen necesidades y criterios de éxito; consumen hallazgos.\n\n**Cómo colaboran en el caso:**  \n- DA entrega un *brief* de calidad de datos + métricas liminares.  \n- BI transforma hallazgos en dashboard mantenible.  \n- DE conecta fuentes para automatizar actualización.  \n- DS explora modelos si el caso lo requiere (no siempre).\n"
    },
    {
      "cell_type": "markdown",
      "metadata": {},
      "source": "---\n## 4) DA en diferentes tipos de organizaciones\n- **Startup:** rol generalista (limpieza → insight → slide). Velocidad > formalización.  \n- **Mid-size:** especialización moderada; DA trabaja con BI/DE; procesos básicos de gobierno.  \n- **Enterprise:** clara división de funciones, compliance, estándares estrictos, *data governance*.\n\n**Implicaciones para el DA:**  \n- En entornos pequeños, el DA diseña flujos de extremo a extremo.  \n- En empresas grandes, el foco es claridad, trazabilidad y *hand-off* impecable.\n"
    },
    {
      "cell_type": "markdown",
      "metadata": {},
      "source": "---\n## 5) Tipos de Seniority\n- **Junior:** limpieza y métricas básicas; documentación guiada; foco en *best practices*.  \n- **Mid:** autonomía en limpieza/comunicación; propone KPIs y flujos de trabajo.  \n- **Senior:** define estándares, lidera entregas complejas y coordinación con otros roles.  \n- **Lead/Manager:** visión, priorización de iniciativas, relación con negocio.\n\n**Autoevaluación (rápida):**  \n- ¿Puedo explicar mi decisión metodológica a un stakeholder no técnico?  \n- ¿Mis archivos se entienden sin mí (nombres, notas, `change_log`)?  \n- ¿Sé cuándo escalar a BI/DE/DS?\n"
    },
    {
      "cell_type": "markdown",
      "metadata": {},
      "source": "---\n## 6) Aplicación conceptual al caso Taylor Swift (paso a paso teórico)\n**Contexto:** `taylor_swift_da_intro.xlsx` → hojas `raw_songs`, `raw_albums`, `data_dictionary`, `change_log`, `summary_template`.\n\n**Paso A — Inspección y mapeo**  \n- Revisa `data_dictionary` para entender tipos esperados y definiciones.  \n- Lista de **riesgos**: fechas mixtas, booleanos no estándar (Yes/No/1/0), separación inconsistente en `Writers`, números con símbolos/comas, duplicados.\n\n**Paso B — Reglas de limpieza (definir antes de tocar datos)**  \n- Fechas → `YYYY-MM-DD`.  \n- Booleanos → `{TRUE, FALSE}` únicamente.  \n- Números → sin símbolos, sin espacios; separador decimal consistente.  \n- `Writers` → separador único (p. ej., `;`).  \n- Duplicados → criterio: columnas clave `Song` + `Album` + `Release Date` (definir).\n\n**Paso C — Documentación (change_log)**  \n- Cada cambio = fila con **quién/cuándo/qué** + ejemplo **antes/después**.\n\n**Paso D — Métricas base (summary_template)**  \n- `Total Tracks`, `Unique Albums`, `Average Streams`, `Average Views`, `Explicit TRUE`.  \n- Añadir un gráfico simple (barra/línea) para comunicar.\n\n**Paso E — Narrativa breve**  \n- “Top canciones por streams promedio”, “outliers”, “recomendación de foco para campaña/artista/tour”.\n"
    },
    {
      "cell_type": "markdown",
      "metadata": {},
      "source": "---\n## 7) Ejercicios opcionales en Excel/Google Sheets (para practicar fuera del notebook)\n\n> **Archivos:** `taylor_swift_da_intro.xlsx`  \n> **Enfoque:** manos a la obra en *spreadsheets* con pasos claros. No necesitas programar.\n\n### Ejercicio 1 — Preparación del archivo (10–15 min)\n1. Abre el Excel y **duplica** `raw_songs` como `clean_songs` (nunca edites el raw).  \n2. **Congela** la fila de encabezados y ajusta anchos de columna.  \n3. **Renombra** hojas si hace falta (`clean_*`, `summary_*`).  \n4. En `change_log`, agrega tu primera fila (“creé hoja clean_songs”).\n\n**Entrega esperada:** archivo ordenado con estructura clara.\n\n---\n\n### Ejercicio 2 — Estandarizar fechas y booleanos (15–20 min)\n1. En `clean_songs`, convierte `Release Date` y `Date Added` a `YYYY-MM-DD`.  \n   - **Excel (opciones):** `Texto en columnas` + formato de fecha; o fórmula auxiliar con `FECHA`, `DERECHA`, etc., según patrón detectado.  \n   - **Sheets:** similar con “Dividir texto en columnas” o `DATEVALUE` si aplica.  \n2. Normaliza `Explicit` a **TRUE/FALSE** (no Yes/No/1/0).  \n   - **Sugerencia (Excel/Sheets):** columna auxiliar con fórmula condicional que mapee variantes → TRUE/FALSE, luego **pegar valores**.\n\n**Entrega esperada:** fechas y booleanos consistentes, documentados en `change_log`.\n\n---\n\n### Ejercicio 3 — Números y separadores (15–20 min)\n1. Limpia `Spotify Streams (M)` y `YouTube Views (M)` para eliminar símbolos/comas/espacios y convertir a número.  \n   - Trucos: `Buscar/Reemplazar` (quitar `$`, `€`, espacios), `SUSTITUIR`/`SUBSTITUTE`, `VALOR`/`VALUE`.  \n2. **Verifica** con filtro que no queden celdas no numéricas.\n\n**Entrega esperada:** columnas numéricas limpias (tipo número), con nota en `change_log`.\n\n---\n\n### Ejercicio 4 — Duplicados y separadores de texto (10–15 min)\n1. Detecta y elimina **duplicados** (define regla: Song + Album + Release Date).  \n2. Unifica separador en `Writers` a `;` (usa `Buscar/Reemplazar` varias veces si hiciera falta).\n\n**Entrega esperada:** sin duplicados y separador consistente en `Writers`.\n\n---\n\n### Ejercicio 5 — Métricas y visualización (15–20 min)\n1. Completa `summary_template` con:  \n   - **Total Tracks**, **Unique Albums**, **Average Spotify Streams (M)**, **Average YouTube Views (M)**, **Tracks Marked Explicit**.  \n2. Inserta un **gráfico de barras** (top 5 canciones por Streams o por Views).  \n3. Escribe 3 **insights** en 3 viñetas y 1 **recomendación**.\n\n**Entrega esperada:** `summary_template` final y gráfico simple.\n\n---\n\n### Ejercicio 6 — Handoff y checklist (5–10 min)\n- Revisa nombres de hojas, notas, y que el `change_log` cubra los pasos clave.  \n- Deja 2–3 preguntas para el stakeholder (suposiciones/limitaciones detectadas).\n\n**Entrega esperada:** archivo listo para compartir + 3 preguntas.\n"
    },
    {
      "cell_type": "markdown",
      "metadata": {},
      "source": "---\n## Rúbrica sugerida (evaluación formativa)\n- Identificación de problemas de calidad y propuesta de reglas (30%)  \n- Limpieza consistente y trazabilidad en `change_log` (30%)  \n- Métricas y visualización correctas + narrativa clara (30%)  \n- Orden y presentación del archivo (10%)\n\n## Cierre\n- El **DA** es el puente entre **preguntas de negocio** y **evidencia en datos**.  \n- Un proceso claro y trazable es tan importante como el resultado.  \n- Próxima sesión: profundizamos en ecosistema de datos y flujo de punta a punta.\n"
    }
  ]
}