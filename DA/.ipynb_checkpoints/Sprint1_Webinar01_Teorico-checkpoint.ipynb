{
 "cells": [
  {
   "cell_type": "markdown",
   "id": "9c25daf6",
   "metadata": {
    "id": "9c25daf6"
   },
   "source": [
    "# Sprint 1 - Webinar 1: Introduction to Your Future Profession\n",
    "\n",
    "**Clase teórica (sin ejecución de código).**  \n",
    "**Fecha:** 2025-08-18\n",
    "\n",
    "---\n"
   ]
  },
  {
   "cell_type": "markdown",
   "id": "6a15f3f6-971a-48ce-8ae8-707d0b430aed",
   "metadata": {},
   "source": [
    "<div style=\"text-align: center\">\n",
    "    <img src=\"https://raw.githubusercontent.com/ljpiere/tpdata_python/main/images/w1s1_2.png\" width=\"400\">\n",
    "</div>"
   ]
  },
  {
   "cell_type": "markdown",
   "id": "11e0dede",
   "metadata": {
    "id": "11e0dede"
   },
   "source": [
    "## Introducción\n",
    "En esta sesión conocerás el **rol del Data Analyst (DA)**, su proceso de trabajo y cómo colabora con otros perfiles de datos para generar valor de negocio. Usaremos el archivo **`taylor_swift_da_intro.xlsx`** como hilo conductor para aterrizar conceptos (no trabajaremos dentro del notebook; la práctica será en Excel/Google Sheets).\n",
    "\n",
    "**¿Por qué este caso?**  \n",
    "- Conecta con cultura pop (Taylor Swift) y métricas de streaming/videos.  \n",
    "- El archivo contiene **problemas de calidad** realistas (fechas mixtas, booleanos variados, duplicados, números con símbolos), útiles para comprender el trabajo del DA.  \n",
    "\n",
    "---\n",
    "\n",
    "## Objetivos de aprendizaje\n",
    "Al finalizar la sesión podrás:\n",
    "1. Explicar qué hace un **Data Analyst** y y diferenciarlo de otros roles (DS, DE, BI, PM).  \n",
    "2. Describir el **proceso de trabajo** del DA desde una pregunta de negocio hasta una entrega final.  \n",
    "3. Identificar a los **stakeholders clave** y los **entregables** que se esperan de un DA.  \n",
    "4. Reconocer **niveles de seniority** y las expectativas asociadas en la carrera de datos.  \n",
    "5. Aplicar estos conceptos al **caso de Taylor Swift** utilizando el archivo como ejemplo teórico.\n",
    "\n",
    "---\n",
    "## Material\n",
    "- Táctica: Hands-on Together\n",
    "- Adjunto: sp1_w1_taylor_swift_da_intro\n",
    "- Kahoot: W1_Sprint1 (finalizando sesión)\n",
    "---\n",
    "\n",
    "## Agenda\n",
    "**Bienvenida + Introducción**\n",
    "- Rol del DA (qué hace y qué no hace)  \n",
    "- Principales roles en el mundo de datos y cómo colaboran\n",
    "\n",
    "**Revisión de teoría**\n",
    "- Proceso de trabajo del DA (de la pregunta de negocio a la entrega)\n",
    "- DA en distintos tipos de organizaciones\n",
    "- Tipos de seniority y expectativas\n",
    "\n",
    "**Aplicación guiada**\n",
    "- Caso conceptual de Taylor Swift: mapping de conceptos\n",
    "- Preguntas dirigidas para comprobar comprensión\n",
    "\n",
    "**Cierre**\n",
    "- Q&A, repaso de aprendizajes y próximos pasos (Kahoot W1_Sprint1)\n",
    "- **Ejercicios opcionales en Excel/Sheets** (para practicar fuera del notebook)"
   ]
  },
  {
   "cell_type": "markdown",
   "id": "f2ffcac1",
   "metadata": {
    "id": "f2ffcac1"
   },
   "source": [
    "---\n",
    "## 1) Role of the DA\n",
    "El **Data Analyst** traduce **preguntas de negocio** en **respuestas basadas en datos** y **entregables accionables** (reportes, visualizaciones, checks de calidad, recomendaciones).\n",
    "\n",
    "**Responsabilidades nucleares:**\n",
    "- Entender el contexto/objetivos del stakeholder y **definir métricas** relevantes.  \n",
    "- **Obtener** datos de fuentes diversas (spreadsheets, CSVs, conectores).  \n",
    "- **Limpiar/preprocesar** (tipos, duplicados, nulos, estandarización).  \n",
    "- **Explorar/calcular** (resúmenes, segmentaciones, tendencias simples).  \n",
    "- **Comunicar** con claridad (gráficos de barras/líneas, narrativa).  \n",
    "- **Documentar** cambios y su racional (bitácora o `change_log`).\n",
    "\n",
    "**Límites típicos del DA (y cuándo escalar):**\n",
    "- Modelos ML experimentales → DS/ML.  \n",
    "- Pipelines/infra de datos → DE.  \n",
    "- Modelado semántico/tableros escalables → BI/Analytics Engineer.  \n",
    "\n",
    "**Caso Taylor Swift (en teoría):**\n",
    "- Pregunta de negocio: \n",
    "- Datos de partida: hojas `raw_songs`, `raw_albums` + `data_dictionary`.  \n",
    "- Entregables: resumen de métricas, top canciones, gráfico, notas de calidad.\n"
   ]
  },
  {
   "cell_type": "markdown",
   "id": "03a28ea6-0fec-45d9-8450-9b90677916ab",
   "metadata": {},
   "source": [
    "> Pista: *“¿Qué canciones priorizar para la próxima campaña/gira?”*  "
   ]
  },
  {
   "cell_type": "markdown",
   "id": "a98dd1f7-a994-48e3-b9bc-2e6fe28ad003",
   "metadata": {
    "id": "b3bfaa5a"
   },
   "source": [
    "---\n",
    "## 2) Un mundo lleno de herramientas\n",
    "- **Python como recurso principal:** Pronto nos introduciremos a la programación con Python.\n",
    "- **¿De donde provienen los datos?:** Podemos conseguir datos de distintas fuentes: web scraping, bases de datos, o bien, en archivos planos como libros Excel o CSV.\n",
    "- **Tus primeros pasos:** Empezaremos realizando exploraciones de datos en archivos planos, luego pasaremos a hacer la exploración en bases de datos (Sprint 3) y posterior a eso, exploraremos el mismo proceso en Python (Sprint 5).\n"
   ]
  },
  {
   "cell_type": "markdown",
   "id": "91a298f1-2ad2-424f-a580-ec5950042f0b",
   "metadata": {
    "id": "bab09568"
   },
   "source": [
    "---\n",
    "## 3) DA en diferentes tipos de organizaciones\n",
    "- **Startup:** rol generalista (limpieza → insight → slide). Velocidad > formalización.  \n",
    "- **Mid-size:** especialización moderada; DA trabaja con BI/DE; procesos básicos de gobierno.  \n",
    "- **Enterprise:** clara división de funciones, compliance, estándares estrictos, *data governance*.\n",
    "\n",
    "**Implicaciones para el DA:**  \n",
    "- En entornos pequeños, el DA diseña flujos de extremo a extremo.  \n",
    "- En empresas grandes, el foco es claridad, trazabilidad y *hand-off* impecable.\n"
   ]
  },
  {
   "cell_type": "markdown",
   "id": "b4ca1470-2e62-458c-a98a-46e0f1660d51",
   "metadata": {
    "id": "b3bfaa5a"
   },
   "source": [
    "---\n",
    "## 4) Tipos de Seniority\n",
    "- **Junior:** limpieza y métricas básicas; documentación guiada; foco en *best practices*.  \n",
    "- **Mid:** autonomía en limpieza/comunicación; propone KPIs y flujos de trabajo.  \n",
    "- **Senior:** define estándares, lidera entregas complejas y coordinación con otros roles.  \n",
    "- **Lead/Manager:** visión, priorización de iniciativas, relación con negocio.\n",
    "\n",
    "**Autoevaluación (rápida):**  \n",
    "- ¿Puedo explicar mi decisión metodológica a un stakeholder no técnico?  \n",
    "- ¿Mis archivos se entienden sin mí (nombres, notas, `change_log`)?  \n",
    "- ¿Sé cuándo escalar a BI/DE/DS?\n"
   ]
  },
  {
   "cell_type": "markdown",
   "id": "665b8504",
   "metadata": {
    "id": "665b8504"
   },
   "source": [
    "---\n",
    "## 5) Work Process (de la pregunta a la entrega)\n",
    "Un flujo práctico y repetible para el DA:\n",
    "\n",
    "1. **Descubrir el problema**  \n",
    "   - ¿Qué decisión se tomará? ¿Qué KPI importa? ¿Para quién?  \n",
    "2. **Auditar fuentes**  \n",
    "   - ¿Qué hay en `raw_songs`/`raw_albums`? ¿Qué issues evidencia `data_dictionary`?  \n",
    "3. **Limpieza y estandarización**  \n",
    "   - Fechas a un estándar (ISO 8601), booleanos a TRUE/FALSE, números sin símbolos, remover duplicados.  \n",
    "4. **Cálculo & EDA**  \n",
    "   - Métricas simples (SUM, COUNT, AVERAGE, MIN, MAX), segmentaciones por álbum/era.  \n",
    "5. **Visualización & narrativa**  \n",
    "   - Gráfico (barra/línea). ¿Qué significa? ¿Qué acción sugiere?  \n",
    "6. **Handoff & documentación**  \n",
    "   - Archivo ordenado (nombres de hojas, formato), **`change_log`** con pasos y ejemplos antes/después.\n",
    "\n",
    "> Relación con OSEMN: **Obtain** (fuentes) → **Scrub** (limpieza) → **Explore** (EDA) → **Model** (agregados/segmentos) → **iNterpret** (insights/decisión).\n"
   ]
  },
  {
   "cell_type": "markdown",
   "id": "6d0dc933-301d-4460-bf1d-834f8c3a05d6",
   "metadata": {},
   "source": [
    "---\n",
    "## 6) Aplicación conceptual al caso Taylor Swift"
   ]
  },
  {
   "cell_type": "markdown",
   "id": "eaeb7f80-634d-4aec-8e4f-fd62ac0643d9",
   "metadata": {},
   "source": [
    "<div style=\"text-align: center\">\n",
    "    <img src=\"https://raw.githubusercontent.com/ljpiere/tpdata_python/main/images/w1s1.png\" width=\"700\">\n",
    "</div>"
   ]
  },
  {
   "cell_type": "markdown",
   "id": "19d7d246",
   "metadata": {
    "id": "19d7d246"
   },
   "source": [
    "¿Conoces a Taylor Swift?\n",
    "\n",
    "**Contexto:** `taylor_swift_da_intro.xlsx` → hojas `raw_songs`, `raw_albums`, `data_dictionary`, `change_log`, `summary_template`.\n",
    "\n",
    "**Paso A — Inspección y mapeo**  \n",
    "- Revisa `data_dictionary` para entender tipos esperados y definiciones.  \n",
    "- Lista de **riesgos**: fechas mixtas, booleanos no estándar (Yes/No/1/0), separación inconsistente en `Writers`, números con símbolos/comas, duplicados.\n",
    "\n",
    "**Paso B — Reglas de limpieza (definir antes de tocar datos)**  \n",
    "- Fechas → `YYYY-MM-DD`.  \n",
    "- Booleanos → `{TRUE, FALSE}` únicamente.  \n",
    "- Números → sin símbolos, sin espacios; separador decimal consistente.  \n",
    "- `Writers` → separador único (p. ej., `;`).  \n",
    "- Duplicados → criterio: columnas clave `Song` + `Album` + `Release Date` (definir).\n",
    "\n",
    "**Paso C — Documentación (change_log)**  \n",
    "- Cada cambio = fila con **quién/cuándo/qué** + ejemplo **antes/después**.\n",
    "\n",
    "**Paso D — Métricas base (summary_template)**  \n",
    "- `Total Tracks`, `Unique Albums`, `Average Streams`, `Average Views`, `Explicit TRUE`.  \n",
    "- Añadir un gráfico simple (barra/línea) para comunicar.\n",
    "\n",
    "**Paso E — Narrativa breve**  \n",
    "- “Top canciones por streams promedio”, “outliers”, “recomendación de foco para campaña/artista/tour”.\n"
   ]
  },
  {
   "cell_type": "markdown",
   "id": "9b9a84c5",
   "metadata": {
    "id": "9b9a84c5"
   },
   "source": [
    "---\n",
    "## 8) Ejercicios prácticos en Google Sheets\n",
    "\n",
    "> **Archivo base:** `taylor_swift_da_intro.xlsx`  \n",
    "> **Objetivo:** practicar limpieza y exploración ligera **solo en Google Sheets** (sin programar). Trabaja SIEMPRE sobre una copia limpia.\n",
    "\n",
    "---\n",
    "\n",
    "### Ejercicio 1 — Preparación del archivo (10–15 min)\n",
    "\n",
    "1) **Sube el .xlsx a Google Drive** → clic derecho → **Abrir con → Hojas de cálculo de Google**.  \n",
    "2) **Duplica la hoja** `raw_songs` como `clean_songs` (clic derecho en pestaña → **Duplicar**). *Nunca* edites `raw_songs`.  \n",
    "3) **Congela** la fila de encabezados: **Ver → Congelar → 1 fila**.  \n",
    "4) **Ajusta anchos** (doble clic en separador de columna) y revisa que los encabezados sean legibles.  \n",
    "5) **Renombra** hojas si hace falta (p.ej., `clean_*`, `summary_*`).  \n",
    "6) En la hoja `change_log`, agrega tu primera fila: *“Creé hoja clean_songs a partir de raw_songs”* (fecha/hora opcional).\n",
    "\n",
    "**Entrega esperada:** archivo ordenado con estructura clara.\n",
    "\n",
    "> **¿Por qué no trabajar sobre los datos base?** Para preservar el insumo original y poder repetir/validar cambios sin riesgo.\n",
    "\n",
    "---\n",
    "\n",
    "### Ejercicio 2 — Estandarizar fechas y booleanos (15–20 min)\n",
    "\n",
    "**A) Fechas (`Release Date`, `Date Added`) a formato `YYYY-MM-DD`:**  \n",
    "- Selecciona la(s) columna(s) de fecha → **Formato → Número → Fecha**.  \n",
    "- Si se importaron como *texto*, usa una **columna auxiliar** en `clean_songs`:\n",
    "  ```\n",
    "  =IFERROR(TO_DATE(DATEVALUE(A2)), \n",
    "    DATE(VALUE(MID(A2,1,4)), VALUE(MID(A2,6,2)), VALUE(MID(A2,9,2)))\n",
    "  )\n",
    "  ```\n",
    "  > Ajusta `A2` al nombre/columna real. Copia hacia abajo, **Pegar especial → Solo valores** y reemplaza la original.\n",
    "\n",
    "**B) Booleanos (`Explicit`) a `TRUE/FALSE`:**  \n",
    "- En columna auxiliar (p.ej., junto a `Explicit`):\n",
    "  ```\n",
    "  =IF(OR(LOWER(B2)=\"yes\", B2=1, LOWER(B2)=\"true\"), TRUE, FALSE)\n",
    "  ```\n",
    "  Copia hacia abajo → **Pegar especial → Solo valores** → reemplaza la columna original.\n",
    "\n",
    "**Entrega esperada:** fechas y booleanos consistentes, documentados en `change_log` (qué hiciste y por qué).\n",
    "\n",
    "---\n",
    "\n",
    "### Ejercicio 3 — Números y separadores (15–20 min)\n",
    "\n",
    "**Objetivo:** limpiar `Spotify Streams (M)` y `YouTube Views (M)` para que queden como **número** (sin símbolos/comas/espacios).  \n",
    "\n",
    "1) **Quitar símbolos** con **Buscar y reemplazar** (Ctrl/Cmd + H):  \n",
    "   - Buscar: `$` → Reemplazar: *(vacío)* → **Reemplazar todo**.  \n",
    "   - Repite con `€`, espacios ` `, o comas `,` si corresponde.  \n",
    "2) Si aún quedan textos, crea **columna auxiliar** con fórmula y luego pega valores:  \n",
    "   ```\n",
    "   =VALUE(REGEXREPLACE(REGEXREPLACE(A2,\"[^\\d\\.\\,\\-]\",\"\"),\",\",\"\"))\n",
    "   ```\n",
    "   - Explicación: elimina todo lo que no sea dígito/punto/coma/signo; luego cambia comas por puntos y convierte a número.  \n",
    "3) **Verifica** con **Datos → Crear filtro** y ordena de mayor a menor para confirmar que se comportan como números.\n",
    "\n",
    "**Entrega esperada:** columnas numéricas limpias (tipo número), con nota en `change_log`.\n",
    "\n",
    "> **¿Por qué no escribir manualmente puntos/comas?** Porque es propenso a error y no escala; además, pierde trazabilidad en `change_log`.\n",
    "\n",
    "---\n",
    "\n",
    "### Ejercicio 4 — Duplicados y separadores de texto (10–15 min)\n",
    "\n",
    "1) **Detectar/eliminar duplicados** según regla *(Song + Album + Release Date)*:  \n",
    "   - Selecciona el rango de datos en `clean_songs` → **Datos → Limpieza de datos → Quitar duplicados**.  \n",
    "   - Marca columnas de la regla y confirma.  \n",
    "2) **Unificar separador en `Writers` a `;`**:  \n",
    "   - **Editar → Buscar y reemplazar**: reemplaza `, ` o `/` por `;` (repite según variantes detectadas).  \n",
    "   - Alternativa con fórmula (columna auxiliar y luego pega valores):  \n",
    "     ```\n",
    "     =SUBSTITUTE(SUBSTITUTE(A2, \",\", \";\"), \"/\", \";\")\n",
    "     ```\n",
    "\n",
    "**Entrega esperada:** sin duplicados y separador consistente en `Writers`.\n",
    "\n",
    "---\n",
    "\n",
    "### Ejercicio 5 — Métricas y visualización (15–20 min)\n",
    "\n",
    "Trabaja en la hoja `summary_template` (ya creada en el archivo base). Usa referencias a `clean_songs`:\n",
    "\n",
    "1) **Total Tracks** (conteo de filas con nombre de canción en `clean_songs`!A:A):  \n",
    "   ```\n",
    "   =COUNTA(clean_songs!A2:A)\n",
    "   ```\n",
    "2) **Unique Albums** (contar distintos en `clean_songs`!B:B):  \n",
    "   ```\n",
    "   =COUNTA(UNIQUE(clean_songs!B2:B))\n",
    "   ```\n",
    "3) **Average Spotify Streams (M)** (columna numérica ya limpia, p.ej., `clean_songs`!F:F):  \n",
    "   ```\n",
    "   =AVERAGE(clean_songs!F2:F)\n",
    "   ```\n",
    "4) **Average YouTube Views (M)** (p.ej., `clean_songs`!G:G):  \n",
    "   ```\n",
    "   =AVERAGE(clean_songs!G2:G)\n",
    "   ```\n",
    "5) **Tracks Marked Explicit** (columna booleana en `clean_songs`!H:H):  \n",
    "   ```\n",
    "   =COUNTIF(clean_songs!H2:H, TRUE)\n",
    "   ```\n",
    "\n",
    "**Gráfico de barras (top 5 por Streams o por Views):**  \n",
    "- En `clean_songs`, **Ordenar** de mayor a menor por la métrica elegida.  \n",
    "- Seleccionar **las 5 primeras filas** (columna `Song` + columna métrica).  \n",
    "- **Insertar → Gráfico** → Tipo **Barras**. Ajusta títulos/etiquetas en el panel derecho.  \n",
    "\n",
    "**Insights y recomendación:** escribe **3 viñetas** con hallazgos y **1 recomendación** breve (p.ej., “enfocar promoción en álbum X por mayor *streams* promedio”).\n",
    "\n",
    "**Entrega esperada:** `summary_template` completo + 1 gráfico simple + viñetas.\n",
    "\n",
    "---\n",
    "\n",
    "### Ejercicio 6 — Handoff y checklist (5–10 min)\n",
    "\n",
    "- Revisa nombres de hojas y consistencia general.  \n",
    "- Verifica que `change_log` enumere los pasos clave (fechas, booleanos, limpieza numérica, duplicados, writers).  \n",
    "- Deja **2–3 preguntas para el stakeholder** (suposiciones o limitaciones que encontraste).\n",
    "\n",
    "**Entrega esperada:** archivo listo para compartir + 3 preguntas de seguimiento.\n"
   ]
  },
  {
   "cell_type": "markdown",
   "id": "228849c1",
   "metadata": {
    "id": "228849c1"
   },
   "source": [
    "---\n",
    "## Rúbrica sugerida (evaluación formativa)\n",
    "- Identificación de problemas de calidad y propuesta de reglas (30%)  \n",
    "- Limpieza consistente y trazabilidad en `change_log` (30%)  \n",
    "- Métricas y visualización correctas + narrativa clara (30%)  \n",
    "- Orden y presentación del archivo (10%)\n",
    "\n",
    "## Cierre\n",
    "- El **DA** es el puente entre **preguntas de negocio** y **evidencia en datos**.  \n",
    "- Un proceso claro y trazable es tan importante como el resultado.  \n",
    "\n",
    "## Siguientes Pasos\n",
    "- **Próxima sesión:** profundizaremos en el ecosistema de datos y en el flujo de punta a punta.\n",
    "- **Participación continua:** asistir a Co-Learning y a Sprint Focus, y usar los canales de Discord para hacer preguntas.\n",
    "- **Recordatorios:** la grabación y recursos utilizados, se comparten al finalizar la sesión; en caso de necesitar apoyo adicional, agenda un 1:1."
   ]
  },
  {
   "cell_type": "code",
   "execution_count": null,
   "id": "dff93838-e7b9-42a6-9211-3e7cfd12ddb5",
   "metadata": {},
   "outputs": [],
   "source": []
  }
 ],
 "metadata": {
  "colab": {
   "provenance": []
  },
  "kernelspec": {
   "display_name": "Python 3 (ipykernel)",
   "language": "python",
   "name": "python3"
  },
  "language_info": {
   "codemirror_mode": {
    "name": "ipython",
    "version": 3
   },
   "file_extension": ".py",
   "mimetype": "text/x-python",
   "name": "python",
   "nbconvert_exporter": "python",
   "pygments_lexer": "ipython3",
   "version": "3.12.3"
  }
 },
 "nbformat": 4,
 "nbformat_minor": 5
}
