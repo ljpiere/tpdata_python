{
 "cells": [
  {
   "cell_type": "markdown",
   "id": "e522fa62",
   "metadata": {},
   "source": [
    "# Sprint 3 · Webinar 8 — Clase Practica de SQL (RunSQL)\n",
    "\n",
    "**Enfoque:** practicar unicamente codigo SQL (DDL, DML y SELECT) usando el entorno gratuito de RunSQL.\n",
    "\n",
    "**Duracion sugerida:** 120–150 min  \n",
    "**Autor:** Tripleten MT\n",
    "\n",
    "> Este notebook es un guion de practica: copia el SQL de cada celda y pegalo en el editor de RunSQL para ejecutarlo."
   ]
  },
  {
   "cell_type": "markdown",
   "id": "c548de30-004a-4d41-9e06-718fd6480f51",
   "metadata": {},
   "source": [
    "<div style=\"text-align: center\">\n",
    "    <img src=\"https://raw.githubusercontent.com/ljpiere/tpdata_python/main/images/w1s1_2.png\" width=\"400\">\n",
    "</div>"
   ]
  },
  {
   "cell_type": "markdown",
   "id": "de5ba363",
   "metadata": {},
   "source": [
    "## Objetivos de aprendizaje\n",
    "1. Crear tablas y claves (DDL) en SQL puro.\n",
    "2. Insertar datos de prueba (DML) y validar consultas base.\n",
    "3. Practicar SELECT con JOIN, GROUP BY, ORDER BY y filtros temporales.\n",
    "4. Calcular KPIs: revenue, cost, gross_profit, margin_pct y ROI por campana.\n",
    "5. Resolver ejercicios con enunciado y luego comparar con la solucion propuesta.\n",
    "\n",
    "## Agenda\n",
    "0) Configuracion rapida en RunSQL (gratuito)  \n",
    "1) Reset de esquema y creacion de tablas (DDL)  \n",
    "2) Insercion de datos (DML)  \n",
    "3) Consultas base  \n",
    "4) JOINs y agregaciones para KPIs  \n",
    "5) ROI por campana  \n",
    "6) Ejercicios guiados (con soluciones)  \n",
    "7) Retos opcionales"
   ]
  },
  {
   "cell_type": "markdown",
   "id": "363f3ec1",
   "metadata": {},
   "source": [
    "## 0) Configuracion rapida en RunSQL\n",
    "1. Abre **runsql.com** y crea un nuevo playground (sin registro o con cuenta gratuita).\n",
    "2. En el editor, selecciona dialecto **PostgreSQL** (o por defecto si aparece).\n",
    "3. Crea el esquema pegando los bloques DDL de la seccion 1 (en el orden dado).\n",
    "4. Inserta datos pegando los bloques DML de la seccion 2.\n",
    "5. Ejecuta las consultas de las secciones siguientes y revisa los resultados.\n",
    "\n",
    "Tip: Guarda el enlace compartible del playground para que tus estudiantes/pruebas tengan el mismo entorno."
   ]
  },
  {
   "cell_type": "markdown",
   "id": "b9d73c50",
   "metadata": {},
   "source": [
    "## 1) Reset y creacion de tablas (DDL)\n",
    "Ejecuta estos bloques **en orden**. Primero, elimina tablas si existen para empezar limpio."
   ]
  },
  {
   "cell_type": "code",
   "execution_count": null,
   "id": "0ca0304d",
   "metadata": {},
   "outputs": [],
   "source": [
    "-- 1.1) Reset del esquema (orden por FKs)\n",
    "DROP TABLE IF EXISTS marketing_spend;\n",
    "DROP TABLE IF EXISTS sales;\n",
    "DROP TABLE IF EXISTS products;\n",
    "DROP TABLE IF EXISTS stores;"
   ]
  },
  {
   "cell_type": "code",
   "execution_count": null,
   "id": "a9780150",
   "metadata": {},
   "outputs": [],
   "source": [
    "-- 1.2) Tabla: stores\n",
    "CREATE TABLE stores (\n",
    "  store_id    INTEGER PRIMARY KEY,\n",
    "  store_name  VARCHAR(80) NOT NULL,\n",
    "  region      VARCHAR(40) NOT NULL\n",
    ");"
   ]
  },
  {
   "cell_type": "code",
   "execution_count": null,
   "id": "8f7c5aa5",
   "metadata": {},
   "outputs": [],
   "source": [
    "-- 1.3) Tabla: products\n",
    "CREATE TABLE products (\n",
    "  product_id   INTEGER PRIMARY KEY,\n",
    "  product_name VARCHAR(80) NOT NULL,\n",
    "  category     VARCHAR(40) NOT NULL,\n",
    "  unit_cost    NUMERIC(12,2) NOT NULL,\n",
    "  unit_price   NUMERIC(12,2) NOT NULL\n",
    ");"
   ]
  },
  {
   "cell_type": "code",
   "execution_count": null,
   "id": "ee8bc88f",
   "metadata": {},
   "outputs": [],
   "source": [
    "-- 1.4) Tabla: sales\n",
    "CREATE TABLE sales (\n",
    "  sale_id    INTEGER PRIMARY KEY,\n",
    "  sale_date  DATE NOT NULL,\n",
    "  store_id   INTEGER NOT NULL REFERENCES stores(store_id),\n",
    "  product_id INTEGER NOT NULL REFERENCES products(product_id),\n",
    "  units      INTEGER NOT NULL CHECK (units >= 0)\n",
    ");"
   ]
  },
  {
   "cell_type": "code",
   "execution_count": null,
   "id": "1f0e1fec",
   "metadata": {},
   "outputs": [],
   "source": [
    "-- 1.5) Tabla: marketing_spend\n",
    "CREATE TABLE marketing_spend (\n",
    "  campaign_id   INTEGER PRIMARY KEY,\n",
    "  campaign_name VARCHAR(80) NOT NULL,\n",
    "  start_date    DATE NOT NULL,\n",
    "  end_date      DATE NOT NULL,\n",
    "  channel       VARCHAR(40) NOT NULL,\n",
    "  spend         NUMERIC(12,2) NOT NULL CHECK (spend >= 0),\n",
    "  store_id      INTEGER NOT NULL REFERENCES stores(store_id)\n",
    ");"
   ]
  },
  {
   "cell_type": "markdown",
   "id": "81ec3abc",
   "metadata": {},
   "source": [
    "## 2) Insercion de datos (DML)\n",
    "Puebla el esquema con datos de prueba (Q3-2025)."
   ]
  },
  {
   "cell_type": "code",
   "execution_count": null,
   "id": "21acfa56",
   "metadata": {},
   "outputs": [],
   "source": [
    "-- 2.1) stores\n",
    "INSERT INTO stores (store_id, store_name, region) VALUES\n",
    "  (1, 'Cali Norte',  'West'),\n",
    "  (2, 'Cali Sur',    'West'),\n",
    "  (3, 'Bogota Centro','East'),\n",
    "  (4, 'Medellin',    'North');"
   ]
  },
  {
   "cell_type": "code",
   "execution_count": null,
   "id": "647b1dbe",
   "metadata": {},
   "outputs": [],
   "source": [
    "-- 2.2) products\n",
    "INSERT INTO products (product_id, product_name, category, unit_cost, unit_price) VALUES\n",
    "  (101, 'Mouse',        'Accesorios', 12.00, 20.00),\n",
    "  (102, 'Teclado',      'Accesorios', 18.00, 30.00),\n",
    "  (103, 'Headphones',   'Audio',      35.00, 60.00),\n",
    "  (104, 'Tablet 8\"',   'Tablets',    80.00, 120.00);"
   ]
  },
  {
   "cell_type": "code",
   "execution_count": null,
   "id": "51ab9ce0",
   "metadata": {},
   "outputs": [],
   "source": [
    "-- 2.3) sales (jul-sep 2025)\n",
    "INSERT INTO sales (sale_id, sale_date, store_id, product_id, units) VALUES\n",
    "  (1, '2025-07-05', 1, 101, 40),\n",
    "  (2, '2025-07-12', 1, 102, 25),\n",
    "  (3, '2025-07-19', 2, 103, 15),\n",
    "  (4, '2025-07-26', 3, 104, 10),\n",
    "  (5, '2025-08-02', 1, 103, 22),\n",
    "  (6, '2025-08-09', 2, 101, 30),\n",
    "  (7, '2025-08-16', 2, 104, 12),\n",
    "  (8, '2025-08-23', 4, 102, 18),\n",
    "  (9, '2025-09-06', 3, 101, 50),\n",
    "  (10,'2025-09-13', 4, 103, 16),\n",
    "  (11,'2025-09-20', 1, 104, 14),\n",
    "  (12,'2025-09-27', 2, 102, 20);"
   ]
  },
  {
   "cell_type": "code",
   "execution_count": null,
   "id": "e6e02e45",
   "metadata": {},
   "outputs": [],
   "source": [
    "-- 2.4) marketing_spend\n",
    "INSERT INTO marketing_spend (campaign_id, campaign_name, start_date, end_date, channel, spend, store_id) VALUES\n",
    "  (201, 'BackToSchool', '2025-08-01', '2025-08-31', 'Ads',   1200.00, 1),\n",
    "  (202, 'HeadphonesQ3', '2025-07-01', '2025-09-30', 'Social', 800.00, 2),\n",
    "  (203, 'TabletFlash',  '2025-09-01', '2025-09-15', 'Email',  300.00, 3),\n",
    "  (204, 'Accesorios+',  '2025-07-15', '2025-08-15', 'Ads',    600.00, 4);"
   ]
  },
  {
   "cell_type": "markdown",
   "id": "96510051",
   "metadata": {},
   "source": [
    "## 3) Consultas base\n",
    "### 3.1) SELECT + WHERE + ORDER BY (ventas de septiembre) (Breakout rooms)\n",
    "Criterio: 2025-09-01 a 2025-09-30."
   ]
  },
  {
   "cell_type": "markdown",
   "id": "5129f2c6-7d5e-4696-8339-53ac74fa9f2c",
   "metadata": {},
   "source": [
    "Hagamos el siguiente ejercicio:\n",
    "\n",
    "1. Une las tablas de sales, stores y products.\n",
    "2. Selecciona las columnas que consideras relevantes de cada tabla.\n",
    "3. Filtra los datos para la fecha de ventas entre `2025-09-01` y `2025-09-30`.\n",
    "4. Ordena las fulas por la cantidad de unidades de forma descendente."
   ]
  },
  {
   "cell_type": "code",
   "execution_count": null,
   "id": "a661e4f7-0740-4671-a917-79a93462f319",
   "metadata": {},
   "outputs": [],
   "source": []
  },
  {
   "cell_type": "markdown",
   "id": "c84c7adf",
   "metadata": {},
   "source": [
    "## 4) JOINs y agregaciones para KPIs\n",
    "### 4.1) Ingresos y costos por producto\n",
    "Definiciones: revenue = units * unit_price; cost = units * unit_cost."
   ]
  },
  {
   "cell_type": "code",
   "execution_count": null,
   "id": "7319ff95",
   "metadata": {},
   "outputs": [],
   "source": [
    "SELECT\n",
    "  p.product_name,\n",
    "  SUM(s.units * p.unit_price) AS revenue,\n",
    "  SUM(s.units * p.unit_cost)  AS cost\n",
    "FROM sales s\n",
    "JOIN products p ON s.product_id = p.product_id\n",
    "GROUP BY p.product_name\n",
    "ORDER BY revenue DESC;"
   ]
  },
  {
   "cell_type": "markdown",
   "id": "434c7973",
   "metadata": {},
   "source": [
    "### 4.2) KPIs por categoria (revenue, cost, gross_profit, margin_pct)"
   ]
  },
  {
   "cell_type": "code",
   "execution_count": null,
   "id": "a911a219",
   "metadata": {},
   "outputs": [],
   "source": [
    "SELECT\n",
    "  p.category,\n",
    "  SUM(s.units * p.unit_price) AS revenue,\n",
    "  SUM(s.units * p.unit_cost)  AS cost,\n",
    "  (SUM(s.units * p.unit_price) - SUM(s.units * p.unit_cost)) AS gross_profit,\n",
    "  ROUND(\n",
    "    100.0 * (SUM(s.units * p.unit_price) - SUM(s.units * p.unit_cost))\n",
    "    / NULLIF(SUM(s.units * p.unit_price), 0), 2\n",
    "  ) AS margin_pct\n",
    "FROM sales s\n",
    "JOIN products p ON s.product_id = p.product_id\n",
    "GROUP BY p.category\n",
    "ORDER BY margin_pct DESC;"
   ]
  },
  {
   "cell_type": "markdown",
   "id": "d9f0a1ae",
   "metadata": {},
   "source": [
    "## 5) ROI por campana\n",
    "ROI (%) = 100 * (revenue_attributed - spend) / spend.  \n",
    "Ingreso atribuido: ventas en la tienda dentro de la ventana de la campana (aprox. didactica)."
   ]
  },
  {
   "cell_type": "code",
   "execution_count": null,
   "id": "5afab01e",
   "metadata": {},
   "outputs": [],
   "source": [
    "WITH campaign_sales AS (\n",
    "  SELECT\n",
    "    ms.campaign_id,\n",
    "    ms.campaign_name,\n",
    "    ms.store_id,\n",
    "    ms.spend,\n",
    "    ms.start_date,\n",
    "    ms.end_date,\n",
    "    SUM(s.units * p.unit_price) AS revenue_attributed\n",
    "  FROM marketing_spend ms\n",
    "  LEFT JOIN sales s \n",
    "    ON s.store_id = ms.store_id\n",
    "   AND s.sale_date BETWEEN ms.start_date AND ms.end_date\n",
    "  LEFT JOIN products p ON p.product_id = s.product_id\n",
    "  GROUP BY ms.campaign_id, ms.campaign_name, ms.store_id, ms.spend, ms.start_date, ms.end_date\n",
    ")\n",
    "SELECT\n",
    "  c.campaign_name,\n",
    "  c.start_date || ' -> ' || c.end_date AS window,\n",
    "  (SELECT store_name FROM stores WHERE store_id = c.store_id) AS store,\n",
    "  ROUND(COALESCE(c.revenue_attributed, 0), 2) AS revenue,\n",
    "  ROUND(c.spend, 2) AS spend,\n",
    "  ROUND(100.0 * (COALESCE(c.revenue_attributed, 0) - c.spend) / NULLIF(c.spend, 0), 2) AS roi_pct\n",
    "FROM campaign_sales c\n",
    "ORDER BY roi_pct DESC;"
   ]
  },
  {
   "cell_type": "markdown",
   "id": "08e7fd80",
   "metadata": {},
   "source": [
    "## 6) Ejercicios guiados (pegar y resolver en RunSQL)\n",
    "Marca tus respuestas y luego compara con la solucion."
   ]
  },
  {
   "cell_type": "markdown",
   "id": "7a7a67b4",
   "metadata": {},
   "source": [
    "### Ejercicio 1 — Ingreso y margen por tienda (15 min)\n",
    "Enunciado: calcula revenue, gross_profit y margin_pct por tienda en todo el periodo.\n",
    "\n",
    "Tu consulta (escribe aqui en RunSQL):"
   ]
  },
  {
   "cell_type": "code",
   "execution_count": null,
   "id": "b8b84e64",
   "metadata": {},
   "outputs": [],
   "source": [
    "-- Tu solucion aqui"
   ]
  },
  {
   "cell_type": "markdown",
   "id": "0101aa41",
   "metadata": {},
   "source": [
    "**Solucion propuesta:**"
   ]
  },
  {
   "cell_type": "code",
   "execution_count": null,
   "id": "83664b1b",
   "metadata": {},
   "outputs": [],
   "source": [
    "SELECT\n",
    "  st.store_name,\n",
    "  SUM(s.units * p.unit_price) AS revenue,\n",
    "  SUM(s.units * p.unit_cost)  AS cost,\n",
    "  (SUM(s.units * p.unit_price) - SUM(s.units * p.unit_cost)) AS gross_profit,\n",
    "  ROUND(\n",
    "    100.0 * (SUM(s.units * p.unit_price) - SUM(s.units * p.unit_cost)) / NULLIF(SUM(s.units * p.unit_price), 0), 2\n",
    "  ) AS margin_pct\n",
    "FROM sales s\n",
    "JOIN stores st  ON st.store_id  = s.store_id\n",
    "JOIN products p ON p.product_id = s.product_id\n",
    "GROUP BY st.store_name\n",
    "ORDER BY revenue DESC;"
   ]
  },
  {
   "cell_type": "markdown",
   "id": "a7ae23f3",
   "metadata": {},
   "source": [
    "### Ejercicio 2 — Q3-2025 por categoria (15 min)\n",
    "Enunciado: filtra ventas de 2025-07-01 a 2025-09-30 y calcula revenue por categoria.\n",
    "\n",
    "Tu consulta:"
   ]
  },
  {
   "cell_type": "code",
   "execution_count": null,
   "id": "d2a629d7",
   "metadata": {},
   "outputs": [],
   "source": [
    "-- Tu solucion aqui"
   ]
  },
  {
   "cell_type": "markdown",
   "id": "512fb92a",
   "metadata": {},
   "source": [
    "**Solucion propuesta:**"
   ]
  },
  {
   "cell_type": "code",
   "execution_count": null,
   "id": "4b40573e",
   "metadata": {},
   "outputs": [],
   "source": [
    "SELECT\n",
    "  p.category,\n",
    "  SUM(s.units * p.unit_price) AS revenue\n",
    "FROM sales s\n",
    "JOIN products p ON p.product_id = s.product_id\n",
    "WHERE s.sale_date BETWEEN '2025-07-01' AND '2025-09-30'\n",
    "GROUP BY p.category\n",
    "ORDER BY revenue DESC;"
   ]
  },
  {
   "cell_type": "markdown",
   "id": "ecd8c9b9",
   "metadata": {},
   "source": [
    "### Ejercicio 3 — Top 3 productos por revenue (10 min)\n",
    "Enunciado: lista los 3 productos con mayor revenue total.\n",
    "\n",
    "Tu consulta:"
   ]
  },
  {
   "cell_type": "code",
   "execution_count": null,
   "id": "b8ac4a5c",
   "metadata": {},
   "outputs": [],
   "source": [
    "-- Tu solucion aqui"
   ]
  },
  {
   "cell_type": "markdown",
   "id": "63c53035",
   "metadata": {},
   "source": [
    "**Solucion propuesta:**"
   ]
  },
  {
   "cell_type": "code",
   "execution_count": null,
   "id": "f68c214c",
   "metadata": {},
   "outputs": [],
   "source": [
    "SELECT\n",
    "  p.product_name,\n",
    "  SUM(s.units * p.unit_price) AS revenue\n",
    "FROM sales s\n",
    "JOIN products p ON p.product_id = s.product_id\n",
    "GROUP BY p.product_name\n",
    "ORDER BY revenue DESC\n",
    "LIMIT 3;"
   ]
  },
  {
   "cell_type": "markdown",
   "id": "a5a85813-5ce4-4bca-8ed6-b9ba290762e8",
   "metadata": {},
   "source": [
    "**Soluci+on breakoutrooms:**"
   ]
  },
  {
   "cell_type": "code",
   "execution_count": null,
   "id": "d186b4f4-29e5-47ad-bca6-df76daac43d9",
   "metadata": {},
   "outputs": [],
   "source": [
    "SELECT s.sale_id, s.sale_date, st.store_name, p.product_name, s.units\n",
    "FROM sales s\n",
    "JOIN stores st ON s.store_id = st.store_id\n",
    "JOIN products p ON s.product_id = p.product_id\n",
    "WHERE s.sale_date BETWEEN '2025-09-01' AND '2025-09-30'\n",
    "ORDER BY s.units DESC;"
   ]
  },
  {
   "cell_type": "markdown",
   "id": "2b9906d5",
   "metadata": {},
   "source": [
    "## 7) Retos (opcional, para casa)\n",
    "1) Precio y costo promedio ponderado por categoria (ponderado por unidades).  \n",
    "2) Campanas con revenue_attributed < spend (a partir del CTE de ROI).  \n",
    "3) Producto estrella por tienda (max revenue por tienda)."
   ]
  },
  {
   "cell_type": "markdown",
   "id": "3a65b885",
   "metadata": {},
   "source": [
    "## Cierre\n",
    "- Practicaste DDL, DML y SELECT con JOIN/GROUP BY y KPIs de negocio.  \n",
    "- Repite el proceso en un playground nuevo para reforzar aprendizaje.  \n",
    "**Generado:** 2025-10-20 22:14\n",
    "\n",
    "## Siguientes Pasos\n",
    "- **Próxima sesión:** Documentación de sentencias SQL y calculos para negocio.\n",
    "- **Participación continua:** asistir a Co-Learning y a Sprint Focus, y usar los canales de Discord para hacer preguntas.\n",
    "- **Recordatorios:** la grabación y recursos utilizados, se comparten al finalizar la sesión; en caso de necesitar apoyo adicional, agenda un 1:1."
   ]
  },
  {
   "cell_type": "code",
   "execution_count": null,
   "id": "ab173511-311c-4167-b4b0-c13997342f7e",
   "metadata": {},
   "outputs": [],
   "source": []
  }
 ],
 "metadata": {
  "kernelspec": {
   "display_name": "Python 3 (ipykernel)",
   "language": "python",
   "name": "python3"
  },
  "language_info": {
   "codemirror_mode": {
    "name": "ipython",
    "version": 3
   },
   "file_extension": ".py",
   "mimetype": "text/x-python",
   "name": "python",
   "nbconvert_exporter": "python",
   "pygments_lexer": "ipython3",
   "version": "3.12.3"
  }
 },
 "nbformat": 4,
 "nbformat_minor": 5
}
