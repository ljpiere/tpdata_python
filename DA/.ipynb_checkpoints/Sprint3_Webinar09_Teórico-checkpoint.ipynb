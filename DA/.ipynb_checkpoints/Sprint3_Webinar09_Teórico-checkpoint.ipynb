{
 "cells": [
  {
   "cell_type": "markdown",
   "id": "e59d9d96",
   "metadata": {},
   "source": [
    "# Sprint 3 – Webinar 7: KPIs financieros con SQL (90 min)\n",
    "**Propósito:** usar SQL para calcular métricas financieras (ingresos, costos, margen, ROI), estructurar y comunicar resultados, y analizar tendencias.\n",
    "\n",
    "**DB de práctica:** esquema de librería (books, authors, publishers, ratings, reviews). Para métricas financieras crearemos *CTEs* con datos de ejemplo mediante `VALUES` para no depender de tablas adicionales. Reemplaza esos CTE por tus tablas reales cuando las tengas.\n",
    "\n",
    "**Conexión:** SQLAlchemy + `pd.read_sql()`.\n",
    "\n",
    "**Duración sugerida:** 90 min (40 teoría + 35 práctica guiada + 15 ejercicios de entrega).\n",
    "\n"
   ]
  },
  {
   "cell_type": "markdown",
   "id": "cf6d3091",
   "metadata": {},
   "source": [
    "## Agenda\n",
    "1) Conexión a la base y vista del esquema\n",
    "\n",
    "2) **Calculating Key Financial Metrics**\n",
    "\n",
    "3) **Structuring, Delivering and communicating Financial Reports**\n",
    "\n",
    "4) **Analyzing Trends**\n",
    "\n",
    "5) Cierre + tareas\n"
   ]
  },
  {
   "cell_type": "markdown",
   "id": "394ae921",
   "metadata": {},
   "source": [
    "## Esquema de práctica\n",
    "Usaremos las tablas del diagrama (libros, autores, editoriales, ratings, reseñas).\n",
    "\n",
    "<div style=\"text-align: center\">\n",
    "    <img src=\"https://raw.githubusercontent.com/ljpiere/tpdata_python/main/images/sp3_w2p.jpg\" width=\"400\">\n",
    "</div>\n"
   ]
  },
  {
   "cell_type": "code",
   "execution_count": null,
   "id": "472e1086",
   "metadata": {},
   "outputs": [],
   "source": [
    "from sqlalchemy import create_engine\n",
    "import pandas as pd\n",
    "\n",
    "pd.options.display.max_columns = None\n",
    "\n",
    "db_config = {\n",
    " 'user': 'practicum_student', # username\n",
    " 'pwd': 'QnmDH8Sc2TQLvy2G3Vvh7', # password\n",
    " 'host': 'yp-trainers-practicum.cluster-czs0gxyx2d8w.us-east-1.rds.amazonaws.com',\n",
    " 'port': 5432, \n",
    " 'db': 'data-analyst-final-project-db'\n",
    "}\n",
    "\n",
    "connection_string = 'postgresql://{}:{}@{}:{}/{}'.format(\n",
    "    db_config['user'],\n",
    "    db_config['pwd'],\n",
    "    db_config['host'],\n",
    "    db_config['port'],\n",
    "    db_config['db']\n",
    ")\n",
    "\n",
    "engine = create_engine(connection_string, connect_args={'sslmode':'require'})"
   ]
  },
  {
   "cell_type": "code",
   "execution_count": null,
   "id": "6763c299",
   "metadata": {},
   "outputs": [],
   "source": [
    "# Helper: ejecuta una consulta y devuelve un DataFrame\n",
    "def sql(query: str):\n",
    "    return pd.read_sql(query, con=engine)\n",
    "\n",
    "# Prueba rápida: contar libros por editorial\n",
    "sql(\"\"\"\n",
    "SELECT p.publisher, COUNT(*) AS n_books\n",
    "FROM books b\n",
    "JOIN publishers p USING(publisher_id)\n",
    "GROUP BY 1\n",
    "ORDER BY 2 DESC\n",
    "LIMIT 5;\n",
    "\"\"\")"
   ]
  },
  {
   "cell_type": "markdown",
   "id": "ef8e680c",
   "metadata": {},
   "source": [
    "# 3. Calculating Key Financial Metrics"
   ]
  },
  {
   "cell_type": "markdown",
   "id": "e24fb229",
   "metadata": {},
   "source": [
    "### 3.1 Aggregating Revenue and Cost Data\n",
    "- Sumar ventas y costos por categorías de negocio.\n",
    "- Filtrar por tiempo (ej.: último trimestre).\n",
    "- Comparar revenue vs cost con alias/subconsultas.\n",
    "\n",
    "**Nota:** Creamos un CTE `sales` con datos *mock* (book_id, sale_date, revenue, cost, campaign_id). Sustituye por tus tablas reales si existen.\n"
   ]
  },
  {
   "cell_type": "code",
   "execution_count": null,
   "id": "f122ff1e",
   "metadata": {},
   "outputs": [],
   "source": [
    "query = '''\n",
    "WITH sales(book_id, sale_date, revenue, cost, campaign_id) AS (\n",
    "    VALUES \n",
    "    (1, '2025-04-05', 120.00, 70.00, 101),\n",
    "    (2, '2025-05-12', 250.00, 120.00, 102),\n",
    "    (3, '2025-06-01', 175.00, 90.00, 101),\n",
    "    (1, '2025-06-20', 90.00,  50.00, 103),\n",
    "    (2, '2025-06-25', 140.00, 80.00, 103)\n",
    "),\n",
    "last_q AS (\n",
    "  SELECT *\n",
    "  FROM sales\n",
    "  WHERE sale_date >= (date_trunc('quarter', CURRENT_DATE) - interval '1 quarter')\n",
    "    AND sale_date < date_trunc('quarter', CURRENT_DATE)\n",
    ")\n",
    "SELECT p.publisher AS category,\n",
    "       ROUND(SUM(lq.revenue),2) AS total_revenue,\n",
    "       ROUND(SUM(lq.cost),2)    AS total_cost\n",
    "FROM last_q lq\n",
    "LEFT JOIN books b USING(book_id)\n",
    "LEFT JOIN publishers p USING(publisher_id)\n",
    "GROUP BY 1\n",
    "ORDER BY total_revenue DESC;\n",
    "'''\n",
    "sql(query)"
   ]
  },
  {
   "cell_type": "markdown",
   "id": "cef04569",
   "metadata": {},
   "source": [
    "#### Exercise 3.1\n",
    "Escribe una consulta que muestre **total revenue** y **total cost por *title*** para el trimestre pasado. (Tip: reutiliza el CTE `sales` y cambia el `GROUP BY`).\n",
    "\n",
    "> Escribe tu solución aquí:"
   ]
  },
  {
   "cell_type": "code",
   "execution_count": null,
   "id": "a60db8e5",
   "metadata": {},
   "outputs": [],
   "source": [
    "# tu código\n",
    "# sql(\"\"\" ... \"\"\")"
   ]
  },
  {
   "cell_type": "markdown",
   "id": "60aa06be",
   "metadata": {},
   "source": [
    "### 3.2 Calculating Profit and Margin\n",
    "- Crear campos con operaciones aritméticas.\n",
    "- `gross_profit = revenue - cost`.\n",
    "- `margin_pct = (revenue - cost) / NULLIF(revenue,0)`.\n"
   ]
  },
  {
   "cell_type": "code",
   "execution_count": null,
   "id": "6249202f",
   "metadata": {},
   "outputs": [],
   "source": [
    "query = '''\n",
    "WITH sales(book_id, sale_date, revenue, cost, campaign_id) AS (\n",
    "    VALUES \n",
    "    (1, '2025-04-05', 120.00, 70.00, 101),\n",
    "    (2, '2025-05-12', 250.00, 120.00, 102),\n",
    "    (3, '2025-06-01', 175.00, 90.00, 101),\n",
    "    (1, '2025-06-20', 90.00,  50.00, 103),\n",
    "    (2, '2025-06-25', 140.00, 80.00, 103)\n",
    ")\n",
    "SELECT p.publisher AS category,\n",
    "       ROUND(SUM(revenue),2) AS revenue,\n",
    "       ROUND(SUM(cost),2)    AS cost,\n",
    "       ROUND(SUM(revenue - cost),2) AS gross_profit,\n",
    "       ROUND(100 * SUM(revenue - cost)/NULLIF(SUM(revenue),0),2) AS margin_pct\n",
    "FROM sales s\n",
    "LEFT JOIN books b USING(book_id)\n",
    "LEFT JOIN publishers p USING(publisher_id)\n",
    "GROUP BY 1\n",
    "ORDER BY margin_pct DESC;\n",
    "'''\n",
    "sql(query)"
   ]
  },
  {
   "cell_type": "markdown",
   "id": "03a26e2f",
   "metadata": {},
   "source": [
    "#### Exercise 3.2\n",
    "Extiende tu consulta anterior para incluir **gross profit** y **margin percentage por categoría**."
   ]
  },
  {
   "cell_type": "code",
   "execution_count": null,
   "id": "aab5ea0d",
   "metadata": {},
   "outputs": [],
   "source": [
    "# tu código\n",
    "# sql(\"\"\" ... \"\"\")"
   ]
  },
  {
   "cell_type": "markdown",
   "id": "eb6959fb",
   "metadata": {},
   "source": [
    "### 3.3 Measuring ROI by Campaign\n",
    "- Unir ingresos y gasto de marketing por `campaign_id`.\n",
    "- `ROI = (revenue - spend) / NULLIF(spend,0)`.\n",
    "- Rankear campañas de mayor a menor.\n"
   ]
  },
  {
   "cell_type": "code",
   "execution_count": null,
   "id": "1e0062cc",
   "metadata": {},
   "outputs": [],
   "source": [
    "query = '''\n",
    "WITH sales(book_id, sale_date, revenue, cost, campaign_id) AS (\n",
    "    VALUES \n",
    "    (1, '2025-06-01', 200.00, 110.00, 501),\n",
    "    (2, '2025-06-03', 180.00, 95.00, 502),\n",
    "    (1, '2025-06-10', 160.00, 85.00, 501),\n",
    "    (3, '2025-06-14', 90.00,  55.00, 503)\n",
    "),\n",
    "marketing_spend(campaign_id, spend) AS (\n",
    "    VALUES (501, 150.00), (502, 220.00), (503, 60.00)\n",
    ")\n",
    "SELECT s.campaign_id,\n",
    "       ROUND(SUM(s.revenue),2) AS revenue,\n",
    "       ROUND(SUM(s.cost),2)    AS cost,\n",
    "       ms.spend,\n",
    "       ROUND(100 * (SUM(s.revenue) - ms.spend)/NULLIF(ms.spend,0),2) AS roi_pct\n",
    "FROM sales s\n",
    "JOIN marketing_spend ms USING(campaign_id)\n",
    "GROUP BY s.campaign_id, ms.spend\n",
    "ORDER BY roi_pct DESC;\n",
    "'''\n",
    "sql(query)"
   ]
  },
  {
   "cell_type": "markdown",
   "id": "72a0dc21",
   "metadata": {},
   "source": [
    "#### Exercise 3.3\n",
    "Calcula el ROI de cada campaña y **ordénalas de mayor a menor**. (Puedes partir de la consulta anterior y ajustar números)."
   ]
  },
  {
   "cell_type": "code",
   "execution_count": null,
   "id": "cfa0b10a",
   "metadata": {},
   "outputs": [],
   "source": [
    "# tu código\n",
    "# sql(\"\"\" ... \"\"\")"
   ]
  },
  {
   "cell_type": "markdown",
   "id": "7553481c",
   "metadata": {},
   "source": [
    "### 3.4 Validating and Verifying SQL Results\n",
    "- Compara totales vs. datos crudos.\n",
    "- Verifica cálculos y filtros.\n",
    "- Haz *sanity checks* siempre.\n",
    "\n",
    "**Checklist rápido**\n",
    "1) ¿Los totales de la agregación coinciden con la suma de la tabla base?\n",
    "2) ¿Hay `NULL`s inesperados? Usa `COALESCE`.\n",
    "3) ¿Las fechas y períodos están correctamente filtrados?\n",
    "4) ¿Las métricas son invariantes ante `JOIN` duplicadores? Usa *distinct* o *grain* correcto.\n"
   ]
  },
  {
   "cell_type": "code",
   "execution_count": null,
   "id": "ffeab3fd",
   "metadata": {},
   "outputs": [],
   "source": [
    "# Ejemplo de cross-check entre agregado y detalle\n",
    "query_total = '''\n",
    "WITH sales(book_id, sale_date, revenue, cost, campaign_id) AS (\n",
    "    VALUES (1,'2025-06-01',200,110,501),(2,'2025-06-03',180,95,502),(1,'2025-06-10',160,85,501)\n",
    ")\n",
    "SELECT ROUND(SUM(revenue),2) AS total_revenue\n",
    "FROM sales;\n",
    "'''\n",
    "total_df = sql(query_total)\n",
    "\n",
    "query_by_cat = '''\n",
    "WITH sales(book_id, sale_date, revenue, cost, campaign_id) AS (\n",
    "    VALUES (1,'2025-06-01',200,110,501),(2,'2025-06-03',180,95,502),(1,'2025-06-10',160,85,501)\n",
    ")\n",
    "SELECT p.publisher, ROUND(SUM(s.revenue),2) AS revenue\n",
    "FROM sales s\n",
    "JOIN books b USING(book_id)\n",
    "JOIN publishers p USING(publisher_id)\n",
    "GROUP BY 1;\n",
    "'''\n",
    "by_cat_df = sql(query_by_cat)\n",
    "\n",
    "total_df, by_cat_df, by_cat_df['revenue'].sum()"
   ]
  },
  {
   "cell_type": "markdown",
   "id": "c5577528",
   "metadata": {},
   "source": [
    "# 4. Structuring, Delivering and comunicating Financial Reports"
   ]
  },
  {
   "cell_type": "markdown",
   "id": "88e99819",
   "metadata": {},
   "source": [
    "### 4.1 Organizing SQL Output for Reporting\n",
    "- Aliases descriptivos.\n",
    "- Orden consistente.\n",
    "- Listo para exportar (`df.to_csv`).\n"
   ]
  },
  {
   "cell_type": "code",
   "execution_count": null,
   "id": "dde43a4a",
   "metadata": {},
   "outputs": [],
   "source": [
    "df = sql(\"\"\"\n",
    "WITH sales(book_id, sale_date, revenue, cost, campaign_id) AS (\n",
    "  VALUES (1,'2025-06-01',200,110,501),(2,'2025-06-03',180,95,502),(1,'2025-06-10',160,85,501)\n",
    ")\n",
    "SELECT p.publisher AS category,\n",
    "       DATE_TRUNC('month', sale_date)::date AS month,\n",
    "       ROUND(SUM(revenue),2) AS revenue_usd,\n",
    "       ROUND(100 * SUM(revenue - cost)/NULLIF(SUM(revenue),0),2) AS margin_pct\n",
    "FROM sales s\n",
    "JOIN books b USING(book_id)\n",
    "JOIN publishers p USING(publisher_id)\n",
    "GROUP BY 1,2\n",
    "ORDER BY month, category;\n",
    "\"\"\")\n",
    "df.head()"
   ]
  },
  {
   "cell_type": "code",
   "execution_count": null,
   "id": "3584bad6",
   "metadata": {},
   "outputs": [],
   "source": [
    "# Exportar a CSV listo para slide o dashboard\n",
    "# df.to_csv('financial_report.csv', index=False)\n",
    "# print('Archivo guardado:', 'financial_report.csv')"
   ]
  },
  {
   "cell_type": "markdown",
   "id": "54fe564c",
   "metadata": {},
   "source": [
    "#### Exercise 4.1\n",
    "Ajusta una consulta para incluir **aliases significativos** y **orden** para exportar."
   ]
  },
  {
   "cell_type": "code",
   "execution_count": null,
   "id": "651e82b5",
   "metadata": {},
   "outputs": [],
   "source": [
    "# tu código"
   ]
  },
  {
   "cell_type": "markdown",
   "id": "c9ecbed8",
   "metadata": {},
   "source": [
    "### 4.2 Documenting SQL Queries with Comments\n",
    "- Usa comentarios `-- ...` y secciones.\n",
    "- Documenta supuestos y filtros.\n"
   ]
  },
  {
   "cell_type": "code",
   "execution_count": null,
   "id": "91cc4201",
   "metadata": {},
   "outputs": [],
   "source": [
    "sql(\"\"\"\n",
    "-- Métrica: margen por editorial en el mes actual\n",
    "WITH sales(book_id, sale_date, revenue, cost, campaign_id) AS (\n",
    "  -- Datos de ejemplo; reemplaza por tu tabla de ventas real\n",
    "  VALUES (1,'2025-06-01',200,110,501),(2,'2025-06-03',180,95,502),(1,'2025-06-10',160,85,501)\n",
    ")\n",
    "SELECT \n",
    "  p.publisher                 AS category,      -- agrupación de negocio\n",
    "  ROUND(SUM(revenue - cost),2) AS gross_profit, -- ingreso - costo\n",
    "  ROUND(100 * SUM(revenue - cost)/NULLIF(SUM(revenue),0),2) AS margin_pct -- margen%\n",
    "FROM sales s\n",
    "JOIN books b USING(book_id)   -- une para conocer la editorial\n",
    "JOIN publishers p USING(publisher_id)\n",
    "WHERE sale_date >= date_trunc('month', CURRENT_DATE) -- filtro temporal\n",
    "GROUP BY 1\n",
    "ORDER BY margin_pct DESC;\n",
    "\"\"\")"
   ]
  },
  {
   "cell_type": "markdown",
   "id": "0be69ff0",
   "metadata": {},
   "source": [
    "### 4.3 Summarizing and Presenting Business Recommendations – Part I\n",
    "- Selecciona *lo más relevante*.\n",
    "- Explica en lenguaje de negocio.\n",
    "- Un gráfico + un párrafo.\n"
   ]
  },
  {
   "cell_type": "code",
   "execution_count": null,
   "id": "cbfcd3e9",
   "metadata": {},
   "outputs": [],
   "source": [
    "# Template de memo (completa con tus números)\n",
    "from IPython.display import Markdown\n",
    "\n",
    "Markdown(\"\"\"\n",
    "**Resumen ejecutivo (1 párrafo):**  \n",
    "En el último mes, la editorial **X** presenta el mayor margen (**Y%**), impulsada por **título A**. Recomendamos **duplicar presupuesto** en campañas **501–503** dado su ROI > **Z%**, y revisar costos de distribución en **editorial W**.\n",
    "\n",
    "**Gráfico sugerido:** tabla o barra de margen por editorial (exporta desde tu DataFrame).\n",
    "\"\"\")"
   ]
  },
  {
   "cell_type": "markdown",
   "id": "cc6b11e5",
   "metadata": {},
   "source": [
    "### 4.4 Summarizing and Presenting Business Recommendations – Part II\n",
    "- Propón acciones basadas en margen/ROI/tendencias.\n",
    "- Acompaña con tablas o visuales.\n"
   ]
  },
  {
   "cell_type": "markdown",
   "id": "fde0c554",
   "metadata": {},
   "source": [
    "### 4.5 Adapting Messages for Different Stakeholders\n",
    "Buenas prácticas:\n",
    "- Claridad y concisión; títulos informativos.\n",
    "- Ajusta nivel técnico al público.\n",
    "- Para C‑level: **conclusiones primero**.\n",
    "\n",
    "**Exercise 4.5**: Reescribe una recomendación en dos versiones.\n",
    "- **Finance executive (CFO):** foco en margen, ROI, riesgo.\n",
    "- **Marketing manager:** foco en campañas, audiencias, próximos pasos.\n",
    "\n",
    "Completa aquí:\n",
    "\n",
    "- **CFO:** _tu párrafo_\n",
    "- **Marketing:** _tu párrafo_\n"
   ]
  },
  {
   "cell_type": "markdown",
   "id": "7cb446a4",
   "metadata": {},
   "source": [
    "### 4.6 AI 🤖 – Using LLMs to create summary slides\n",
    "- Usa un LLM (ChatGPT) para bosquejar slides.\n",
    "- Herramientas: Gamma.app para ejecutivos rápidos.\n",
    "- Entrega resultados con formato profesional.\n"
   ]
  },
  {
   "cell_type": "markdown",
   "id": "5b9e5e4b",
   "metadata": {},
   "source": [
    "# 5. Analyzing Trends"
   ]
  },
  {
   "cell_type": "markdown",
   "id": "a8b43311",
   "metadata": {},
   "source": [
    "### 5.1 Tracking KPIs Over Time\n",
    "- `GROUP BY` por mes/trimestre.\n",
    "- Comparar revenue y margin.\n",
    "- Rolling averages, WoW/MoM/YoY.\n"
   ]
  },
  {
   "cell_type": "code",
   "execution_count": null,
   "id": "c77bcac6",
   "metadata": {},
   "outputs": [],
   "source": [
    "sql(\"\"\"\n",
    "WITH sales(book_id, sale_date, revenue, cost, campaign_id) AS (\n",
    "  VALUES (1,'2025-01-10',120,70,501),(1,'2025-02-15',200,110,501),\n",
    "         (2,'2025-03-01',180,95,502),(2,'2025-04-05',220,120,502),\n",
    "         (3,'2025-05-20',90,55,503),(1,'2025-06-02',160,85,501)\n",
    ")\n",
    "SELECT date_trunc('month', sale_date)::date AS month,\n",
    "       ROUND(SUM(revenue),2) AS revenue,\n",
    "       ROUND(100*SUM(revenue-cost)/NULLIF(SUM(revenue),0),2) AS margin_pct,\n",
    "       ROUND(AVG(SUM(revenue)) OVER(ORDER BY date_trunc('month', sale_date)\n",
    "            ROWS BETWEEN 2 PRECEDING AND CURRENT ROW),2) AS rolling_3m_revenue\n",
    "FROM sales\n",
    "GROUP BY 1\n",
    "ORDER BY 1;\n",
    "\"\"\")"
   ]
  },
  {
   "cell_type": "markdown",
   "id": "b23226e2",
   "metadata": {},
   "source": [
    "#### Exercise 5.1\n",
    "Muestra **revenue** y **margin% por mes** para los últimos 6 meses (usa `WHERE sale_date >= CURRENT_DATE - interval '6 months'`)."
   ]
  },
  {
   "cell_type": "code",
   "execution_count": null,
   "id": "17662442",
   "metadata": {},
   "outputs": [],
   "source": [
    "# tu código"
   ]
  },
  {
   "cell_type": "markdown",
   "id": "c405a402",
   "metadata": {},
   "source": [
    "### 5.2 Translating Business Questions into Queries\n",
    "Ejemplo de pregunta → SQL: *“¿Qué 5 productos tuvieron los mayores márgenes?”*\n"
   ]
  },
  {
   "cell_type": "code",
   "execution_count": null,
   "id": "ad3451f9",
   "metadata": {},
   "outputs": [],
   "source": [
    "sql(\"\"\"\n",
    "WITH sales(book_id, sale_date, revenue, cost, campaign_id) AS (\n",
    "  VALUES (1,'2025-06-01',200,110,501),(2,'2025-06-03',180,95,502),(3,'2025-06-10',160,85,503),\n",
    "         (2,'2025-06-14',210,120,502),(1,'2025-06-20',140,80,501)\n",
    ")\n",
    "SELECT b.title,\n",
    "       ROUND(100 * SUM(revenue - cost)/NULLIF(SUM(revenue),0),2) AS margin_pct\n",
    "FROM sales s\n",
    "JOIN books b USING(book_id)\n",
    "GROUP BY b.title\n",
    "ORDER BY margin_pct DESC\n",
    "LIMIT 5;\n",
    "\"\"\")"
   ]
  },
  {
   "cell_type": "markdown",
   "id": "58f7fef7",
   "metadata": {},
   "source": [
    "#### Exercise 5.2\n",
    "Convierte la pregunta *“Which 5 products had the highest margins?”* en una consulta usando `ORDER BY` y `LIMIT` (adapta el ejemplo)."
   ]
  },
  {
   "cell_type": "code",
   "execution_count": null,
   "id": "18205e5b",
   "metadata": {},
   "outputs": [],
   "source": [
    "# tu código"
   ]
  },
  {
   "cell_type": "markdown",
   "id": "54a12e62",
   "metadata": {},
   "source": [
    "### 5.3 AI 🤖 – Using LLMs to turn business questions into queries\n",
    "- Describe el dataset y la pregunta al LLM para obtener un primer borrador de SQL.\n",
    "- Realiza **spot checks** y validaciones antes de usar.\n",
    "- Copia aquí el prompt que usarías y pega la consulta sugerida (si aplica).\n"
   ]
  },
  {
   "cell_type": "markdown",
   "id": "2df5a86a",
   "metadata": {},
   "source": [
    "## Cierre\n",
    "- Guarda tus consultas clave en un script comentado.\n",
    "- Exporta una tabla final y redacta una recomendación ejecutiva.\n",
    "- **Tarea:** rehacer los ejercicios usando tus propias tablas reales si existen.\n",
    "\n",
    "## Siguientes Pasos\n",
    "- **Próxima sesión:** Practica con tus compañeros - revisión requisitos para el proyecto del sprint 3.\n",
    "- **Participación continua:** asistir a Co-Learning y a Sprint Focus, y usar los canales de Discord para hacer preguntas.\n",
    "- **Recordatorios:** la grabación y recursos utilizados, se comparten al finalizar la sesión; en caso de necesitar apoyo adicional, agenda un 1:1.\n",
    "\n",
    "_Última actualización: 2025-10-14 16:25 UTC_"
   ]
  },
  {
   "cell_type": "code",
   "execution_count": null,
   "id": "fac6722c-8685-4ee7-9d4e-1966b282a85f",
   "metadata": {},
   "outputs": [],
   "source": []
  }
 ],
 "metadata": {
  "kernelspec": {
   "display_name": "Python 3 (ipykernel)",
   "language": "python",
   "name": "python3"
  },
  "language_info": {
   "codemirror_mode": {
    "name": "ipython",
    "version": 3
   },
   "file_extension": ".py",
   "mimetype": "text/x-python",
   "name": "python",
   "nbconvert_exporter": "python",
   "pygments_lexer": "ipython3",
   "version": "3.12.3"
  }
 },
 "nbformat": 4,
 "nbformat_minor": 5
}
