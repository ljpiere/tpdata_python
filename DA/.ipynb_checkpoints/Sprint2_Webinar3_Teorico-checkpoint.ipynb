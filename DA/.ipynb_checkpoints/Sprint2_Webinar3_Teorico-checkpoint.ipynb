{
 "cells": [
  {
   "cell_type": "markdown",
   "id": "3f3ed669",
   "metadata": {},
   "source": [
    "# Sprint 2 - Webinar 3: Formulación de Preguntas de Negocio y Preparación de Datos en Excel/Sheets (80 min)\n",
    "\n",
    "**Fecha de creación:** 2025-09-14 01:18  \n",
    "**Dataset base:** `almacen_ventas.xlsx`"
   ]
  },
  {
   "cell_type": "markdown",
   "id": "666a203e",
   "metadata": {},
   "source": [
    "---\n",
    "## Objetivos de Aprendizaje\n",
    "- Traducir escenarios de negocio en **preguntas analíticas claras** y **métricas** medibles.\n",
    "- Diferenciar métricas **absolutas** vs **relativas** e identificar **KPI/OKR** y *guardrail metrics*.\n",
    "- Distinguir **leading** vs **lagging indicators** y redactar preguntas enfocadas.\n",
    "- **Preparar** y **combinar** datasets (XLOOKUP/VLOOKUP), aplicar limpieza categórica (TRIM/PROPER/CLEAN).\n",
    "- Resumir datos con **SUMIF/SUMIFS/COUNTIF/AVERAGEIF** y organizar un libro “analysis‑ready”.\n",
    "- Apoyarse de un **LLM** para refinar stakeholders, métricas y fórmulas (usándolo con criterio).\n",
    "\n",
    "> **Tiempo total:** 80 minutos — pensado para trabajar sobre `almacen_ventas.xlsx`.\n"
   ]
  },
  {
   "cell_type": "markdown",
   "id": "63f37b62",
   "metadata": {},
   "source": [
    "---\n",
    "## Agenda (80 min)\n",
    "1) Introducción al contexto analítico (10 min)  \n",
    "2) Preguntas de negocio y métricas (25 min)  \n",
    "3) Preparación y exploración del dataset (25 min)  \n",
    "4) Resumen y ejercicios de cierre (20 min)\n"
   ]
  },
  {
   "cell_type": "markdown",
   "id": "f4b8eec3",
   "metadata": {},
   "source": [
    "---\n",
    "## 0. Setup (Docente)\n",
    "Antes de iniciar, asegúrate de tener el archivo **`almacen_ventas.xlsx`** en tu equipo.  \n",
    "Si estás usando este notebook en local (con Python), la siguiente celda demuestra cómo leerlo con `pandas`.\n",
    "Si trabajas en **Excel/Google Sheets**, simplemente abre el archivo y sigue las instrucciones en las hojas.\n"
   ]
  },
  {
   "cell_type": "code",
   "execution_count": null,
   "id": "7558f197",
   "metadata": {},
   "outputs": [],
   "source": [
    "# (Opcional para docente) Cargar datos con pandas si deseas mostrar ejemplos en Python\n",
    "import pandas as pd\n",
    "from pathlib import Path\n",
    "\n",
    "xlsx_path = Path('/mnt/data/almacen_ventas.xlsx')  # ajusta la ruta si tu archivo está en otra ubicación\n",
    "assert xlsx_path.exists(), \"No se encuentra el archivo almacen_ventas.xlsx en la ruta especificada.\"\n",
    "\n",
    "raw = pd.read_excel(xlsx_path, sheet_name='Raw Data')\n",
    "customers = pd.read_excel(xlsx_path, sheet_name='Customers')\n",
    "readme = pd.read_excel(xlsx_path, sheet_name='README')\n",
    "\n",
    "raw.head(3), customers.head(3)\n"
   ]
  },
  {
   "cell_type": "markdown",
   "id": "d8407405",
   "metadata": {},
   "source": [
    "---\n",
    "# 1) Analytical Questions in a Business Context (10 + 25 min)\n",
    "\n",
    "### 1.1 Framing Data Questions from Business Needs (5 min)\n",
    "**Idea clave:** convertir necesidades del negocio en preguntas analíticas claras.\n",
    "- Identifica **stakeholders** (quién decide).\n",
    "- Explicita la **decisión** a tomar y el **horizonte temporal**.\n",
    "- Revisa **campos disponibles** del dataset y mapea cómo responden preguntas.\n",
    "\n",
    "**Ejemplos rápidos (para discutir en clase):**\n",
    "- Stakeholder: Gerente de Ventas → Decisión: reasignar presupuesto regional trimestral → Dataset: `Date, Region, Total_Sales`.\n",
    "- Stakeholder: Marketing → Decisión: campaña por producto → Dataset: `Product, Units_Sold, Region`.\n",
    "\n",
    "**Ejercicio 1 (5 min, en parejas):**\n",
    "Para cada mini-escenario, escribe:\n",
    "1) Stakeholder\n",
    "2) Pregunta clave (1 línea, clara)\n",
    "3) Campos del dataset que usarías\n",
    "\n",
    "a) “Necesito saber qué producto impulsar en el próximo mes en la región West.”  \n",
    "b) “Quiero entender el desempeño mensual por vendedor.”  \n",
    "c) “¿Qué categoría sostiene el crecimiento del trimestre?”\n"
   ]
  },
  {
   "cell_type": "markdown",
   "id": "4d3ce7df",
   "metadata": {},
   "source": [
    "### 1.2 Matching Business Questions with the Right Metrics (10 min)\n",
    "**Métricas básicas:** total (SUM), promedio (AVERAGE), crecimiento % (MoM/YoY), razones/ratios, varianza, percentiles.  \n",
    "**KPI vs OKR:** KPI mide desempeño continuo; OKR formula objetivos + resultados clave.  \n",
    "**Guardrail metrics:** métricas de seguridad para evitar impactos indeseados (p.ej., churn, NPS).  \n",
    "**Absolutas vs relativas:** totales vs tasas/porcentajes.\n",
    "\n",
    "**Ejercicio 2 (10 min, en Excel/Sheets):**\n",
    "En `Raw Data` crear columna `Month`:\n",
    "- Excel: `=TEXT([@Date],\"mmm-yyyy\")`  (o usar **Power Query** si prefieres)\n",
    "- Sheets: `=TEXT(A2,\"mmm-yyyy\")`\n",
    "\n",
    "Responde con fórmulas (no Pivot, por ahora):\n",
    "1) **Total de ventas por producto** (usa `SUMIF` o `SUMIFS`)  \n",
    "2) **Promedio de ventas por región** (`AVERAGEIF`)  \n",
    "3) **Crecimiento % Mes a Mes** de *Total_Sales*:\n",
    "   - Construye una tabla de Ventas por `Month`\n",
    "   - Fórmula de crecimiento: `(MesActual - MesAnterior) / MesAnterior`\n",
    "\n",
    "> Deja las fórmulas visibles y nombra los rangos para facilitar su lectura.\n"
   ]
  },
  {
   "cell_type": "markdown",
   "id": "c43c185e",
   "metadata": {},
   "source": [
    "### 1.3 Leading vs. Lagging Indicators (5 min)\n",
    "- **Leading** (anticipan): visitas al sitio, leads, unidades vendidas, cotizaciones.  \n",
    "- **Lagging** (confirman): ingresos, margen, utilidad, ventas cerradas.\n",
    "\n",
    "**Ejercicio 3 (3–5 min):**\n",
    "En una tabla de dos columnas, clasifica como *Leading* o *Lagging* los campos de `Raw Data`:\n",
    "- `Units_Sold` →\n",
    "- `Total_Sales` →\n",
    "- `Date` (cuando mide período consolidado) →\n",
    "- `Region` (no es métrica, es dimensión, ¿cómo la usarías para indicadores?) →\n",
    "\n",
    "Justifica brevemente en 1 oración por campo.\n"
   ]
  },
  {
   "cell_type": "markdown",
   "id": "6a5ba5b6",
   "metadata": {},
   "source": [
    "### 1.4 Writing Focused Analysis Questions (3 min)\n",
    "Estructura: **[Métrica] para [grupo/segmento] en [tiempo]**.  \n",
    "- Vago: “¿Cómo vamos en ventas?”  \n",
    "- Enfocado: “**Total_Sales** por **Product** en **West** durante **jun-2024** (comparado con may-2024).”\n",
    "\n",
    "**Ejercicio 4 (5 min):** Reescribe 3–5 preguntas vagas a formato listo para Pivot/función:\n",
    "1) “Quiero saber qué tan bien vende Sofía.”  \n",
    "2) “Quiero entender a los clientes.”  \n",
    "3) “¿Qué región es la mejor?”\n"
   ]
  },
  {
   "cell_type": "markdown",
   "id": "d9be82e1",
   "metadata": {},
   "source": [
    "### 1.5 🤖 AI: Using an LLM for stakeholder & metrics (2 min)\n",
    "Prompt sugerido (copiar/pegar en tu LLM favorito):\n",
    "> *Tengo un dataset con columnas Date, Region, Product, Units_Sold, Unit_Price, Salesperson, Total_Sales. Soy el Gerente de Ventas. Necesito priorizar presupuesto por región para el próximo trimestre. Sugiere: (1) objetivo y pregunta clave, (2) métricas y cálculos (incluye crecimiento y tasas), (3) qué tablas/resúmenes construirías para decidir.*\n",
    "\n",
    "**Discusión:** ¿Qué aceptarías del LLM? ¿Qué validarías manualmente?\n"
   ]
  },
  {
   "cell_type": "markdown",
   "id": "2c5f8aa3",
   "metadata": {},
   "source": [
    "---\n",
    "# 2) Preparing and Exploring the Dataset (25 min)\n",
    "\n",
    "### 2.1 Importing and Exploring a New Dataset (5 min)\n",
    "Abrir hoja **Customers** y revisar:\n",
    "- `Customer_ID`, `Region`, `Customer_Type` (Retail/Wholesale)\n",
    "- ¿Cómo podría relacionarse con `Raw Data`?\n",
    "\n",
    "**Ejercicio 5 (5 min):** Lista 3–4 posibles conexiones entre hojas:\n",
    "- Por `Region`\n",
    "- Por (futuro) `Customer_ID` en ventas\n",
    "- Por `Month` a nivel de segmentación comercial\n",
    "- Por `Customer_Type` para analizar mix Retail vs Wholesale\n"
   ]
  },
  {
   "cell_type": "markdown",
   "id": "dc58d75d",
   "metadata": {},
   "source": [
    "### 2.2 Combining Two Related Datasets (8 min)\n",
    "**Lookup exacto** vs aproximado. Lookup tables (dimensiones) vs tablas transaccionales.\n",
    "\n",
    "**Paso a paso con `XLOOKUP` (o `VLOOKUP`):**\n",
    "1. En `Raw Data`, inserta columna `Customer_Type` (o `Region_Type` si prefieres).  \n",
    "2. Fórmula (ejemplo por `Region`):  \n",
    "   - Excel: `=XLOOKUP([@Region],Customers!B:B,Customers!C:C,\"NoMatch\",0)`  \n",
    "   - Sheets (XLOOKUP): `=XLOOKUP(C2,Customers!B:B,Customers!C:C,\"NoMatch\",0)`  \n",
    "   - o VLOOKUP (asumiendo tabla ordenada): `=VLOOKUP(C2,Customers!B:C,2,FALSE)`\n",
    "3. **Verificación y troubleshooting:**  \n",
    "   - Cuenta matches: crea un conteo de `#N/A` con `=COUNTIF(Rango,\"#N/A\")`  \n",
    "   - Duplica: usa `Quitar duplicados` o conditional formatting\n",
    "\n",
    "**Ejercicio 6 (8–10 min):**\n",
    "- Haz el *perfect match* primero (sin errores).  \n",
    "- Luego introduce un error tipográfico (“Nort” por “North”) y observa `#N/A`.  \n",
    "- Documenta en una hoja “JOIN_DOC”:\n",
    "  - supuestos del join (clave, cardinalidad, exactitud)\n",
    "  - limitaciones detectadas (errores, duplicados)\n"
   ]
  },
  {
   "cell_type": "markdown",
   "id": "ddf77555",
   "metadata": {},
   "source": [
    "### 2.3 Organizing the Spreadsheet for Analysis (5 min)\n",
    "Buenas prácticas:\n",
    "- Renombrar y color‑code tabs (Datos, Dimensiones, Resúmenes, README).\n",
    "- Congelar encabezados, ajustar anchos, formato de miles y porcentajes.\n",
    "- **Declarative names** en columnas: `Total_Sales`, `Units_Sold` (evitar “col1”).\n",
    "- Validación de datos para `Region` ∈ {North, South, East, West}.\n",
    "- **Helper columns**: `Month`, `Quarter`, `Product_Category` (si aplica).\n",
    "\n",
    "**Ejercicio 7 (5 min):**\n",
    "- Renombra: `Sales_Raw`, `Customers`, `README`, `Cleaned_Data`, `Summary`.\n",
    "- Crea validaciones (listas) para `Region` y `Product`.\n",
    "- En `README`, documenta la estructura, pestañas y convenciones.\n"
   ]
  },
  {
   "cell_type": "markdown",
   "id": "7321ca8b",
   "metadata": {},
   "source": [
    "### 2.4 Preparing Categorical Data for Grouping (5 min)\n",
    "**Limpieza en hoja `Cleaned_Data`** referenciando `Sales_Raw` (no copiar/pegar manual):\n",
    "- `=TRIM(Sales_Raw!B2)` elimina espacios extra\n",
    "- `=PROPER(Sales_Raw!C2)` capitaliza\n",
    "- `=CLEAN(...)` remueve caracteres no imprimibles\n",
    "- Plantilla de chequeo: `=IF(ISBLANK(A2),\"Missing\",\"OK\")`\n",
    "\n",
    "**Ejercicio 8 (5 min):**\n",
    "- Implementa una plantilla de limpieza con columnas: `Original`, `Trimmed`, `Proper`, `Check`  \n",
    "- Añade una columna **`Issue_Flag`** con reglas: si `Region` no está en la lista válida → “Invalid Region”.\n",
    "- Guarda esta hoja como **plantilla reutilizable**.\n"
   ]
  },
  {
   "cell_type": "markdown",
   "id": "584125c8",
   "metadata": {},
   "source": [
    "### 2.5 🤖 AI para fórmulas & errores (2 min)\n",
    "Ejemplo de prompt (para depurar fórmulas):\n",
    "> *Tengo esta fórmula que devuelve #N/A/ERROR en Excel/Sheets: =XLOOKUP(C2,Customers!B:B,Customers!C:C). Mi objetivo es traer Customer_Type por Region. ¿Qué revisaría y cómo la reescribirías? Dame 2 alternativas y cómo validar el resultado.*\n"
   ]
  },
  {
   "cell_type": "markdown",
   "id": "a47ec229",
   "metadata": {},
   "source": [
    "---\n",
    "# 3) Summarizing Data with Functions and Filters (ráfagas guiadas)\n",
    "\n",
    "### 3.1 Filtering and Exploring Patterns\n",
    "- Usa filtros combinados (por `Region` y `Month`) para aislar subconjuntos.\n",
    "- Identifica patrones visuales rápidos (colores/heatmap, barras in-cell).\n",
    "\n",
    "**Ejercicio 9 (5 min):**\n",
    "Filtra un mes específico y responde:  \n",
    "“¿Qué **Product** tuvo mayor `Total_Sales` en **South**?”\n"
   ]
  },
  {
   "cell_type": "markdown",
   "id": "a8d83c2e",
   "metadata": {},
   "source": [
    "### 3.2 Conditional Aggregation Functions\n",
    "- `SUMIF/COUNTIF/AVERAGEIF` (1 condición) vs `SUMIFS/COUNTIFS/AVERAGEIFS` (multi-condición).\n",
    "- Usa referencias absolutas/relativas con intención (F4 en Excel).\n",
    "\n",
    "**Ejercicio 10 (8 min):**\n",
    "- Total de ventas por **Region** con `SUMIF`  \n",
    "- Promedio de `Units_Sold` por **Product** con `AVERAGEIF`  \n",
    "- Resalta duplicados y outliers con **formato condicional** (reglas > umbral)\n"
   ]
  },
  {
   "cell_type": "markdown",
   "id": "5a21248b",
   "metadata": {},
   "source": [
    "### 3.3 Comparing Segments with Multiple Conditions\n",
    "Construye una tabla de resumen usando `SUMIFS` por `Month` y dos regiones (ej. West vs East).\n",
    "\n",
    "**Ejercicio 11 (7–8 min):**\n",
    "Tabla: filas = `Month`; columnas = `West`, `East`; valores = `SUMIFS(Total_Sales, Region, \"West\", Month, [Mes])` …  \n",
    "**Pregunta:** ¿Cuál región crece más en el último trimestre?\n"
   ]
  },
  {
   "cell_type": "markdown",
   "id": "ba158fdb",
   "metadata": {},
   "source": [
    "### 3.4 Creating Summary Sheets for Key Metrics\n",
    "- Hoja `Summary`: KPIs (3), tabla breve y 1 mini‑gráfico.\n",
    "- Ajusta para la audiencia (equipo vs C‑level): pocos números, limpia y clara.\n",
    "\n",
    "**Ejercicio 12 (7–8 min):**\n",
    "- KPIs sugeridos: **Ventas totales**, **Ticket promedio** (Total_Sales/Units_Sold), **% crecimiento último mes**.\n",
    "- 1 gráfico: columnas apiladas por `Month` y `Region` o por `Product` top‑N.\n",
    "- Escribe 2 bullets de insight (contexto → hallazgo → implicación).\n"
   ]
  },
  {
   "cell_type": "markdown",
   "id": "81fd6394",
   "metadata": {},
   "source": [
    "---\n",
    "## 4) Mini‑Caso de Cierre (15–20 min)\n",
    "**Stakeholder:** CEO  \n",
    "**Pregunta:** ¿Cómo evolucionaron las ventas de *Laptop* y *Smartphone* en el último trimestre por región?\n",
    "\n",
    "**Tareas:**\n",
    "1. Asegura columna `Month` correcta.\n",
    "2. Calcula `Total_Sales` por `Month`, `Region`, `Product` (filtro en Laptop/Smartphone).\n",
    "3. Crea gráfico comparativo.\n",
    "4. Redacta **2–3 insights** útiles para decisión de presupuesto.\n",
    "\n",
    "> **Entrega sugerida:** hoja `Summary` con KPIs, tabla, gráfico y sección “Insights”.\n"
   ]
  },
  {
   "cell_type": "markdown",
   "id": "ba4b26a1",
   "metadata": {},
   "source": [
    "---\n",
    "## Apéndice: Tips de clase / Soluciones guía (para el Tutor)\n",
    "- Verifica que el `XLOOKUP` tenga coincidencia exacta (0/FALSE) y que no haya espacios ocultos → usa `TRIM()` en origen y destino.\n",
    "- Para crecimiento **MoM**: ordena los meses cronológicamente (usa una columna `Month_Key = YEAR*100+MONTH`).\n",
    "- Usa **nombre de rangos** o **Tablas** en Excel para fórmulas legibles (`TablaVentas[Total_Sales]`).\n",
    "- Si el dataset tiene pocos meses, explica diferencia entre **tasa de crecimiento** y **variación absoluta**.\n",
    "- **Leading vs Lagging**: valida con ejemplos del propio negocio de los estudiantes para afianzar.\n"
   ]
  },
  {
   "cell_type": "code",
   "execution_count": null,
   "id": "be9fb5c8-8ba1-4648-83d1-468f9e5c3656",
   "metadata": {},
   "outputs": [],
   "source": []
  }
 ],
 "metadata": {
  "kernelspec": {
   "display_name": "Python 3 (ipykernel)",
   "language": "python",
   "name": "python3"
  },
  "language_info": {
   "codemirror_mode": {
    "name": "ipython",
    "version": 3
   },
   "file_extension": ".py",
   "mimetype": "text/x-python",
   "name": "python",
   "nbconvert_exporter": "python",
   "pygments_lexer": "ipython3",
   "version": "3.12.3"
  }
 },
 "nbformat": 4,
 "nbformat_minor": 5
}
