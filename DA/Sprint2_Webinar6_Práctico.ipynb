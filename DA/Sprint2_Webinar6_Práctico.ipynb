{
 "cells": [
  {
   "cell_type": "markdown",
   "id": "e0f78119",
   "metadata": {},
   "source": [
    "# Sprint 2 - Webinar 6 - Clase 120 min: Warm‑Up Proyecto Walmart\n",
    "**Enfoque:** ejercicios guiados *similares* al proyecto, **sin solución completa**  \n",
    "**Fecha:** 2025-09-16  \n",
    "**Trabajo en:** Excel o Google Sheets (sin Python/pandas)  \n",
    "**Archivo base:** `sp2_Projecto 2 _ Student.xlsx`  \n",
    "**Datasets del proyecto (referencia):** `sales.csv`, `stores.csv`, `departments.csv`\n",
    "\n",
    "> ⚠️ Este cuaderno NO resuelve el proyecto. Solo deja el camino iniciado con prácticas muy parecidas. Tu entrega final debe completarse en el Excel adjunto."
   ]
  },
  {
   "cell_type": "markdown",
   "id": "c7b6a66d-8469-4c26-853a-d66c5acf6f9b",
   "metadata": {},
   "source": [
    "<div style=\"text-align: center\">\n",
    "    <img src=\"https://raw.githubusercontent.com/ljpiere/tpdata_python/main/images/3_11.png\" width=\"400\">\n",
    "</div>"
   ]
  },
  {
   "cell_type": "markdown",
   "id": "bd86e967",
   "metadata": {},
   "source": [
    "## Material\n",
    "- **Datasets (CSV):** `sp2_w4_walmart_sales.csv`, `sp2_w4_walmart_stores.csv`, `sp2_w4_walmart_departments.csv`\n",
    "- **Herramienta:** Google Sheets (100% práctica, sin código)\n",
    "- **Salida:** libro con hojas `raw_*`, `clean_sales`, `kpi_*`, `dashboard`, `README`, `QA_checks`, `change_log`\n",
    "\n",
    "## Objetivos de la sesión\n",
    "1) Importar y **limpiar** ventas por tienda/departamento/semana.  \n",
    "2) **Enriquecer** ventas con **Type**, **Size** (tienda) y **dept_name** (catálogo).  \n",
    "3) Calcular 3 **KPIs** clave: eficiencia (ventas/m²), crecimiento interanual (YoY), participación por depto.  \n",
    "4) Construir un **dashboard** simple (3 gráficos + 2 KPIs + segmentadores).  \n",
    "5) Documentar QA y decisiones (README + change_log).\n",
    "\n",
    "> **Tiempo total:** ≤ 190 min."
   ]
  },
  {
   "cell_type": "markdown",
   "id": "36a2b84f",
   "metadata": {},
   "source": [
    "## Agenda (≤ 190 min)\n",
    "1. **Preparación** (5 min)  \n",
    "2. **Parte 1 — Limpieza** (25 min)  \n",
    "3. **Parte 2 — Enriquecimiento** (35 min)  \n",
    "4. **Parte 3 — KPIs** (70 min total)  \n",
    "   - KPI 1: Eficiencia (25 min)  \n",
    "   - KPI 2: Crecimiento YoY (25 min)  \n",
    "   - KPI 3: Participación por depto (20 min)  \n",
    "5. **Parte 4 — Dashboard** (40 min)  \n",
    "6. **Parte 5 — Comunicación (C→F→I)** (10 min)  \n",
    "7. **Parte 6 — QA & README** (5 min)  \n",
    "8. **Cierre** (5 min)\n",
    "\n",
    "## Cierre\n",
    "- Guardar una **copia** del Sheets “_final”.  \n",
    "- Entregar URL o archivo exportado (xlsx)."
   ]
  },
  {
   "cell_type": "markdown",
   "id": "881a4d9f",
   "metadata": {},
   "source": [
    "## Preparación (5 min)\n",
    "1) Crea un Google Sheets **vacío**.  \n",
    "2) **Archivo → Importar → Subir** cada CSV:  \n",
    "   - `sp2_w4_walmart_sales.csv` → hoja **`raw_sales`**  \n",
    "   - `sp2_w4_walmart_stores.csv` → hoja **`raw_stores`**  \n",
    "   - `sp2_w4_walmart_departments.csv` → hoja **`raw_departments`**  \n",
    "3) **Congela** fila 1 y activa filtros en cada hoja.  \n",
    "4) Crea **`change_log`** y registra: fecha, acción, autor (ej.: “importé raw_*”)."
   ]
  },
  {
   "cell_type": "markdown",
   "id": "2c0df458",
   "metadata": {},
   "source": [
    "# Parte 1 — Limpieza (25 min) - Breakout rooms\n",
    "\n",
    "\n",
    "### 1.1 Duplica y renombra\n",
    "- Duplica `raw_sales` → **`clean_sales`** (nunca edites la raw).\n",
    "\n",
    "### 1.2 Normaliza tipos y texto\n",
    "- Verifica **encabezados**: `Store`, `Dept`, `Date`, `Weekly_Sales`, `IsHoliday`.\n",
    "- **Fecha**: Selecciona la columna `Date` → Formato **Fecha** (YYYY‑MM‑DD).\n",
    "- **Numéricos**: Asegúrate que `Weekly_Sales` sea **número** (sin comas como texto).\n",
    "- **Texto**: `Store`, `Dept`, `IsHoliday` como **texto** (sin espacios extra).  \n",
    "  - Tip: columna auxiliar para limpiar: `=TRIM(CLEAN(A2))` si detectas rarezas.\n",
    "\n",
    "### 1.3 Semana estándar\n",
    "- Agrega columnas nuevas en `clean_sales`:\n",
    "  - **Year** (G): `=YEAR(C2)`  (si `Date` está en C)\n",
    "  - **Week** (H): `=WEEKNUM(C2, 2)` *(2 = semana inicia en lunes)*\n",
    "- Copia hacia abajo.\n",
    "\n",
    "### ✍️  Registra cualquier corrección en `change_log`.\n",
    "\n",
    "### ✅ Checklist salida mínima\n",
    "- `clean_sales` con columnas: `Store`, `Dept`, `Date`, `Weekly_Sales`, `IsHoliday`, `Year`, `Week`.\n",
    "- Tipos coherentes y fechas válidas."
   ]
  },
  {
   "cell_type": "markdown",
   "id": "88b877c4",
   "metadata": {},
   "source": [
    "# Parte 2 — Enriquecimiento (35 min)\n",
    "\n",
    "**Fundamento:** integrar **dimensiones** de tienda y catálogo para análisis multivista.\n",
    "\n",
    "### 2.1 Añade dimensiones desde `raw_stores`\n",
    "En `clean_sales`, inserta columnas nuevas al final:\n",
    "- **Type**: `=XLOOKUP(A2, raw_stores!A:A, raw_stores!B:B, \"No Match\")`  \n",
    "  (A = `Store` en `clean_sales`)\n",
    "- **Size**: `=XLOOKUP(A2, raw_stores!A:A, raw_stores!C:C, \"No Match\")`\n",
    "\n",
    "### 2.2 Añade catálogo desde `raw_departments`\n",
    "- **dept_name**: `=XLOOKUP(B2, raw_departments!A:A, raw_departments!B:B, \"No Match\")`  \n",
    "  (B = `Dept` en `clean_sales`)\n",
    "\n",
    "### 2.3 Verificación y limpieza\n",
    "- Filtra “**No Match**” y corrige llaves inconsistentes.\n",
    "- Muestra **estadísticos rápidos** en una esquina (usando funciones):  \n",
    "  - Total filas: `=COUNTA(A2:A)`  \n",
    "  - Ventas totales: `=SUM(D:D)` (D = `Weekly_Sales`)\n",
    "  - Nº tiendas únicas: `=COUNTA(UNIQUE(A2:A))`\n",
    "  - Nº deptos únicos: `=COUNTA(UNIQUE(B2:B))`\n",
    "\n",
    "### Salida mínima\n",
    "- `clean_sales` con: `Store`, `Dept`, `Date`, `Weekly_Sales`, `IsHoliday`, `Year`, `Week`, `Type`, `Size`, `dept_name`.  \n",
    "- Sin “No Match” (o documentados en `change_log`)."
   ]
  },
  {
   "cell_type": "markdown",
   "id": "79d649ff",
   "metadata": {},
   "source": [
    "# Parte 3 — KPIs (70 min)\n",
    "\n",
    "## KPI 1 — Eficiencia (Ventas por m²) (25 min)\n",
    "**Definición:** `Sales_per_m2 = SUM(Weekly_Sales) / AVG(Size)` por **Store**.  \n",
    "**Teoría:** productividad del espacio (Retail Analytics).\n",
    "\n",
    "**Pasos (Sheets):**\n",
    "1) **Insertar → Tabla dinámica** desde `clean_sales` (nueva hoja `kpi_efficiency`).  \n",
    "2) **Filas:** `Store`  \n",
    "3) **Valores:**  \n",
    "   - `Weekly_Sales` → **SUMA**  \n",
    "   - `Size` → **PROMEDIO**  \n",
    "4) **Campo calculado**: `Sales_per_m2 = SUM(Weekly_Sales) / AVERAGE(Size)`  \n",
    "5) **Ordenar** por `Sales_per_m2` (descendente).  \n",
    "6) **Top‑10 gráfico**: selecciona los 10 primeros → **Insertar → Gráfico (Barras)**.\n",
    "\n",
    "**Checks:**\n",
    "- ¿Total coincide con `=SUM(clean_sales!D:D)`?  \n",
    "- ¿Tiendas grandes poco eficientes? Anota hipótesis en un cuadro de texto.\n",
    "\n",
    "---\n",
    "\n",
    "## KPI 2 — Crecimiento interanual (YoY) (25 min)\n",
    "**Definición:** `YoY = (Sales_{Y} − Sales_{Y−1}) / Sales_{Y−1}` por **Region** (o Store/Dept).\n",
    "\n",
    "**Pasos (Sheets):**\n",
    "1) Asegura columna `Year` en `clean_sales`.  \n",
    "2) **Insertar → Tabla dinámica** (hoja `kpi_growth`):  \n",
    "   - **Filas:** `Year`  \n",
    "   - **Columnas:** `Region` *(si no existe, usar `Type` o `Store`)*  \n",
    "   - **Valores:** `Weekly_Sales` → **SUMA**  \n",
    "3) En celdas adyacentes, calcula para cada región:  \n",
    "   - `=(B3 - B2) / B2`  → formatea como **%** (2 decimales).  \n",
    "4) **Gráfico**: líneas por región (o barras agrupadas por año).\n",
    "\n",
    "**Checks:**\n",
    "- ¿Año base con 0 o nulo? Evita división por 0 (usa `IFERROR`).\n",
    "\n",
    "---\n",
    "\n",
    "## KPI 3 — Participación por departamento (20 min)\n",
    "**Definición:** `Share = Sales_dept / Sales_total`.\n",
    "\n",
    "**Pasos (Sheets):**\n",
    "1) **Insertar → Tabla dinámica** (hoja `kpi_share`):  \n",
    "   - **Filas:** `dept_name`  \n",
    "   - **Valores:** `Weekly_Sales` → **SUMA**  \n",
    "2) Si tu editor permite: **Mostrar como → % del total**.  \n",
    "   - Alternativa fuera de Pivot: `=C2 / SUM($C$2:$C$1000)`  \n",
    "3) **Gráfico**: barras horizontales.  \n",
    "4) Interpreta top‑3 departamentos y su mix (¿concentran >50%?)."
   ]
  },
  {
   "cell_type": "markdown",
   "id": "4ace84c6",
   "metadata": {},
   "source": [
    "# Parte 4 — Dashboard (40 min)\n",
    "\n",
    "## 4.1 Estructura de la hoja `dashboard`\n",
    "- Crea hoja **`dashboard`** (en blanco).  \n",
    "- Reserva la fila 1 para **título y fecha** (ej. “Dashboard Walmart — Última actualización: =TODAY()”).\n",
    "\n",
    "## 4.2 Trae KPIs al Dashboard\n",
    "- **Card 1 — Ventas totales (rango fechas)**:  \n",
    "  En B2: `Fecha inicio`, C2: `Fecha fin`.  \n",
    "  En D2: `=SUMIFS(clean_sales!D:D, clean_sales!C:C, \">=\"&$B$2, clean_sales!C:C, \"<=\"&$C$2)`  \n",
    "- **Card 2 — Ticket (promedio por unidad o por m²)** (elige una):  \n",
    "  - Ticket por unidad: `=SUM(clean_sales!D:D) / SUMIFS(clean_sales!<unidades>, ...)` *(si tuvieras unidades)*  \n",
    "  - **Promedio por m²**: `=SUM(clean_sales!D:D) / AVERAGE(clean_sales!I:I)` *(I = Size)*  \n",
    "  Formatea como moneda.\n",
    "\n",
    "## 4.3 Visualización\n",
    "- **Gráfico 1 (Top‑10 eficiencia)**: vincula a `kpi_efficiency`.  \n",
    "- **Gráfico 2 (YoY por región)**: vincula a `kpi_growth`.  \n",
    "- **Gráfico 3 (Share por depto)**: vincula a `kpi_share`.\n",
    "\n",
    "## 4.4 Segmentadores y formato\n",
    "- **Datos → Segmentador** para `Year` y `Type` (o `Store`). Conéctalos a las Pivots.  \n",
    "- Formato: máximo **3–4 colores**, títulos claros, ejes monetarios con símbolo.  \n",
    "\n",
    "### ✍️ Tu turno\n",
    "- Redacta 3 **insights** en un cuadro: *qué pasó, por qué, qué hacer*.  \n",
    "- Asigna **responsable** y **fecha objetivo** para 2 acciones.\n",
    "\n",
    "### Para proyecto (extra)\n",
    "- Añade segmentador por `IsHoliday` y analiza efecto en ventas."
   ]
  },
  {
   "cell_type": "markdown",
   "id": "c78c8aae",
   "metadata": {},
   "source": [
    "# Parte 5 — C→F→I (10 min)\n",
    "**Cifras → Factores → Iniciativas**\n",
    "\n",
    "- **Cifras (qué pasó):** resume 3 hallazgos (con valores).  \n",
    "- **Factores (por qué):** hipótesis (precio, mix, promos, tamaño).  \n",
    "- **Iniciativas (qué hacer):** 2–3 acciones, con **due date** y **owner**.\n",
    "\n",
    "Ejemplo de bullet:\n",
    "- *C:* “Top‑10 tiendas aportan 58% de ventas; 3 con baja eficiencia.”  \n",
    "- *F:* “Tamaño alto con mix de departamentos de baja rotación.”  \n",
    "- *I:* “Ajustar surtido y planograma en esas 3 tiendas (Owner: Ops, Fecha: 30 días).”"
   ]
  },
  {
   "cell_type": "markdown",
   "id": "711fd06c",
   "metadata": {},
   "source": [
    "# Parte 6 — QA & README (5 min)\n",
    "\n",
    "### 6.1 Hoja `README`\n",
    "Incluye: objetivo, datasets fuente, definición de KPIs, supuestos, pendientes, autor/fecha.\n",
    "\n",
    "### 6.2 Hoja `QA_checks`\n",
    "- Totales coinciden: `=SUM(clean_sales!D:D)` ≟ suma en Pivots.  \n",
    "- Sin “No Match” en Type/Size/dept_name.  \n",
    "- Fechas válidas y semanas completas.  \n",
    "- Sin divisiones por cero en YoY.\n",
    "\n",
    "### Para proyecto (extra)\n",
    "- Documenta **cambios estructurales** que harías si esto fuera producción (nombres estandarizados, validaciones automáticas, etc.)."
   ]
  },
  {
   "cell_type": "markdown",
   "id": "bfde3572",
   "metadata": {},
   "source": [
    "## Entregables mínimos tras la clase\n",
    "- `clean_sales` completo y consistente.  \n",
    "- `kpi_efficiency`, `kpi_growth`, `kpi_share` funcionales.  \n",
    "- `dashboard` con 3 gráficos + 2 KPIs + segmentadores.  \n",
    "- `README`, `QA_checks`, `change_log` con entradas básicas."
   ]
  },
  {
   "cell_type": "markdown",
   "id": "bf184c07",
   "metadata": {},
   "source": [
    "## Rúbrica parcial sugerida (10 pts)\n",
    "1) Limpieza y llaves (2)  \n",
    "2) Enriquecimiento correcto (2)  \n",
    "3) KPIs replicables y bien calculados (3)  \n",
    "4) Dashboard legible y útil (2)  \n",
    "5) README/QA mínimos (1)"
   ]
  },
  {
   "cell_type": "markdown",
   "id": "ae3cf93b",
   "metadata": {},
   "source": [
    "## Tips rápidos\n",
    "- Si una Pivot no permite “% del total”, calcula fuera con división sobre el total.  \n",
    "- Usa `IFERROR` para evitar #DIV/0!: `=IFERROR((B3-B2)/B2,\"\")`.  \n",
    "- Segmentadores: conéctalos a la Pivot correcta desde el panel del segmentador.  \n",
    "- Congela encabezados y usa formato de moneda/porcentaje según corresponda."
   ]
  }
 ],
 "metadata": {
  "kernelspec": {
   "display_name": "Python 3 (ipykernel)",
   "language": "python",
   "name": "python3"
  },
  "language_info": {
   "codemirror_mode": {
    "name": "ipython",
    "version": 3
   },
   "file_extension": ".py",
   "mimetype": "text/x-python",
   "name": "python",
   "nbconvert_exporter": "python",
   "pygments_lexer": "ipython3",
   "version": "3.12.3"
  }
 },
 "nbformat": 4,
 "nbformat_minor": 5
}
