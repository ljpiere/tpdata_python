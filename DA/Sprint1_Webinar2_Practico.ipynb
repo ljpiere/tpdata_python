{
 "cells": [
  {
   "cell_type": "markdown",
   "id": "e5932ddc-6215-485c-aa2c-216d7511b731",
   "metadata": {
    "id": "e5932ddc-6215-485c-aa2c-216d7511b731"
   },
   "source": [
    "# Sprint 1 - Webinar 2: Data Cleanup Basics & Turning Data into Insights\n",
    "\n",
    "**Clase teórica (sin ejecución de código).**  \n",
    "**Caso base:** `taylor_swift_da_intro.xlsx` (hojas: `raw_songs`, `raw_albums`, `data_dictionary`, `change_log`, `summary_template`).  \n",
    "**Fecha:** 2025-08-18"
   ]
  },
  {
   "cell_type": "markdown",
   "id": "0331d1d0-19ec-4c6f-8582-f4b038a06d9f",
   "metadata": {
    "id": "0331d1d0-19ec-4c6f-8582-f4b038a06d9f"
   },
   "source": [
    "<div style=\"text-align: center\">\n",
    "    <img src=\"https://raw.githubusercontent.com/ljpiere/tpdata_python/main/images/w2s1.jpg\" width=\"500\">\n",
    "</div>"
   ]
  },
  {
   "cell_type": "markdown",
   "id": "280a73c4",
   "metadata": {
    "id": "280a73c4"
   },
   "source": [
    "---\n"
   ]
  },
  {
   "cell_type": "markdown",
   "id": "7ba372cd",
   "metadata": {
    "id": "7ba372cd"
   },
   "source": [
    "## Introducción\n",
    "En esta sesión aprenderás a **detectar y corregir problemas comunes de calidad de datos** y a **transformar columnas** para preparar la información antes del análisis. Luego, convertirás los datos limpios en **métricas y visualizaciones** claras para comunicar hallazgos.\n",
    "\n",
    "Usaremos el archivo de Taylor Swift como hilo conductor. La práctica operativa será en Excel/Google Sheets (no dentro de este notebook).\n",
    "\n",
    "---\n",
    "\n",
    "## Objetivos de aprendizaje\n",
    "Al finalizar podrás:\n",
    "1. **Identificar y corregir** duplicados, valores faltantes y entradas inconsistentes en un dataset en Google Sheets.\n",
    "2. **Aplicar funciones básicas** (TRIM, UPPER, SPLIT, JOIN) y formatos de fecha/número para estandarizar columnas.\n",
    "3. **Estructurar un flujo de trabajo** organizado mediante renombrado de hojas, uso de una bitácora `change_log` y organización visual.  \n",
    "4. **Calcular estadísticos resumen** (SUM, COUNT, AVERAGE, MIN, MAX, MEDIAN) y explicar el efecto de valores nulos.\n",
    "5. **Crear un gráfico básico** en Google Sheets y redactar conclusiones breves que comuniquen hallazgos.\n",
    "6. **Usar un LLM** para pedir sugerencias de visualización en Google Sheets y evaluar la seguridad y pertinencia de las respuestas.\n",
    "\n",
    "---\n",
    "## Material\n",
    "- Táctica: Hands-on Together\n",
    "- Adjunto: sp1_w1_taylor_swift_da_intro\n",
    "- Kahoot: W2_Sprint1 (finalizando sesión)\n",
    "---\n",
    "\n",
    "## Agenda\n",
    "**Bienvenida + Introducción**\n",
    "\n",
    "- Contexto de la sesión y objetivos\n",
    "- Explicación del dataset taylor_swift_da_intro.xlsx y del uso del change_log\n",
    "\n",
    "**Revisión de teoría**\n",
    "- Detecting & Fixing Data Quality Issues (duplicados, faltantes, inconsistencias)\n",
    "- Transforming Columns (TRIM, UPPER, SPLIT, JOIN, formatos de fecha/número)\n",
    "- Creating Clear Workflows (renombrado de hojas, uso de `change_log`, organización visual)\n",
    "- Summary Statistics (SUM, COUNT, AVERAGE, MIN, MAX, MEDIAN, efecto de nulos)\n",
    "- Communicating Results with Graphs (principios básicos)\n",
    "- 🤖 Uso de LLM para sugerir visualizaciones en Google Sheets\n",
    "\n",
    "**Aplicación guiada (Ejercicios en Excel/Google Sheets)**\n",
    "- Ejercicio 1 — Duplicados y faltantes\n",
    "- Ejercicio 2 — Transformación de columnas\n",
    "- Ejercicio 3 — Flujo claro\n",
    "- Ejercicio 4 — Resumen y gráfico\n",
    "- Ejercicio 5 — 🤖 LLM para visualizaciones\n",
    "\n",
    "**Cierre**\n",
    "- Q&A\n",
    "- Repaso de aprendizajes y próximos pasos\n",
    "- Ejercicios opcionales en Excel/Sheets (para reforzar fuera del notebook)"
   ]
  },
  {
   "cell_type": "markdown",
   "id": "d62bf95b",
   "metadata": {
    "id": "d62bf95b"
   },
   "source": [
    "---\n",
    "## 1) Detecting & Fixing Data Quality Issues\n",
    "**Objetivo:** identificar errores típicos y establecer **reglas de corrección** antes de tocar los datos.\n",
    "\n",
    "**Checklist de detección (en `raw_songs`):**\n",
    "- **Duplicados**: filas idénticas o casi idénticas (e.g., misma `Song` + `Album` + `Release Date`).  \n",
    "- **Faltantes**: celdas vacías o nulas (e.g., `Spotify Streams (M)` en blanco).  \n",
    "- **Inconsistencias**: booleanos con variantes (`Yes/No/1/0/TRUE/FALSE`), números con símbolos/comas/espacios, `Duration` en `mm:ss` **o** en segundos.  \n",
    "- **Ruido de formato**: espacios extra, mayúsculas/minúsculas mezcladas, separadores variados en `Writers`.\n",
    "\n",
    "**Estrategias de corrección (defínelas antes):**\n",
    "- **Duplicados** → regla de unicidad (clave compuesta) y criterio de conservación (la fila con más campos completos, o la primera).  \n",
    "- **Faltantes** → quitar, imputar o marcar para revisión (depende de la criticidad de la columna).  \n",
    "- **Booleanos** → normalizar a {TRUE, FALSE}.  \n",
    "- **Números** → quitar símbolos/espacios, unificar separador decimal y convertir a número.  \n",
    "- **Fechas** → estandarizar a ISO `YYYY-MM-DD` (y documentar).\n",
    "\n",
    "**Median vs Mean (cuándo usar cada una):**  \n",
    "- **Mean (promedio)** es sensible a outliers.  \n",
    "- **Median (mediana)** es robusta cuando hay valores extremos o errores remanentes.\n"
   ]
  },
  {
   "cell_type": "markdown",
   "id": "1890357a",
   "metadata": {
    "id": "1890357a"
   },
   "source": [
    "---\n",
    "## 2) Transforming Columns\n",
    "**Objetivo:** homogeneizar texto, fechas, números y listas para análisis confiable.\n",
    "\n",
    "**Funciones útiles (Excel/Sheets):**\n",
    "- **Texto:** `TRIM` (quitar espacios), `UPPER/LOWER/PROPER`, `SUBSTITUTE/SUSTITUIR`, `CLEAN`.  \n",
    "- **Listas en celdas:** `SPLIT` para separar (`Writers`), `TEXTSPLIT` en Excel moderno; `JOIN/TEXTO.UNIR` para recombinar con separador único `;`.  \n",
    "- **Fechas:** `DATEVALUE/FECHA.VALOR`, formato de celda **Fecha**, `Texto en Columnas` (Excel) o **Dividir texto en columnas** (Sheets).  \n",
    "- **Números:** `VALUE/VALOR` tras limpiar símbolos, coma decimal, espacios.\n",
    "\n",
    "**Casos del dataset:**\n",
    "- **`Duration`**: convertir `mm:ss` → segundos (columna auxiliar y luego pegar valores).  \n",
    "- **`Writers`**: unificar separador a `;` (SPLIT por varios separadores y luego JOIN).  \n",
    "- **`Explicit`**: mapear todas las variantes → TRUE/FALSE.  \n",
    "- **Streams/Views (M)**: quitar signos/comas/espacios y convertir a número.\n"
   ]
  },
  {
   "cell_type": "markdown",
   "id": "e006f8e0",
   "metadata": {
    "id": "e006f8e0"
   },
   "source": [
    "---\n",
    "## 3) Creating Clear Workflows\n",
    "**Objetivo:** que tu archivo sea entendible sin tu presencia (claridad = *stakeholder trust*).\n",
    "\n",
    "**Buenas prácticas:**\n",
    "- **No edites** `raw_songs`; crea `clean_songs`.  \n",
    "- **Renombra** hojas siguiendo un patrón (`raw_*`, `clean_*`, `summary_*`).  \n",
    "- **Congela** encabezados; aplica **formato** consistente (número, fecha, texto).  \n",
    "- **`change_log`**: registra **quién/cuándo/qué** y ejemplos *antes/después*.  \n",
    "- **Diseño visual**: espaciado, encabezados, colores suaves, notas breves explicando cambios claves.\n"
   ]
  },
  {
   "cell_type": "markdown",
   "id": "13df7455",
   "metadata": {
    "id": "13df7455"
   },
   "source": [
    "---\n",
    "## 4) Summary Statistics\n",
    "**Objetivo:** responder preguntas básicas del negocio con datos limpios.\n",
    "\n",
    "**Funciones:** `SUM`, `COUNT`, `COUNTA`, `AVERAGE`, `MIN`, `MAX`, `MEDIAN` (y **COUNTIF/COUNTIFS**).  \n",
    "- **Tratamiento de nulos:** confirman si la función ignora vacíos o devuelve error y documenta tu decisión (e.g., excluir filas sin Streams).  \n",
    "- **Ejemplos de preguntas:**  \n",
    "  - ¿Cuántas canciones únicas hay?  \n",
    "  - ¿Promedio de `Spotify Streams (M)` vs mediana?  \n",
    "  - ¿Cuántas están marcadas `Explicit = TRUE`?  \n",
    "  - ¿Qué álbum tiene mayor `Total Streams (B)` según `raw_albums`?\n"
   ]
  },
  {
   "cell_type": "markdown",
   "id": "b9708a17",
   "metadata": {
    "id": "b9708a17"
   },
   "source": [
    "---\n",
    "## 5) Communicating results with graphs\n",
    "**Objetivo:** construir un gráfico **simple y legible** para el stakeholder.\n",
    "\n",
    "**Guía:**\n",
    "- Elige **barra** (top 5 canciones por `Spotify Streams (M)`) o **línea** (tendencia temporal si usas fechas).  \n",
    "- **Títulos/etiquetas** claros; ordena por valor; limita categorías para evitar ruido.  \n",
    "- Explica el **insight** en una o dos frases: *“Las canciones X, Y y Z concentran la mayor parte del desempeño; sugerimos priorizarlas en la campaña.”*\n"
   ]
  },
  {
   "cell_type": "markdown",
   "id": "f6f62ff0",
   "metadata": {
    "id": "f6f62ff0"
   },
   "source": [
    "---\n",
    "## 6) 🤖 LLM para sugerir visualizaciones en Google Sheets\n",
    "**Objetivo:** usar IA como copiloto para **proponer** visualizaciones, no para decidir por ti.\n",
    "\n",
    "**Plantilla de prompt:**\n",
    "- **Contexto:** “Tengo `clean_songs` con columnas X, Y, Z (estructura; no pego datos sensibles).”  \n",
    "- **Objetivo:** “Quiero una visualización para comparar el top 5 por Streams y otra por Views.”  \n",
    "- **Restricciones:** “Solo funciones nativas; dame pasos y justifica la elección del gráfico.”  \n",
    "- **Salida:** “Dame un plan en 5 pasos + recomendaciones de formato (títulos/etiquetas/orden).”\n",
    "\n",
    "**Buenas prácticas:** valida lo sugerido, mide legibilidad, y **documenta** en `change_log` si adoptas la recomendación.\n"
   ]
  },
  {
   "cell_type": "markdown",
   "id": "79fff7d3",
   "metadata": {
    "id": "79fff7d3"
   },
   "source": [
    "---\n",
    "## 7) Ejercicios en Excel/Google Sheets (paso a paso con el dataset de Taylor Swift)\n",
    "\n",
    "> **Archivos:** `taylor_swift_da_intro.xlsx`  \n",
    "> Documenta TODO en `change_log` con ejemplo **antes/después**.\n",
    "\n",
    "### Ejercicio 1 — Duplicados y faltantes (15–20 min)\n",
    "1. Duplica `raw_songs` → `clean_songs`.  \n",
    "2. Quita **duplicados** usando clave `Song + Album + Release Date`.  \n",
    "3. Filtra **faltantes** en `Spotify Streams (M)` y `YouTube Views (M)` y define qué hacer (eliminar o marcar para revisión).\n",
    "\n",
    "**Entrega:** `clean_songs` sin duplicados; faltantes tratados.\n",
    "\n",
    "---\n",
    "\n",
    "### Ejercicio 2 — Transformación de columnas (20–25 min)\n",
    "1. `Explicit` → TRUE/FALSE (mapeo de variantes).  \n",
    "2. `Duration` (`mm:ss`) → **segundos** (columna auxiliar + pegar valores).  \n",
    "3. `Writers` → separador único `;` (reemplazos + `SPLIT` + `TRIM` + `JOIN`).  \n",
    "4. Streams/Views → limpiar símbolos/comas/espacios y convertir a **número** (`VALUE/VALOR`).\n",
    "\n",
    "**Entrega:** tipos correctos y columnas homogéneas.\n",
    "\n",
    "---\n",
    "\n",
    "### Ejercicio 3 — Flujo claro (10–15 min)\n",
    "1. Revisa formatos de celda (fecha/número/texto).  \n",
    "2. Deja notas breves explicando tus reglas de limpieza.  \n",
    "3. Completa `change_log` con 3–5 pasos clave.\n",
    "\n",
    "**Entrega:** archivo legible y trazable.\n",
    "\n",
    "---\n",
    "\n",
    "### Ejercicio 4 — Resumen y gráfico (20 min)\n",
    "1. En `summary_template`, calcula **al menos 5 métricas** (ej.: Total/Únicos/Promedio/Mediana/Explícitas).  \n",
    "2. Construye un **gráfico de barras** (top 5 por Streams o Views).  \n",
    "3. Escribe **3 insights** y **1 recomendación**.\n",
    "\n",
    "**Entrega:** `summary_template` final + gráfico.\n",
    "\n",
    "---\n",
    "\n",
    "### Ejercicio 5 — 🤖 LLM para visualizaciones (10 min)\n",
    "1. Usa la plantilla de la sección 6 y solicita **dos** propuestas de gráficos (con justificación).  \n",
    "2. Implementa una y deja constancia en `change_log` que fue sugerida por IA.\n",
    "\n",
    "**Entrega:** gráfico implementado + nota en `change_log`.\n"
   ]
  },
  {
   "cell_type": "markdown",
   "id": "82b8ce57",
   "metadata": {
    "id": "82b8ce57"
   },
   "source": [
    "---\n",
    "## Rúbrica sugerida (evaluación formativa)\n",
    "- Detección/corrección de calidad (duplicados, faltantes, consistencia) — **30%**  \n",
    "- Transformaciones de columna (texto/fecha/número/listas) — **25%**  \n",
    "- Flujo claro y `change_log` completo — **15%**  \n",
    "- Estadísticos resumen correctos y tratamiento de nulos — **15%**  \n",
    "- Gráfico claro + narrativa — **10%**  \n",
    "- Uso responsable de IA documentado — **5%**\n",
    "\n",
    "## Cierre\n",
    "- Primero **limpiar**, luego **analizar** y finalmente **comunicar**.  \n",
    "- Las reglas explícitas y la trazabilidad inspiran confianza.  \n",
    "- Un gráfico simple y una narrativa concisa son más efectivos que complejos sin contexto.\n",
    "\n",
    "## Siguientes Pasos\n",
    "- **Próxima sesión:** profundizaremos en el ecosistema de datos y en el flujo de punta a punta.\n",
    "- **Participación continua:** asistir a Co-Learning y a Sprint Focus, y usar los canales de Discord para hacer preguntas.\n",
    "- **Recordatorios:** la grabación y recursos utilizados, se comparten al finalizar la sesión; en caso de necesitar apoyo adicional, agenda un 1:1."
   ]
  }
 ],
 "metadata": {
  "colab": {
   "provenance": []
  },
  "kernelspec": {
   "display_name": "Python 3 (ipykernel)",
   "language": "python",
   "name": "python3"
  },
  "language_info": {
   "codemirror_mode": {
    "name": "ipython",
    "version": 3
   },
   "file_extension": ".py",
   "mimetype": "text/x-python",
   "name": "python",
   "nbconvert_exporter": "python",
   "pygments_lexer": "ipython3",
   "version": "3.12.3"
  }
 },
 "nbformat": 4,
 "nbformat_minor": 5
}
