{
 "cells": [
  {
   "cell_type": "markdown",
   "id": "e0f78119",
   "metadata": {
    "id": "e0f78119"
   },
   "source": [
    "# Sprint 2 - Webinar 6 - Clase 120 min: Warm‑Up Proyecto Walmart\n",
    "**Enfoque:** ejercicios guiados *similares* al proyecto, **sin solución completa**  \n",
    "**Fecha:** 2025-09-16  \n",
    "**Trabajo en:** Excel o Google Sheets (sin Python/pandas)  \n",
    "**Archivo base:** `sp2_Projecto 2 _ Student.xlsx`  \n",
    "**Datasets del proyecto (referencia):** `sales.csv`, `stores.csv`, `departments.csv`\n",
    "\n",
    "> ⚠️ Este cuaderno NO resuelve el proyecto. Solo deja el camino iniciado con prácticas muy parecidas. Tu entrega final debe completarse en el Excel adjunto."
   ]
  },
  {
   "cell_type": "markdown",
   "id": "c52a4247-8d30-4fec-867b-947036eb26c5",
   "metadata": {},
   "source": [
    "<div style=\"text-align: center\">\n",
    "    <img src=\"https://raw.githubusercontent.com/ljpiere/tpdata_python/main/images/3_11.png\" width=\"400\">\n",
    "</div>"
   ]
  },
  {
   "cell_type": "markdown",
   "id": "bd86e967",
   "metadata": {
    "id": "bd86e967"
   },
   "source": [
    "## Material\n",
    "- Metodología: Breakout Rooms\n",
    "- Kahoot: W6_Sprint2 (finalizando sesión)\n",
    "\n",
    "## Objetivos de la sesión\n",
    "- Empezar el **pipeline de análisis**: limpiar → enriquecer → resumir → bosquejar dashboard.  \n",
    "- Construir **KPIs de práctica** (análogos a los del proyecto): eficiencia, participación, volatilidad.  \n",
    "- Preparar **insumos** para tu dashboard y resumen ejecutivo **C→F→I**.  \n",
    "- Dejar intencionalmente partes **sin completar** para que avances fuera de clase.\n"
   ]
  },
  {
   "cell_type": "markdown",
   "id": "36a2b84f",
   "metadata": {
    "id": "36a2b84f"
   },
   "source": [
    "## Agenda (120 min)\n",
    "**Bienvenida + Introducción**\n",
    "1) **Preparación & reglas del juego** (5 min)  \n",
    "2) **Parte 1. Limpieza (mini‑versión)** (20–30 min)  \n",
    "3) **Parte 2. Enriquecimiento (mini‑versión)** (20–30 min)  \n",
    "4) **Parte 3. KPIs con tablas dinámicas** (20–30 min)  \n",
    "5) **Parte 4. Bosquejo de dashboard** (20–30 min)  \n",
    "6) **Parte 5. C→F→I (borrador)** (10–15 min)  \n",
    "\n",
    "\n",
    "## Cierre\n",
    "\n",
    "7) **Parte 6. QA & README (borrador)** (5–10 min)\n",
    "- Kahoot\n",
    "- Repaso de aprendizajes y próximos pasos"
   ]
  },
  {
   "cell_type": "markdown",
   "id": "881a4d9f",
   "metadata": {
    "id": "881a4d9f"
   },
   "source": [
    "## Preparación (5 min)\n",
    "- Abre `sp2_Projecto 2 _ Student.xlsx` en Excel/Sheets.  \n",
    "- Si tu archivo ya incluye pestañas **raw_sales**, **raw_stores**, **raw_departments**, úsalas. Si no, crea tres hojas y pega ahí los datos de `sales.csv`, `stores.csv`, `departments.csv` (o sus equivalentes).  \n",
    "- **No usaremos código**. Todo se hace con funciones nativas, tablas y PivotTables.\n",
    "\n",
    "**Convenciones de nombres (recomendado):**\n",
    "- Ventas: `Store | Dept | Date | Weekly_Sales | IsHoliday`  \n",
    "- Tiendas: `Store | Type | Size`  \n",
    "- Departamentos: `Dept | dept_name`  \n",
    "*(Si tu localización usa separadores `;` en fórmulas, adáptalos).*"
   ]
  },
  {
   "cell_type": "markdown",
   "id": "2c0df458",
   "metadata": {
    "id": "2c0df458"
   },
   "source": [
    "# Parte 1 — Limpieza (20–30 min)\n",
    "**Objetivo:** dejar una tabla de ventas semanal 2012 limpia, consistente y documentada.\n",
    "\n",
    "### 1.1 Duplica y renombra\n",
    "1) Duplica `raw_sales` → **`clean_sales`** (marcar en verde).  \n",
    "2) Asegura nombres de columnas normalizados: `Store`, `Dept`, `Date`, `Weekly_Sales`, `IsHoliday`.\n",
    "\n",
    "### 1.2 Normaliza tipos y texto\n",
    "- Quita espacios: `=TRIM(A2)`  \n",
    "- Unifica mayúsculas/minúsculas si aplica: `UPPER()` / `LOWER()` / `PROPER()`  \n",
    "- Verifica `Date` como fecha real (no texto).  \n",
    "- Asegura `Weekly_Sales` numérico.\n",
    "\n",
    "### 1.3 Semana estándar\n",
    "Crea **`week_key`** para agrupar por semana ISO:\n",
    "\n",
    "```excel\n",
    "=YEAR([@Date]) & \"-\" & TEXT(WEEKNUM([@Date], 2), \"00\")\n",
    "```\n",
    "*(Si no usas tablas, reemplaza `[@Date]` por la celda correspondiente.)*\n",
    "\n",
    "### Tu turno (ejercicios)\n",
    "- E1. Arregla 2–3 filas con fechas o ventas inconsistentes (elige ejemplos).  \n",
    "- E2. Marca con una columna auxiliar `flag_outlier` los registros con `Weekly_Sales <= 0` o fuera de rango (elige el umbral).  \n",
    "- E3. Filtra el año **2012** (si tu raw tiene varios años) y deja una copia como **`clean_sales_2012`**.\n",
    "\n",
    "### Checklist rápido (salida mínima)\n",
    "- [ ] Hoja `clean_sales` consistente.  \n",
    "- [ ] Columna `week_key` creada.  \n",
    "- [ ] Documentaste *qué corregiste* en un cuadro de texto o notas.\n",
    "\n",
    "### Deja sin resolver (para proyecto)\n",
    "- Documentación exhaustiva de reglas de limpieza.  \n",
    "- Tratamiento de valores nulos/duplicados a nivel avanzado."
   ]
  },
  {
   "cell_type": "markdown",
   "id": "88b877c4",
   "metadata": {
    "id": "88b877c4"
   },
   "source": [
    "# Parte 2 — Enriquecimiento (20–30 min)\n",
    "**Objetivo:** anexar `Type` y `Size` desde tiendas y `dept_name` desde departamentos a la tabla limpia.\n",
    "\n",
    "Trabaja sobre **`clean_sales_2012`** y crea **`sales_enriched`**.\n",
    "\n",
    "### 2.1 Trae datos de tiendas\n",
    "- Con `XLOOKUP` o `VLOOKUP` por `Store` desde `raw_stores`:  \n",
    "  - `Type` (A/B/C)  \n",
    "  - `Size` (m²)\n",
    "\n",
    "### 2.2 Trae nombres de departamento\n",
    "- Con `XLOOKUP`/`VLOOKUP` por `Dept` desde `raw_departments`:  \n",
    "  - `dept_name`\n",
    "\n",
    "### 2.3 Verificaciones básicas\n",
    "- ¿Alguna `Store` sin `Type`/`Size`?  \n",
    "- ¿Algún `Dept` sin `dept_name`?  \n",
    "- Crea una columna `qa_note` para marcar hallazgos.\n",
    "\n",
    "### Tu turno (ejercicios)\n",
    "- E4. Inserta `Type` y `Size` con `XLOOKUP`.  \n",
    "- E5. Inserta `dept_name` con `XLOOKUP`.  \n",
    "- E6. Construye una pequeña tabla (3 filas) con **tiendas sin match** y otra con **depts sin match**.\n",
    "\n",
    "### Checklist rápido\n",
    "- [ ] Hoja `sales_enriched` con columnas: `Store | Dept | Date | Weekly_Sales | IsHoliday | week_key | Type | Size | dept_name`.\n",
    "\n",
    "### Deja sin resolver (para proyecto)\n",
    "- Diccionario de datos formal y bitácora de supuestos."
   ]
  },
  {
   "cell_type": "markdown",
   "id": "79d649ff",
   "metadata": {
    "id": "79d649ff"
   },
   "source": [
    "# Parte 3 — KPIs con Tablas Dinámicas (20–30 min)\n",
    "**Objetivo:** crear 3 Pivots de práctica análogos a los KPIs del proyecto.**\n",
    "\n",
    "Crea una hoja **`pivots`**. A partir de `sales_enriched` inserta PivotTables.\n",
    "\n",
    "## KPI 1 (práctica): Eficiencia — Ventas por m²\n",
    "**Idea:** `SUM(Weekly_Sales) / AVERAGE(Size)` por tienda o por departamento.\n",
    "\n",
    "**Pasos sugeridos:**  \n",
    "1) Pivot por **Store** (o `dept_name`).  \n",
    "2) Valores: **SUM Weekly_Sales**, **AVERAGE Size**.  \n",
    "3) **Campo calculado**: `sales_per_m2 = SUM(Weekly_Sales) / AVERAGE(Size)`.\n",
    "\n",
    "**E7:** arma la Pivot y ordena **descendente `sales_per_m2`**.\n",
    "\n",
    "## KPI 2 (práctica): Participación del departamento\n",
    "**Idea:** `% del total` por `dept_name`.\n",
    "\n",
    "**Pasos:**  \n",
    "1) Pivot por **dept_name**.  \n",
    "2) Valores: **SUM Weekly_Sales** mostrado como **% del total** (porfila o global).  \n",
    "3) (Opcional) Segmenta por **Type**.\n",
    "\n",
    "**E8:** genera ranking Top N de `dept_name` por % participación.\n",
    "\n",
    "## KPI 3 (práctica): Volatilidad — Coeficiente de Variación (CV)\n",
    "**Idea:** `STDEV / AVERAGE` de Weekly_Sales por `dept_name` o `Store` en 2012.\n",
    "\n",
    "**Pasos:**  \n",
    "1) Pivot por **dept_name** (o `Store`).  \n",
    "2) Valores: **SUM**, **STDEV**, **AVERAGE** de `Weekly_Sales`.  \n",
    "3) **Campo calculado**: `cv = STDEV(Weekly_Sales) / AVERAGE(Weekly_Sales)`.\n",
    "\n",
    "*Recuerda:* CV bajo → estable; CV alto → volátil.\n",
    "\n",
    "**E9:** identifica **3 áreas** con CV alto para vigilar.\n",
    "\n",
    "### Deja sin resolver (para proyecto)\n",
    "- Ajustes por **IsHoliday** u otros filtros de calendario.  \n",
    "- Comparativas por **Type A/B/C** con normalizaciones adicionales."
   ]
  },
  {
   "cell_type": "markdown",
   "id": "4ace84c6",
   "metadata": {
    "id": "4ace84c6"
   },
   "source": [
    "# Parte 4 — Bosquejo de Dashboard (20–30 min)\n",
    "**Objetivo:** montar una hoja `Dashboard` funcional con 3 KPIs y 1 gráfico, **sin pulir del todo**.\n",
    "\n",
    "### 4.1 Selector de departamento (entrada)\n",
    "1) En `Dashboard!B2` crea un **menú desplegable** con los `dept_name` (Validación de datos).  \n",
    "2) Añade un texto guía: *“Selecciona un departamento”*.\n",
    "\n",
    "### 4.2 Trae KPIs al Dashboard\n",
    "Usa `XLOOKUP`/`VLOOKUP`/`INDEX+MATCH` contra tus Pivots para mostrar:\n",
    "1) **Ventas por m²** del depto seleccionado.  \n",
    "2) **% participación** de ese depto.  \n",
    "3) **CV** (volatilidad) del depto.\n",
    "\n",
    "### 4.3 Visualización\n",
    "- Gráfico de **barras** con `sales_per_m2` por `dept_name`.  \n",
    "- Opcional: otro gráfico para participación.\n",
    "\n",
    "### 4.4 Formato de tarjetas KPI (rápido)\n",
    "- Título en negrita, valor grande (18–24pt).  \n",
    "- Formato numérico consistente; semáforos con **formato condicional** (p.ej., CV > 0.5 en rojo).\n",
    "\n",
    "### Tu turno (ejercicios)\n",
    "- E10. Construye 3 **tarjetas KPI** enlazadas a `B2`.  \n",
    "- E11. Inserta 1 gráfico y ordénalo de mayor a menor.  \n",
    "- E12. Aplica 1 regla de formato condicional relevante.\n",
    "\n",
    "### Deja sin resolver (para proyecto)\n",
    "- Slicers, diseño visual profesional, comparaciones interanuales."
   ]
  },
  {
   "cell_type": "markdown",
   "id": "c78c8aae",
   "metadata": {
    "id": "c78c8aae"
   },
   "source": [
    "# Parte 5 — C→F→I (borrador) (10–15 min)\n",
    "**Objetivo:** redactar 2–3 mensajes ejecutivos sin revelar todos los hallazgos.**\n",
    "\n",
    "**Plantilla (Context → Finding → Implication):**\n",
    "- **Contexto:** *(qué segmento, periodo, unidad de análisis)*  \n",
    "- **Hallazgo:** *(qué patrón destaca)*  \n",
    "- **Implicación:** *(qué decisión sugiere)*\n",
    "\n",
    "**E13 (escribe 2–3 statements):**\n",
    "1) C→F→I sobre **eficiencia** (ventas por m²).  \n",
    "2) C→F→I sobre **participación**.  \n",
    "3) C→F→I sobre **volatilidad**.\n",
    "\n",
    "*No incluyas números finales aquí; los afinarás fuera de clase.*"
   ]
  },
  {
   "cell_type": "markdown",
   "id": "711fd06c",
   "metadata": {
    "id": "711fd06c"
   },
   "source": [
    "# Parte 6 — QA & README (borrador) (5–10 min)\n",
    "**Objetivo:** dejar una primera versión de control de calidad y documentación.**\n",
    "\n",
    "### 6.1 Hoja `README` (estructura sugerida)\n",
    "- Objetivo del archivo (1 frase).  \n",
    "- Listado de hojas y su contenido.  \n",
    "- Definición breve de KPIs (nombre, fórmula, interpretación).  \n",
    "- Supuestos/limitaciones.\n",
    "\n",
    "### 6.2 Hoja `QA_checks` (plantilla)\n",
    "| Chequeo | Cómo verificar | Fórmula/Regla | Resultado |\n",
    "|---|---|---|---|\n",
    "| Ventas totales Pivot = Raw | Sumar ambas | `SUM()` |  |\n",
    "| Ventas <= 0 | Filtro/condicional | `<=0` |  |\n",
    "| Stores sin Type/Size | XLOOKUP sin match | `IFERROR()` |  |\n",
    "| Tamaños en 0 | Filtro | `=0` |  |\n",
    "| CV > 2.0 | Pivot CV | `cv > 2` |  |\n",
    "\n",
    "Agrega más validaciones específicas de tu archivo.\n",
    "\n",
    "### Deja sin resolver (para proyecto)\n",
    "- Documentación completa de QA con evidencias (capturas/valores)."
   ]
  },
  {
   "cell_type": "markdown",
   "id": "bfde3572",
   "metadata": {
    "id": "bfde3572"
   },
   "source": [
    "## Entregables mínimos tras la clase (borradores)\n",
    "- `clean_sales` y `sales_enriched` (o equivalentes).  \n",
    "- 3 Pivots: **sales_per_m2**, **participación**, **cv**.  \n",
    "- Hoja `Dashboard` con selector + 3 KPIs + 1 gráfico.  \n",
    "- 2–3 C→F→I preliminares.  \n",
    "- Hojas `README` y `QA_checks` con estructura creada."
   ]
  },
  {
   "cell_type": "markdown",
   "id": "bf184c07",
   "metadata": {
    "id": "bf184c07"
   },
   "source": [
    "## Rúbrica parcial sugerida (10 pts)\n",
    "- Limpieza & week_key (2)  \n",
    "- Enriquecimiento con XLOOKUP (2)  \n",
    "- Pivots de 3 KPIs (3)  \n",
    "- Bosquejo de Dashboard (2)  \n",
    "- C→F→I preliminar + QA/README esqueleto (1)\n",
    "\n",
    "> **Nota:** esta rúbrica es solo para la práctica en clase; la del proyecto final puede diferir."
   ]
  },
  {
   "cell_type": "markdown",
   "id": "ae3cf93b",
   "metadata": {
    "id": "ae3cf93b"
   },
   "source": [
    "## Tips rápidos\n",
    "- Convierte rangos a **Tablas** (Ctrl/Cmd+T) para que las Pivots se actualicen bien.  \n",
    "- En Sheets, considera **Slicers** para filtros visuales.  \n",
    "- Si tus fórmulas usan `;` en vez de `,`, adapta los ejemplos.  \n",
    "- Deja comentarios en celdas con decisiones de limpieza.  \n",
    "- Guarda **versiones** del archivo antes de grandes cambios.\n",
    "\n",
    "## Cierre\n",
    "\n",
    "- Kahoot\n",
    "- Repaso de aprendizajes y próximos pasos\n",
    "\n",
    "## Siguientes Pasos\n",
    "\n",
    "- **Participación continua:** asistir a Co-Learning y a Sprint Focus, y usar los canales de Discord para hacer preguntas.\n",
    "- **Recordatorios:** la grabación y recursos utilizados, se comparten al finalizar la sesión; en caso de necesitar apoyo adicional, agenda un 1:1."
   ]
  }
 ],
 "metadata": {
  "colab": {
   "provenance": []
  },
  "kernelspec": {
   "display_name": "Python 3 (ipykernel)",
   "language": "python",
   "name": "python3"
  },
  "language_info": {
   "codemirror_mode": {
    "name": "ipython",
    "version": 3
   },
   "file_extension": ".py",
   "mimetype": "text/x-python",
   "name": "python",
   "nbconvert_exporter": "python",
   "pygments_lexer": "ipython3",
   "version": "3.12.3"
  }
 },
 "nbformat": 4,
 "nbformat_minor": 5
}
