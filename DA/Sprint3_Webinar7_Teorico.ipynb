{
 "cells": [
  {
   "cell_type": "markdown",
   "id": "e329a6c3",
   "metadata": {},
   "source": [
    "\n",
    "# Sprint 3 — Webinar 7 Teórico  \n",
    "## Explorar KPIs Financieros con SQL (con esquema *Books*)\n",
    "\n",
    "**Duración total:** 1h 20 min  \n",
    "- Parte 1 (20 min): Fundamentos de BD relacionales (tablas, PK/FK, ERD)  \n",
    "- Parte 2 (20 min): Consultas básicas — `SELECT`, `WHERE`, `ORDER BY`  \n",
    "- Parte 3 (25 min): Agregaciones — `GROUP BY`, funciones, cortes por fecha  \n",
    "- Parte 4 (15 min): Buenas prácticas + precisión con tipos de datos\n",
    "\n",
    "---\n",
    "\n",
    "### 🎯 Objetivos de aprendizaje\n",
    "- Entender la estructura de una BD relacional y su esquema (libros, autores, editoriales, ratings, reviews).  \n",
    "- Identificar llaves primarias y foráneas.  \n",
    "- Ejecutar consultas básicas para explorar, filtrar, ordenar y agrupar.  \n",
    "- Aplicar funciones de fecha y numéricas para KPIs.  \n",
    "- Detectar problemas de calidad de datos durante la exploración.\n"
   ]
  },
  {
   "cell_type": "markdown",
   "id": "a6763fcf",
   "metadata": {},
   "source": [
    "### Conexión a la base de datos"
   ]
  },
  {
   "cell_type": "code",
   "execution_count": null,
   "id": "061433ee",
   "metadata": {},
   "outputs": [],
   "source": [
    "\n",
    "from sqlalchemy import create_engine\n",
    "import pandas as pd\n",
    "\n",
    "pd.options.display.max_columns = None\n",
    "\n",
    "db_config = {\n",
    " 'user': 'practicum_student', # username\n",
    " 'pwd': 'QnmDH8Sc2TQLvy2G3Vvh7', # password\n",
    " 'host': 'yp-trainers-practicum.cluster-czs0gxyx2d8w.us-east-1.rds.amazonaws.com',\n",
    " 'port': 5432, \n",
    " 'db': 'data-analyst-final-project-db'\n",
    "}\n",
    "\n",
    "connection_string = 'postgresql://{}:{}@{}:{}/{}'.format(\n",
    "    db_config['user'],\n",
    "    db_config['pwd'],\n",
    "    db_config['host'],\n",
    "    db_config['port'],\n",
    "    db_config['db']\n",
    ")\n",
    "\n",
    "engine = create_engine(connection_string, connect_args={'sslmode':'require'})\n"
   ]
  },
  {
   "cell_type": "markdown",
   "id": "1335d717",
   "metadata": {},
   "source": [
    "\n",
    "## 🧠 Introducción a SQL (Structured Query Language)\n",
    "\n",
    "**SQL** es el lenguaje estándar para **consultar, modificar y analizar** datos en bases de datos relacionales como PostgreSQL, MySQL o SQL Server.\n",
    "\n",
    "### ¿Qué es SQL?\n",
    "Es un **lenguaje declarativo**: describes *qué* información necesitas y el motor decide *cómo* obtenerla.\n",
    "\n",
    "**Ejemplo simple:**\n",
    "```sql\n",
    "SELECT title, num_pages\n",
    "FROM books\n",
    "WHERE num_pages > 300;\n",
    "```\n",
    "\n",
    "### ¿Cómo funciona una consulta?\n",
    "1. El cliente (Jupyter/IDE) envía la consulta.  \n",
    "2. El motor SQL la analiza y valida.  \n",
    "3. El optimizador elige el plan de ejecución (índices, joins, etc.).  \n",
    "4. Se ejecuta y retorna un **conjunto de filas y columnas**.\n",
    "\n",
    "### ¿En qué ámbitos se usa?\n",
    "- **Data Analyst:** extraer, limpiar y resumir datos para KPIs y dashboards.  \n",
    "- **Data Scientist:** preparar datasets para modelos.  \n",
    "- **Data Engineer:** construir pipelines sobre RDBMS.  \n",
    "- **BI / Producto / Finanzas:** consultas directas para métricas de negocio.\n",
    "\n",
    "En finanzas y negocio se usa para **ingresos, costos, márgenes, ticket promedio, tendencias temporales** y **cohortes**.\n",
    "\n",
    "### Comandos fundamentales\n",
    "- `SELECT` (lectura), `WHERE` (filtros), `ORDER BY` (orden), `GROUP BY/HAVING` (agregaciones), `JOIN` (unir tablas), subconsultas, funciones (`COUNT`, `AVG`, `SUM`, `ROUND`, etc.).\n",
    "\n",
    "### Importancia para Data Analyst\n",
    "- Acceso directo a los datos.  \n",
    "- Respuestas rápidas sin ETL complejo.  \n",
    "- **KPIs reproducibles** desde fuentes confiables.\n",
    "\n",
    "**Flujo típico:** SQL → (opcional) Pandas → Visualización (BI/Notebook).\n",
    "\n",
    "### 💡 Tips iniciales\n",
    "1. Empieza simple y *valida filtros* antes de unir/agrupar.  \n",
    "2. Comenta tu SQL y usa alias claros (`AS`).  \n",
    "3. Evita `SELECT *` en producción; **especifica columnas**.  \n",
    "4. Usa `LIMIT` al explorar.  \n",
    "5. Formatea e indenta para facilitar lectura y mantenimiento.\n"
   ]
  },
  {
   "cell_type": "markdown",
   "id": "e490b0dd",
   "metadata": {},
   "source": [
    "\n",
    "## 1) Entendiendo el esquema relacional (20 min)\n",
    "\n",
    "**Tablas y campos principales** (esquema de ejemplo):\n",
    "\n",
    "- **books**: `book_id` (PK), `author_id` (FK), `title`, `num_pages`, `publication_date`, `publisher_id` (FK)  \n",
    "- **authors**: `author_id` (PK), `author`  \n",
    "- **publishers**: `publisher_id` (PK), `publisher`  \n",
    "- **ratings**: `rating_id` (PK), `book_id` (FK), `username`, `rating`  \n",
    "- **reviews**: `review_id` (PK), `book_id` (FK), `username`, `text`\n",
    "\n",
    "> Relaciones clave:  \n",
    "> `books.author_id` → `authors.author_id`  \n",
    "> `books.publisher_id` → `publishers.publisher_id`  \n",
    "> `ratings.book_id` → `books.book_id`  \n",
    "> `reviews.book_id` → `books.book_id`\n"
   ]
  },
  {
   "cell_type": "markdown",
   "id": "b21b01b0",
   "metadata": {},
   "source": [
    "\n",
    "**Exploración inicial:** listamos tablas y vemos una muestra de su contenido.\n"
   ]
  },
  {
   "cell_type": "code",
   "execution_count": null,
   "id": "17fb57c7",
   "metadata": {},
   "outputs": [],
   "source": [
    "\n",
    "# Listar tablas del esquema (si el usuario tiene permisos)\n",
    "query = \"\"\"\n",
    "SELECT table_name\n",
    "FROM information_schema.tables\n",
    "WHERE table_schema='public'\n",
    "ORDER BY table_name;\n",
    "\"\"\"\n",
    "tables = pd.io.sql.read_sql(query, con=engine)\n",
    "tables\n"
   ]
  },
  {
   "cell_type": "code",
   "execution_count": null,
   "id": "ac344f17",
   "metadata": {},
   "outputs": [],
   "source": [
    "\n",
    "# Vista rápida de cada tabla clave (ajusta LIMIT si lo deseas)\n",
    "for tbl in [\"books\", \"authors\", \"publishers\", \"ratings\", \"reviews\"]:\n",
    "    try:\n",
    "        print(f\"\\n===== {tbl} =====\")\n",
    "        df = pd.io.sql.read_sql(f\"SELECT * FROM {tbl} LIMIT 5;\", con=engine)\n",
    "        display(df)\n",
    "    except Exception as e:\n",
    "        print(f\"⚠️ No se pudo leer {tbl}: {e}\")\n"
   ]
  },
  {
   "cell_type": "markdown",
   "id": "460bf031",
   "metadata": {},
   "source": [
    "\n",
    "### 🧩 Ejercicio 1\n",
    "- Identifica qué columnas pueden funcionar como **PK** y **FK**.  \n",
    "- ¿Qué preguntas de negocio podrías responder con este esquema? (p. ej., *promedio de calificaciones por editorial*, *cantidad de libros por autor/a*, *evolución anual de publicaciones*).\n"
   ]
  },
  {
   "cell_type": "markdown",
   "id": "fbfc3676",
   "metadata": {},
   "source": [
    "\n",
    "## 2) Llaves primarias, foráneas y relaciones (10 min)\n",
    "\n",
    "- **PK (Primary Key):** asegura unicidad por fila (ej. `books.book_id`).  \n",
    "- **FK (Foreign Key):** referencia a otra tabla (ej. `books.author_id` → `authors.author_id`).  \n",
    "\n",
    "Estas llaves articulan el modelo relacional y permiten combinar información de diferentes tablas.\n"
   ]
  },
  {
   "cell_type": "code",
   "execution_count": null,
   "id": "477cc35b",
   "metadata": {},
   "outputs": [],
   "source": [
    "\n",
    "# Catálogo de columnas de 'books'\n",
    "books_cols = pd.io.sql.read_sql(\"\"\"\n",
    "SELECT column_name, data_type\n",
    "FROM information_schema.columns\n",
    "WHERE table_name = 'books'\n",
    "ORDER BY ordinal_position;\n",
    "\"\"\", con=engine)\n",
    "books_cols\n"
   ]
  },
  {
   "cell_type": "markdown",
   "id": "7e52287c",
   "metadata": {},
   "source": [
    "\n",
    "### 🧩 Ejercicio 2\n",
    "Marca (en papel o mentalmente) las relaciones entre `books`, `authors`, `publishers`, `ratings` y `reviews`.  \n",
    "Piensa cómo combinarías tablas para responder a: “¿Qué editorial publica libros con mejores calificaciones promedio?”\n"
   ]
  },
  {
   "cell_type": "markdown",
   "id": "382c6c51",
   "metadata": {},
   "source": [
    "\n",
    "## 3) Inspeccionar tablas con SQL (10 min)\n",
    "\n",
    "Usaremos consultas sencillas para entender los datos y detectar posibles problemas de calidad (valores nulos, constantes, fechas extrañas).\n"
   ]
  },
  {
   "cell_type": "code",
   "execution_count": null,
   "id": "b3ae0bc4",
   "metadata": {},
   "outputs": [],
   "source": [
    "\n",
    "# Inspección simple\n",
    "books = pd.io.sql.read_sql(\"\"\"\n",
    "SELECT *\n",
    "FROM books\n",
    "LIMIT 10;\n",
    "\"\"\", con=engine)\n",
    "display(books.head())\n"
   ]
  },
  {
   "cell_type": "markdown",
   "id": "c6e1aeff",
   "metadata": {},
   "source": [
    "\n",
    "**Observa:** tipos de datos, rangos, valores faltantes o atípicos.  \n",
    "Anota columnas clave para KPIs: `num_pages` (proxy de magnitud), `publication_date` (tiempo), ratings/reviews (calidad/percepción).\n"
   ]
  },
  {
   "cell_type": "markdown",
   "id": "441cef56",
   "metadata": {},
   "source": [
    "\n",
    "## 4) Consultas básicas: `SELECT`, `WHERE`, `ORDER BY` (20 min)\n"
   ]
  },
  {
   "cell_type": "code",
   "execution_count": null,
   "id": "39f9503b",
   "metadata": {},
   "outputs": [],
   "source": [
    "\n",
    "# Seleccionar columnas específicas\n",
    "q = \"\"\"\n",
    "SELECT book_id, title, num_pages, publication_date\n",
    "FROM books\n",
    "LIMIT 10;\n",
    "\"\"\"\n",
    "res = pd.io.sql.read_sql(q, con=engine)\n",
    "display(res)\n"
   ]
  },
  {
   "cell_type": "code",
   "execution_count": null,
   "id": "b3119440",
   "metadata": {},
   "outputs": [],
   "source": [
    "\n",
    "# Filtrar por condición numérica y fecha\n",
    "q = \"\"\"\n",
    "SELECT book_id, title, num_pages, publication_date\n",
    "FROM books\n",
    "WHERE num_pages >= 300\n",
    "  AND publication_date >= DATE '2000-01-01'\n",
    "ORDER BY publication_date DESC\n",
    "LIMIT 20;\n",
    "\"\"\"\n",
    "res = pd.io.sql.read_sql(q, con=engine)\n",
    "display(res)\n"
   ]
  },
  {
   "cell_type": "markdown",
   "id": "3e029f44",
   "metadata": {},
   "source": [
    "\n",
    "### 🧩 Ejercicio 3\n",
    "Devuelve todos los libros publicados entre **2010-01-01** y **2020-12-31** con más de **250** páginas, ordenados por `num_pages` descendente.\n"
   ]
  },
  {
   "cell_type": "code",
   "execution_count": null,
   "id": "e663f8aa",
   "metadata": {},
   "outputs": [],
   "source": [
    "\n",
    "# Ordenar resultados: top N por páginas\n",
    "q = \"\"\"\n",
    "SELECT book_id, title, num_pages\n",
    "FROM books\n",
    "ORDER BY num_pages DESC\n",
    "LIMIT 10;\n",
    "\"\"\"\n",
    "top_pages = pd.io.sql.read_sql(q, con=engine)\n",
    "display(top_pages)\n"
   ]
  },
  {
   "cell_type": "markdown",
   "id": "5fc594df",
   "metadata": {},
   "source": [
    "\n",
    "## 5) Agrupar y agregar datos con `GROUP BY` (25 min)\n",
    "\n",
    "Funciones agregadas: `COUNT`, `AVG`, `SUM`, `MIN`, `MAX`.  \n",
    "KPIs ejemplo:  \n",
    "- Promedio de calificación por libro/editorial.  \n",
    "- Número de libros por autor/a.  \n",
    "- Publicaciones por año.\n"
   ]
  },
  {
   "cell_type": "code",
   "execution_count": null,
   "id": "5c802ab3",
   "metadata": {},
   "outputs": [],
   "source": [
    "\n",
    "# Promedio de calificación por libro (si existe tabla ratings)\n",
    "q = \"\"\"\n",
    "SELECT\n",
    "  r.book_id,\n",
    "  b.title,\n",
    "  ROUND(AVG(r.rating), 2) AS avg_rating,\n",
    "  COUNT(*) AS n_ratings\n",
    "FROM ratings r\n",
    "JOIN books b ON b.book_id = r.book_id\n",
    "GROUP BY r.book_id, b.title\n",
    "HAVING COUNT(*) >= 5\n",
    "ORDER BY avg_rating DESC, n_ratings DESC\n",
    "LIMIT 10;\n",
    "\"\"\"\n",
    "ratings_by_book = pd.io.sql.read_sql(q, con=engine)\n",
    "display(ratings_by_book)\n"
   ]
  },
  {
   "cell_type": "code",
   "execution_count": null,
   "id": "a3e1fcfe",
   "metadata": {},
   "outputs": [],
   "source": [
    "\n",
    "# Libros por autor/a\n",
    "q = \"\"\"\n",
    "SELECT\n",
    "  a.author,\n",
    "  COUNT(b.book_id) AS books_count\n",
    "FROM authors a\n",
    "LEFT JOIN books b ON b.author_id = a.author_id\n",
    "GROUP BY a.author\n",
    "ORDER BY books_count DESC, a.author ASC\n",
    "LIMIT 10;\n",
    "\"\"\"\n",
    "books_per_author = pd.io.sql.read_sql(q, con=engine)\n",
    "display(books_per_author)\n"
   ]
  },
  {
   "cell_type": "code",
   "execution_count": null,
   "id": "916d48be",
   "metadata": {},
   "outputs": [],
   "source": [
    "\n",
    "# Publicaciones por año\n",
    "q = \"\"\"\n",
    "SELECT\n",
    "  DATE_TRUNC('year', publication_date) AS pub_year,\n",
    "  COUNT(*) AS books_published\n",
    "FROM books\n",
    "GROUP BY 1\n",
    "ORDER BY 1;\n",
    "\"\"\"\n",
    "pubs_by_year = pd.io.sql.read_sql(q, con=engine)\n",
    "display(pubs_by_year.head())\n"
   ]
  },
  {
   "cell_type": "markdown",
   "id": "0d1133a2",
   "metadata": {},
   "source": [
    "\n",
    "### 🧩 Ejercicio 4\n",
    "Calcula el **promedio de calificación por editorial** (usando `publishers` + `books` + `ratings`) y muestra solo editoriales con **al menos 20 calificaciones**.\n"
   ]
  },
  {
   "cell_type": "markdown",
   "id": "1379aeb9",
   "metadata": {},
   "source": [
    "\n",
    "## 6) Precisión con tipos y funciones (10–15 min)\n",
    "\n",
    "- **Fechas:** `DATE_TRUNC('month'/'year', publication_date)` para cortes temporales.  \n",
    "- **Numéricos:** `ROUND(valor, 2)` para KPIs.  \n",
    "- **Casting:** `CAST(col AS NUMERIC)` si hay inconsistencias.\n",
    "\n",
    "> Aunque este esquema no es “financiero puro”, las mismas técnicas aplican para KPIs financieros: ingresos promedio por cliente, margen por categoría, *cohortes* por fecha, etc.\n"
   ]
  },
  {
   "cell_type": "code",
   "execution_count": null,
   "id": "5ea499db",
   "metadata": {},
   "outputs": [],
   "source": [
    "\n",
    "# Top editoriales por calificación media (umbral mínimo)\n",
    "q = \"\"\"\n",
    "SELECT\n",
    "  p.publisher,\n",
    "  ROUND(AVG(r.rating), 2) AS avg_rating,\n",
    "  COUNT(*) AS n_ratings\n",
    "FROM ratings r\n",
    "JOIN books b ON b.book_id = r.book_id\n",
    "JOIN publishers p ON p.publisher_id = b.publisher_id\n",
    "GROUP BY p.publisher\n",
    "HAVING COUNT(*) >= 20\n",
    "ORDER BY avg_rating DESC, n_ratings DESC\n",
    "LIMIT 10;\n",
    "\"\"\"\n",
    "top_publishers = pd.io.sql.read_sql(q, con=engine)\n",
    "display(top_publishers)\n"
   ]
  },
  {
   "cell_type": "markdown",
   "id": "4d48282f",
   "metadata": {},
   "source": [
    "\n",
    "## 7) Buenas prácticas para SQL limpio (10 min)\n",
    "\n",
    "- Palabras clave en **MAYÚSCULAS** (`SELECT`, `WHERE`, `GROUP BY`).  \n",
    "- Indentación consistente (una operación por línea).  \n",
    "- Alias claros (`AS`) y comentarios para lógica compleja.  \n",
    "- Usa `LIMIT` en exploración para controlar tiempos.  \n",
    "- Evita `SELECT *` en producción; especifica columnas.  \n",
    "- Nombres de columnas y tablas coherentes y expresivos.\n"
   ]
  },
  {
   "cell_type": "markdown",
   "id": "499559b6",
   "metadata": {},
   "source": [
    "\n",
    "### Bonus opcional (si hay tiempo): funciones de ventana\n",
    "Ejemplo de ranking de autores/as por calificación promedio (con umbral de calificaciones).\n"
   ]
  },
  {
   "cell_type": "code",
   "execution_count": null,
   "id": "9dc73bd7",
   "metadata": {},
   "outputs": [],
   "source": [
    "\n",
    "q = \"\"\"\n",
    "WITH author_rating AS (\n",
    "  SELECT\n",
    "    a.author_id,\n",
    "    a.author,\n",
    "    AVG(r.rating) AS avg_rating,\n",
    "    COUNT(r.rating_id) AS n_ratings\n",
    "  FROM authors a\n",
    "  JOIN books b ON b.author_id = a.author_id\n",
    "  JOIN ratings r ON r.book_id = b.book_id\n",
    "  GROUP BY a.author_id, a.author\n",
    "  HAVING COUNT(r.rating_id) >= 20\n",
    ")\n",
    "SELECT\n",
    "  author,\n",
    "  ROUND(avg_rating, 2) AS avg_rating,\n",
    "  n_ratings,\n",
    "  ROW_NUMBER() OVER (ORDER BY avg_rating DESC, n_ratings DESC) AS rank_by_rating\n",
    "FROM author_rating\n",
    "ORDER BY rank_by_rating\n",
    "LIMIT 10;\n",
    "\"\"\"\n",
    "author_rank = pd.io.sql.read_sql(q, con=engine)\n",
    "display(author_rank)\n"
   ]
  },
  {
   "cell_type": "markdown",
   "id": "ce359a12",
   "metadata": {},
   "source": [
    "\n",
    "---\n",
    "## Cierre\n",
    "\n",
    "- Navegamos un esquema relacional e identificamos PK/FK.  \n",
    "- Practicamos `SELECT`, `WHERE`, `ORDER BY` y `GROUP BY`.  \n",
    "- Aplicamos funciones de fecha/numéricas para construir KPIs (aquí, calidad/volumen).  \n",
    "- Las mismas técnicas se trasladan a KPIs financieros (ingresos, margen, ticket promedio, cohortes).\n",
    "\n",
    "**Próxima sesión (Webinar 8):**  \n",
    "JOINs, CTEs y subconsultas para KPIs financieros: ingresos por periodo, margen por categoría y retención.\n"
   ]
  },
  {
   "cell_type": "code",
   "execution_count": null,
   "id": "bed20b14-ade3-484c-88d1-85036b556407",
   "metadata": {},
   "outputs": [],
   "source": []
  }
 ],
 "metadata": {
  "kernelspec": {
   "display_name": "Python 3 (ipykernel)",
   "language": "python",
   "name": "python3"
  },
  "language_info": {
   "codemirror_mode": {
    "name": "ipython",
    "version": 3
   },
   "file_extension": ".py",
   "mimetype": "text/x-python",
   "name": "python",
   "nbconvert_exporter": "python",
   "pygments_lexer": "ipython3",
   "version": "3.12.3"
  }
 },
 "nbformat": 4,
 "nbformat_minor": 5
}
